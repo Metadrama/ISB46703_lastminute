{
  "cells": [
    {
      "cell_type": "markdown",
      "source": [
        "Group Name: Lastminute\n",
        "\n",
        "Lab Group: L03\n",
        "\n",
        "Data Engineering\n",
        "1. Muhammad Ameer Bin Idris         (52215124748) - Data Analysis\n",
        "\n",
        "2. Muhammad Ian Haiqal Bin Zulkarnain (52215124706) - Data Engineering\n",
        "\n",
        "3. Wan Aminnur Rasheed Bin Wan Zainol (52213122531) - Data Modelling\n",
        "\n"
      ],
      "metadata": {
        "id": "jd8ZelyVzZ5C"
      },
      "id": "jd8ZelyVzZ5C"
    },
    {
      "cell_type": "markdown",
      "source": [
        "#Task 1 - Data Engineer"
      ],
      "metadata": {
        "id": "wLf9jt319fkQ"
      },
      "id": "wLf9jt319fkQ"
    },
    {
      "cell_type": "markdown",
      "source": [
        "##1. Google Colab Setup\n"
      ],
      "metadata": {
        "id": "ygkMMVIA-MZZ"
      },
      "id": "ygkMMVIA-MZZ"
    },
    {
      "cell_type": "code",
      "source": [
        "# Mount Google Drive\n",
        "from google.colab import drive\n",
        "drive.mount('/content/drive')\n",
        "\n",
        "# Create a directory for your project data in Google Drive\n",
        "import os\n",
        "project_path = '/content/drive/My Drive/AnimalSubspeciesDataset'\n",
        "os.makedirs(project_path, exist_ok=True)\n",
        "%cd {project_path}"
      ],
      "metadata": {
        "colab": {
          "base_uri": "https://localhost:8080/"
        },
        "id": "7YvawLgx-YP_",
        "outputId": "d48e8f7b-8872-449c-c9dc-d2a88c0687c2"
      },
      "id": "7YvawLgx-YP_",
      "execution_count": null,
      "outputs": [
        {
          "output_type": "stream",
          "name": "stdout",
          "text": [
            "Mounted at /content/drive\n",
            "/content/drive/My Drive/AnimalSubspeciesDataset\n"
          ]
        }
      ]
    },
    {
      "cell_type": "markdown",
      "source": [
        "##2. Data Collection (Web Crawling)"
      ],
      "metadata": {
        "id": "v_XWBSYF-dxK"
      },
      "id": "v_XWBSYF-dxK"
    },
    {
      "cell_type": "markdown",
      "source": [
        "Web scraping techniques can be used to gather a huge number of photos for particular classes. Jmd_imagescraper (DuckDuckGo Image Scraper) is a handy library for Google Colab that makes the procedure easier."
      ],
      "metadata": {
        "id": "-8rtqsWB-s5B"
      },
      "id": "-8rtqsWB-s5B"
    },
    {
      "cell_type": "markdown",
      "source": [
        "Steps for Data Collection:"
      ],
      "metadata": {
        "id": "HLgVGz_x-ySl"
      },
      "id": "HLgVGz_x-ySl"
    },
    {
      "cell_type": "markdown",
      "source": [
        "\n",
        "\n",
        "*   Install jmd_imagescraper:\n",
        "\n",
        "\n",
        "\n",
        "\n",
        "\n",
        "\n",
        "\n"
      ],
      "metadata": {
        "id": "NYYzdZxH-3gw"
      },
      "id": "NYYzdZxH-3gw"
    },
    {
      "cell_type": "code",
      "source": [
        "!pip install jmd_imagescraper"
      ],
      "metadata": {
        "colab": {
          "base_uri": "https://localhost:8080/"
        },
        "id": "_cgM_jvH-ko0",
        "outputId": "08b1f692-1b8b-4164-a30b-9c145bd1add8"
      },
      "id": "_cgM_jvH-ko0",
      "execution_count": null,
      "outputs": [
        {
          "output_type": "stream",
          "name": "stdout",
          "text": [
            "Collecting jmd_imagescraper\n",
            "  Downloading jmd_imagescraper-1.0.2-py3-none-any.whl.metadata (2.2 kB)\n",
            "Requirement already satisfied: Pillow in /usr/local/lib/python3.11/dist-packages (from jmd_imagescraper) (11.2.1)\n",
            "Collecting bs4 (from jmd_imagescraper)\n",
            "  Downloading bs4-0.0.2-py2.py3-none-any.whl.metadata (411 bytes)\n",
            "Requirement already satisfied: fastprogress in /usr/local/lib/python3.11/dist-packages (from jmd_imagescraper) (1.0.3)\n",
            "Requirement already satisfied: ipywidgets in /usr/local/lib/python3.11/dist-packages (from jmd_imagescraper) (7.7.1)\n",
            "Requirement already satisfied: pandas in /usr/local/lib/python3.11/dist-packages (from jmd_imagescraper) (2.2.2)\n",
            "Requirement already satisfied: pathlib in /usr/local/lib/python3.11/dist-packages (from jmd_imagescraper) (1.0.1)\n",
            "Requirement already satisfied: requests in /usr/local/lib/python3.11/dist-packages (from jmd_imagescraper) (2.32.3)\n",
            "Requirement already satisfied: beautifulsoup4 in /usr/local/lib/python3.11/dist-packages (from bs4->jmd_imagescraper) (4.13.4)\n",
            "Requirement already satisfied: ipykernel>=4.5.1 in /usr/local/lib/python3.11/dist-packages (from ipywidgets->jmd_imagescraper) (6.17.1)\n",
            "Requirement already satisfied: ipython-genutils~=0.2.0 in /usr/local/lib/python3.11/dist-packages (from ipywidgets->jmd_imagescraper) (0.2.0)\n",
            "Requirement already satisfied: traitlets>=4.3.1 in /usr/local/lib/python3.11/dist-packages (from ipywidgets->jmd_imagescraper) (5.7.1)\n",
            "Requirement already satisfied: widgetsnbextension~=3.6.0 in /usr/local/lib/python3.11/dist-packages (from ipywidgets->jmd_imagescraper) (3.6.10)\n",
            "Requirement already satisfied: ipython>=4.0.0 in /usr/local/lib/python3.11/dist-packages (from ipywidgets->jmd_imagescraper) (7.34.0)\n",
            "Requirement already satisfied: jupyterlab-widgets>=1.0.0 in /usr/local/lib/python3.11/dist-packages (from ipywidgets->jmd_imagescraper) (3.0.15)\n",
            "Requirement already satisfied: numpy>=1.23.2 in /usr/local/lib/python3.11/dist-packages (from pandas->jmd_imagescraper) (2.0.2)\n",
            "Requirement already satisfied: python-dateutil>=2.8.2 in /usr/local/lib/python3.11/dist-packages (from pandas->jmd_imagescraper) (2.9.0.post0)\n",
            "Requirement already satisfied: pytz>=2020.1 in /usr/local/lib/python3.11/dist-packages (from pandas->jmd_imagescraper) (2025.2)\n",
            "Requirement already satisfied: tzdata>=2022.7 in /usr/local/lib/python3.11/dist-packages (from pandas->jmd_imagescraper) (2025.2)\n",
            "Requirement already satisfied: charset-normalizer<4,>=2 in /usr/local/lib/python3.11/dist-packages (from requests->jmd_imagescraper) (3.4.2)\n",
            "Requirement already satisfied: idna<4,>=2.5 in /usr/local/lib/python3.11/dist-packages (from requests->jmd_imagescraper) (3.10)\n",
            "Requirement already satisfied: urllib3<3,>=1.21.1 in /usr/local/lib/python3.11/dist-packages (from requests->jmd_imagescraper) (2.4.0)\n",
            "Requirement already satisfied: certifi>=2017.4.17 in /usr/local/lib/python3.11/dist-packages (from requests->jmd_imagescraper) (2025.4.26)\n",
            "Requirement already satisfied: debugpy>=1.0 in /usr/local/lib/python3.11/dist-packages (from ipykernel>=4.5.1->ipywidgets->jmd_imagescraper) (1.8.0)\n",
            "Requirement already satisfied: jupyter-client>=6.1.12 in /usr/local/lib/python3.11/dist-packages (from ipykernel>=4.5.1->ipywidgets->jmd_imagescraper) (6.1.12)\n",
            "Requirement already satisfied: matplotlib-inline>=0.1 in /usr/local/lib/python3.11/dist-packages (from ipykernel>=4.5.1->ipywidgets->jmd_imagescraper) (0.1.7)\n",
            "Requirement already satisfied: nest-asyncio in /usr/local/lib/python3.11/dist-packages (from ipykernel>=4.5.1->ipywidgets->jmd_imagescraper) (1.6.0)\n",
            "Requirement already satisfied: packaging in /usr/local/lib/python3.11/dist-packages (from ipykernel>=4.5.1->ipywidgets->jmd_imagescraper) (24.2)\n",
            "Requirement already satisfied: psutil in /usr/local/lib/python3.11/dist-packages (from ipykernel>=4.5.1->ipywidgets->jmd_imagescraper) (5.9.5)\n",
            "Requirement already satisfied: pyzmq>=17 in /usr/local/lib/python3.11/dist-packages (from ipykernel>=4.5.1->ipywidgets->jmd_imagescraper) (24.0.1)\n",
            "Requirement already satisfied: tornado>=6.1 in /usr/local/lib/python3.11/dist-packages (from ipykernel>=4.5.1->ipywidgets->jmd_imagescraper) (6.4.2)\n",
            "Requirement already satisfied: setuptools>=18.5 in /usr/local/lib/python3.11/dist-packages (from ipython>=4.0.0->ipywidgets->jmd_imagescraper) (75.2.0)\n",
            "Collecting jedi>=0.16 (from ipython>=4.0.0->ipywidgets->jmd_imagescraper)\n",
            "  Downloading jedi-0.19.2-py2.py3-none-any.whl.metadata (22 kB)\n",
            "Requirement already satisfied: decorator in /usr/local/lib/python3.11/dist-packages (from ipython>=4.0.0->ipywidgets->jmd_imagescraper) (4.4.2)\n",
            "Requirement already satisfied: pickleshare in /usr/local/lib/python3.11/dist-packages (from ipython>=4.0.0->ipywidgets->jmd_imagescraper) (0.7.5)\n",
            "Requirement already satisfied: prompt-toolkit!=3.0.0,!=3.0.1,<3.1.0,>=2.0.0 in /usr/local/lib/python3.11/dist-packages (from ipython>=4.0.0->ipywidgets->jmd_imagescraper) (3.0.51)\n",
            "Requirement already satisfied: pygments in /usr/local/lib/python3.11/dist-packages (from ipython>=4.0.0->ipywidgets->jmd_imagescraper) (2.19.1)\n",
            "Requirement already satisfied: backcall in /usr/local/lib/python3.11/dist-packages (from ipython>=4.0.0->ipywidgets->jmd_imagescraper) (0.2.0)\n",
            "Requirement already satisfied: pexpect>4.3 in /usr/local/lib/python3.11/dist-packages (from ipython>=4.0.0->ipywidgets->jmd_imagescraper) (4.9.0)\n",
            "Requirement already satisfied: six>=1.5 in /usr/local/lib/python3.11/dist-packages (from python-dateutil>=2.8.2->pandas->jmd_imagescraper) (1.17.0)\n",
            "Requirement already satisfied: notebook>=4.4.1 in /usr/local/lib/python3.11/dist-packages (from widgetsnbextension~=3.6.0->ipywidgets->jmd_imagescraper) (6.5.7)\n",
            "Requirement already satisfied: soupsieve>1.2 in /usr/local/lib/python3.11/dist-packages (from beautifulsoup4->bs4->jmd_imagescraper) (2.7)\n",
            "Requirement already satisfied: typing-extensions>=4.0.0 in /usr/local/lib/python3.11/dist-packages (from beautifulsoup4->bs4->jmd_imagescraper) (4.14.0)\n",
            "Requirement already satisfied: parso<0.9.0,>=0.8.4 in /usr/local/lib/python3.11/dist-packages (from jedi>=0.16->ipython>=4.0.0->ipywidgets->jmd_imagescraper) (0.8.4)\n",
            "Requirement already satisfied: jupyter-core>=4.6.0 in /usr/local/lib/python3.11/dist-packages (from jupyter-client>=6.1.12->ipykernel>=4.5.1->ipywidgets->jmd_imagescraper) (5.8.1)\n",
            "Requirement already satisfied: jinja2 in /usr/local/lib/python3.11/dist-packages (from notebook>=4.4.1->widgetsnbextension~=3.6.0->ipywidgets->jmd_imagescraper) (3.1.6)\n",
            "Requirement already satisfied: argon2-cffi in /usr/local/lib/python3.11/dist-packages (from notebook>=4.4.1->widgetsnbextension~=3.6.0->ipywidgets->jmd_imagescraper) (25.1.0)\n",
            "Requirement already satisfied: nbformat in /usr/local/lib/python3.11/dist-packages (from notebook>=4.4.1->widgetsnbextension~=3.6.0->ipywidgets->jmd_imagescraper) (5.10.4)\n",
            "Requirement already satisfied: nbconvert>=5 in /usr/local/lib/python3.11/dist-packages (from notebook>=4.4.1->widgetsnbextension~=3.6.0->ipywidgets->jmd_imagescraper) (7.16.6)\n",
            "Requirement already satisfied: Send2Trash>=1.8.0 in /usr/local/lib/python3.11/dist-packages (from notebook>=4.4.1->widgetsnbextension~=3.6.0->ipywidgets->jmd_imagescraper) (1.8.3)\n",
            "Requirement already satisfied: terminado>=0.8.3 in /usr/local/lib/python3.11/dist-packages (from notebook>=4.4.1->widgetsnbextension~=3.6.0->ipywidgets->jmd_imagescraper) (0.18.1)\n",
            "Requirement already satisfied: prometheus-client in /usr/local/lib/python3.11/dist-packages (from notebook>=4.4.1->widgetsnbextension~=3.6.0->ipywidgets->jmd_imagescraper) (0.22.1)\n",
            "Requirement already satisfied: nbclassic>=0.4.7 in /usr/local/lib/python3.11/dist-packages (from notebook>=4.4.1->widgetsnbextension~=3.6.0->ipywidgets->jmd_imagescraper) (1.3.1)\n",
            "Requirement already satisfied: ptyprocess>=0.5 in /usr/local/lib/python3.11/dist-packages (from pexpect>4.3->ipython>=4.0.0->ipywidgets->jmd_imagescraper) (0.7.0)\n",
            "Requirement already satisfied: wcwidth in /usr/local/lib/python3.11/dist-packages (from prompt-toolkit!=3.0.0,!=3.0.1,<3.1.0,>=2.0.0->ipython>=4.0.0->ipywidgets->jmd_imagescraper) (0.2.13)\n",
            "Requirement already satisfied: platformdirs>=2.5 in /usr/local/lib/python3.11/dist-packages (from jupyter-core>=4.6.0->jupyter-client>=6.1.12->ipykernel>=4.5.1->ipywidgets->jmd_imagescraper) (4.3.8)\n",
            "Requirement already satisfied: notebook-shim>=0.2.3 in /usr/local/lib/python3.11/dist-packages (from nbclassic>=0.4.7->notebook>=4.4.1->widgetsnbextension~=3.6.0->ipywidgets->jmd_imagescraper) (0.2.4)\n",
            "Requirement already satisfied: bleach!=5.0.0 in /usr/local/lib/python3.11/dist-packages (from bleach[css]!=5.0.0->nbconvert>=5->notebook>=4.4.1->widgetsnbextension~=3.6.0->ipywidgets->jmd_imagescraper) (6.2.0)\n",
            "Requirement already satisfied: defusedxml in /usr/local/lib/python3.11/dist-packages (from nbconvert>=5->notebook>=4.4.1->widgetsnbextension~=3.6.0->ipywidgets->jmd_imagescraper) (0.7.1)\n",
            "Requirement already satisfied: jupyterlab-pygments in /usr/local/lib/python3.11/dist-packages (from nbconvert>=5->notebook>=4.4.1->widgetsnbextension~=3.6.0->ipywidgets->jmd_imagescraper) (0.3.0)\n",
            "Requirement already satisfied: markupsafe>=2.0 in /usr/local/lib/python3.11/dist-packages (from nbconvert>=5->notebook>=4.4.1->widgetsnbextension~=3.6.0->ipywidgets->jmd_imagescraper) (3.0.2)\n",
            "Requirement already satisfied: mistune<4,>=2.0.3 in /usr/local/lib/python3.11/dist-packages (from nbconvert>=5->notebook>=4.4.1->widgetsnbextension~=3.6.0->ipywidgets->jmd_imagescraper) (3.1.3)\n",
            "Requirement already satisfied: nbclient>=0.5.0 in /usr/local/lib/python3.11/dist-packages (from nbconvert>=5->notebook>=4.4.1->widgetsnbextension~=3.6.0->ipywidgets->jmd_imagescraper) (0.10.2)\n",
            "Requirement already satisfied: pandocfilters>=1.4.1 in /usr/local/lib/python3.11/dist-packages (from nbconvert>=5->notebook>=4.4.1->widgetsnbextension~=3.6.0->ipywidgets->jmd_imagescraper) (1.5.1)\n",
            "Requirement already satisfied: fastjsonschema>=2.15 in /usr/local/lib/python3.11/dist-packages (from nbformat->notebook>=4.4.1->widgetsnbextension~=3.6.0->ipywidgets->jmd_imagescraper) (2.21.1)\n",
            "Requirement already satisfied: jsonschema>=2.6 in /usr/local/lib/python3.11/dist-packages (from nbformat->notebook>=4.4.1->widgetsnbextension~=3.6.0->ipywidgets->jmd_imagescraper) (4.24.0)\n",
            "Requirement already satisfied: argon2-cffi-bindings in /usr/local/lib/python3.11/dist-packages (from argon2-cffi->notebook>=4.4.1->widgetsnbextension~=3.6.0->ipywidgets->jmd_imagescraper) (21.2.0)\n",
            "Requirement already satisfied: webencodings in /usr/local/lib/python3.11/dist-packages (from bleach!=5.0.0->bleach[css]!=5.0.0->nbconvert>=5->notebook>=4.4.1->widgetsnbextension~=3.6.0->ipywidgets->jmd_imagescraper) (0.5.1)\n",
            "Requirement already satisfied: tinycss2<1.5,>=1.1.0 in /usr/local/lib/python3.11/dist-packages (from bleach[css]!=5.0.0->nbconvert>=5->notebook>=4.4.1->widgetsnbextension~=3.6.0->ipywidgets->jmd_imagescraper) (1.4.0)\n",
            "Requirement already satisfied: attrs>=22.2.0 in /usr/local/lib/python3.11/dist-packages (from jsonschema>=2.6->nbformat->notebook>=4.4.1->widgetsnbextension~=3.6.0->ipywidgets->jmd_imagescraper) (25.3.0)\n",
            "Requirement already satisfied: jsonschema-specifications>=2023.03.6 in /usr/local/lib/python3.11/dist-packages (from jsonschema>=2.6->nbformat->notebook>=4.4.1->widgetsnbextension~=3.6.0->ipywidgets->jmd_imagescraper) (2025.4.1)\n",
            "Requirement already satisfied: referencing>=0.28.4 in /usr/local/lib/python3.11/dist-packages (from jsonschema>=2.6->nbformat->notebook>=4.4.1->widgetsnbextension~=3.6.0->ipywidgets->jmd_imagescraper) (0.36.2)\n",
            "Requirement already satisfied: rpds-py>=0.7.1 in /usr/local/lib/python3.11/dist-packages (from jsonschema>=2.6->nbformat->notebook>=4.4.1->widgetsnbextension~=3.6.0->ipywidgets->jmd_imagescraper) (0.25.1)\n",
            "Requirement already satisfied: jupyter-server<3,>=1.8 in /usr/local/lib/python3.11/dist-packages (from notebook-shim>=0.2.3->nbclassic>=0.4.7->notebook>=4.4.1->widgetsnbextension~=3.6.0->ipywidgets->jmd_imagescraper) (1.16.0)\n",
            "Requirement already satisfied: cffi>=1.0.1 in /usr/local/lib/python3.11/dist-packages (from argon2-cffi-bindings->argon2-cffi->notebook>=4.4.1->widgetsnbextension~=3.6.0->ipywidgets->jmd_imagescraper) (1.17.1)\n",
            "Requirement already satisfied: pycparser in /usr/local/lib/python3.11/dist-packages (from cffi>=1.0.1->argon2-cffi-bindings->argon2-cffi->notebook>=4.4.1->widgetsnbextension~=3.6.0->ipywidgets->jmd_imagescraper) (2.22)\n",
            "Requirement already satisfied: anyio>=3.1.0 in /usr/local/lib/python3.11/dist-packages (from jupyter-server<3,>=1.8->notebook-shim>=0.2.3->nbclassic>=0.4.7->notebook>=4.4.1->widgetsnbextension~=3.6.0->ipywidgets->jmd_imagescraper) (4.9.0)\n",
            "Requirement already satisfied: websocket-client in /usr/local/lib/python3.11/dist-packages (from jupyter-server<3,>=1.8->notebook-shim>=0.2.3->nbclassic>=0.4.7->notebook>=4.4.1->widgetsnbextension~=3.6.0->ipywidgets->jmd_imagescraper) (1.8.0)\n",
            "Requirement already satisfied: sniffio>=1.1 in /usr/local/lib/python3.11/dist-packages (from anyio>=3.1.0->jupyter-server<3,>=1.8->notebook-shim>=0.2.3->nbclassic>=0.4.7->notebook>=4.4.1->widgetsnbextension~=3.6.0->ipywidgets->jmd_imagescraper) (1.3.1)\n",
            "Downloading jmd_imagescraper-1.0.2-py3-none-any.whl (12 kB)\n",
            "Downloading bs4-0.0.2-py2.py3-none-any.whl (1.2 kB)\n",
            "Downloading jedi-0.19.2-py2.py3-none-any.whl (1.6 MB)\n",
            "\u001b[2K   \u001b[90m━━━━━━━━━━━━━━━━━━━━━━━━━━━━━━━━━━━━━━━━\u001b[0m \u001b[32m1.6/1.6 MB\u001b[0m \u001b[31m24.9 MB/s\u001b[0m eta \u001b[36m0:00:00\u001b[0m\n",
            "\u001b[?25hInstalling collected packages: jedi, bs4, jmd_imagescraper\n",
            "Successfully installed bs4-0.0.2 jedi-0.19.2 jmd_imagescraper-1.0.2\n"
          ]
        }
      ]
    },
    {
      "cell_type": "markdown",
      "source": [
        "\n",
        "*   Import necessary libraries:\n",
        "\n"
      ],
      "metadata": {
        "id": "K_aYhpNe_Lcq"
      },
      "id": "K_aYhpNe_Lcq"
    },
    {
      "cell_type": "code",
      "source": [
        "from pathlib import Path\n",
        "from jmd_imagescraper.core import * #"
      ],
      "metadata": {
        "id": "4OBY3hc1_Vs4"
      },
      "id": "4OBY3hc1_Vs4",
      "execution_count": null,
      "outputs": []
    },
    {
      "cell_type": "markdown",
      "source": [
        "##3.Define your classes and download images: For each of your chosen animal subspecies"
      ],
      "metadata": {
        "id": "FdIfAwQy_XZX"
      },
      "id": "FdIfAwQy_XZX"
    },
    {
      "cell_type": "code",
      "source": [
        "root = Path().cwd()/\"images\" # This will create an 'images' folder in your project_path\n",
        "os.makedirs(root, exist_ok=True) # Ensure the root directory exists\n",
        "\n",
        "# Class 1: Golden Retriever\n",
        "duckduckgo_search(root, \"Golden_Retriever\", \"golden retriever dog\", max_results=1500)\n",
        "\n",
        "# Class 2: Siamese Cat\n",
        "duckduckgo_search(root, \"Siamese_Cat\", \"siamese cat\", max_results=1500)\n",
        "\n",
        "# Class 3: Bengal Tiger\n",
        "duckduckgo_search(root, \"Bengal_Tiger\", \"bengal tiger animal\", max_results=1500)\n",
        "\n",
        "# Class 4: African Elephant\n",
        "duckduckgo_search(root, \"African_Elephant\", \"african elephant animal\", max_results=1500)\n",
        "\n",
        "# Class 5: Emperor Penguin\n",
        "duckduckgo_search(root, \"Emperor_Penguin\", \"emperor penguin bird\", max_results=1500)\n",
        "\n",
        "# Class 6: Red Panda\n",
        "duckduckgo_search(root, \"Red_Panda\", \"red panda animal\", max_results=1500)\n",
        "\n",
        "# Class 7: Blue Jay\n",
        "duckduckgo_search(root, \"Blue_Jay\", \"blue jay bird\", max_results=1500)\n",
        "\n",
        "# Class 8: Grizzly Bear\n",
        "duckduckgo_search(root, \"Grizzly_Bear\", \"grizzly bear animal\", max_results=1500)"
      ],
      "metadata": {
        "colab": {
          "base_uri": "https://localhost:8080/",
          "height": 1000
        },
        "id": "ziB9tRz-_kx0",
        "outputId": "833033f8-d04c-42b6-ec7b-fd2fcf4c7f18"
      },
      "id": "ziB9tRz-_kx0",
      "execution_count": null,
      "outputs": [
        {
          "output_type": "stream",
          "name": "stdout",
          "text": [
            "Duckduckgo search: golden retriever dog\n",
            "Downloading results into /content/drive/My Drive/AnimalSubspeciesDataset/images/Golden_Retriever\n"
          ]
        },
        {
          "output_type": "display_data",
          "data": {
            "text/plain": [
              "<IPython.core.display.HTML object>"
            ],
            "text/html": [
              "\n",
              "<style>\n",
              "    /* Turns off some styling */\n",
              "    progress {\n",
              "        /* gets rid of default border in Firefox and Opera. */\n",
              "        border: none;\n",
              "        /* Needs to be in here for Safari polyfill so background images work as expected. */\n",
              "        background-size: auto;\n",
              "    }\n",
              "    progress:not([value]), progress:not([value])::-webkit-progress-bar {\n",
              "        background: repeating-linear-gradient(45deg, #7e7e7e, #7e7e7e 10px, #5c5c5c 10px, #5c5c5c 20px);\n",
              "    }\n",
              "    .progress-bar-interrupted, .progress-bar-interrupted::-webkit-progress-bar {\n",
              "        background: #F44336;\n",
              "    }\n",
              "</style>\n"
            ]
          },
          "metadata": {}
        },
        {
          "output_type": "display_data",
          "data": {
            "text/plain": [
              "<IPython.core.display.HTML object>"
            ],
            "text/html": [
              "\n",
              "    <div>\n",
              "      <progress value='386' class='' max='386' style='width:300px; height:20px; vertical-align: middle;'></progress>\n",
              "      100.00% [386/386 00:30&lt;00:00 Images downloaded]\n",
              "    </div>\n",
              "    "
            ]
          },
          "metadata": {}
        },
        {
          "output_type": "stream",
          "name": "stdout",
          "text": [
            "Duckduckgo search: siamese cat\n",
            "Downloading results into /content/drive/My Drive/AnimalSubspeciesDataset/images/Siamese_Cat\n"
          ]
        },
        {
          "output_type": "display_data",
          "data": {
            "text/plain": [
              "<IPython.core.display.HTML object>"
            ],
            "text/html": [
              "\n",
              "<style>\n",
              "    /* Turns off some styling */\n",
              "    progress {\n",
              "        /* gets rid of default border in Firefox and Opera. */\n",
              "        border: none;\n",
              "        /* Needs to be in here for Safari polyfill so background images work as expected. */\n",
              "        background-size: auto;\n",
              "    }\n",
              "    progress:not([value]), progress:not([value])::-webkit-progress-bar {\n",
              "        background: repeating-linear-gradient(45deg, #7e7e7e, #7e7e7e 10px, #5c5c5c 10px, #5c5c5c 20px);\n",
              "    }\n",
              "    .progress-bar-interrupted, .progress-bar-interrupted::-webkit-progress-bar {\n",
              "        background: #F44336;\n",
              "    }\n",
              "</style>\n"
            ]
          },
          "metadata": {}
        },
        {
          "output_type": "display_data",
          "data": {
            "text/plain": [
              "<IPython.core.display.HTML object>"
            ],
            "text/html": [
              "\n",
              "    <div>\n",
              "      <progress value='346' class='' max='346' style='width:300px; height:20px; vertical-align: middle;'></progress>\n",
              "      100.00% [346/346 00:46&lt;00:00 Images downloaded]\n",
              "    </div>\n",
              "    "
            ]
          },
          "metadata": {}
        },
        {
          "output_type": "stream",
          "name": "stdout",
          "text": [
            "/content/drive/My Drive/AnimalSubspeciesDataset/images/Siamese_Cat/1556_f07bfb34.jpg is invalid\n",
            "Duckduckgo search: bengal tiger animal\n",
            "Downloading results into /content/drive/My Drive/AnimalSubspeciesDataset/images/Bengal_Tiger\n"
          ]
        },
        {
          "output_type": "display_data",
          "data": {
            "text/plain": [
              "<IPython.core.display.HTML object>"
            ],
            "text/html": [
              "\n",
              "<style>\n",
              "    /* Turns off some styling */\n",
              "    progress {\n",
              "        /* gets rid of default border in Firefox and Opera. */\n",
              "        border: none;\n",
              "        /* Needs to be in here for Safari polyfill so background images work as expected. */\n",
              "        background-size: auto;\n",
              "    }\n",
              "    progress:not([value]), progress:not([value])::-webkit-progress-bar {\n",
              "        background: repeating-linear-gradient(45deg, #7e7e7e, #7e7e7e 10px, #5c5c5c 10px, #5c5c5c 20px);\n",
              "    }\n",
              "    .progress-bar-interrupted, .progress-bar-interrupted::-webkit-progress-bar {\n",
              "        background: #F44336;\n",
              "    }\n",
              "</style>\n"
            ]
          },
          "metadata": {}
        },
        {
          "output_type": "display_data",
          "data": {
            "text/plain": [
              "<IPython.core.display.HTML object>"
            ],
            "text/html": [
              "\n",
              "    <div>\n",
              "      <progress value='474' class='' max='474' style='width:300px; height:20px; vertical-align: middle;'></progress>\n",
              "      100.00% [474/474 00:38&lt;00:00 Images downloaded]\n",
              "    </div>\n",
              "    "
            ]
          },
          "metadata": {}
        },
        {
          "output_type": "stream",
          "name": "stdout",
          "text": [
            "Duckduckgo search: african elephant animal\n",
            "Downloading results into /content/drive/My Drive/AnimalSubspeciesDataset/images/African_Elephant\n"
          ]
        },
        {
          "output_type": "display_data",
          "data": {
            "text/plain": [
              "<IPython.core.display.HTML object>"
            ],
            "text/html": [
              "\n",
              "<style>\n",
              "    /* Turns off some styling */\n",
              "    progress {\n",
              "        /* gets rid of default border in Firefox and Opera. */\n",
              "        border: none;\n",
              "        /* Needs to be in here for Safari polyfill so background images work as expected. */\n",
              "        background-size: auto;\n",
              "    }\n",
              "    progress:not([value]), progress:not([value])::-webkit-progress-bar {\n",
              "        background: repeating-linear-gradient(45deg, #7e7e7e, #7e7e7e 10px, #5c5c5c 10px, #5c5c5c 20px);\n",
              "    }\n",
              "    .progress-bar-interrupted, .progress-bar-interrupted::-webkit-progress-bar {\n",
              "        background: #F44336;\n",
              "    }\n",
              "</style>\n"
            ]
          },
          "metadata": {}
        },
        {
          "output_type": "display_data",
          "data": {
            "text/plain": [
              "<IPython.core.display.HTML object>"
            ],
            "text/html": [
              "\n",
              "    <div>\n",
              "      <progress value='411' class='' max='411' style='width:300px; height:20px; vertical-align: middle;'></progress>\n",
              "      100.00% [411/411 00:33&lt;00:00 Images downloaded]\n",
              "    </div>\n",
              "    "
            ]
          },
          "metadata": {}
        },
        {
          "output_type": "stream",
          "name": "stdout",
          "text": [
            "Duckduckgo search: emperor penguin bird\n",
            "Downloading results into /content/drive/My Drive/AnimalSubspeciesDataset/images/Emperor_Penguin\n"
          ]
        },
        {
          "output_type": "display_data",
          "data": {
            "text/plain": [
              "<IPython.core.display.HTML object>"
            ],
            "text/html": [
              "\n",
              "<style>\n",
              "    /* Turns off some styling */\n",
              "    progress {\n",
              "        /* gets rid of default border in Firefox and Opera. */\n",
              "        border: none;\n",
              "        /* Needs to be in here for Safari polyfill so background images work as expected. */\n",
              "        background-size: auto;\n",
              "    }\n",
              "    progress:not([value]), progress:not([value])::-webkit-progress-bar {\n",
              "        background: repeating-linear-gradient(45deg, #7e7e7e, #7e7e7e 10px, #5c5c5c 10px, #5c5c5c 20px);\n",
              "    }\n",
              "    .progress-bar-interrupted, .progress-bar-interrupted::-webkit-progress-bar {\n",
              "        background: #F44336;\n",
              "    }\n",
              "</style>\n"
            ]
          },
          "metadata": {}
        },
        {
          "output_type": "display_data",
          "data": {
            "text/plain": [
              "<IPython.core.display.HTML object>"
            ],
            "text/html": [
              "\n",
              "    <div>\n",
              "      <progress value='435' class='' max='435' style='width:300px; height:20px; vertical-align: middle;'></progress>\n",
              "      100.00% [435/435 00:45&lt;00:00 Images downloaded]\n",
              "    </div>\n",
              "    "
            ]
          },
          "metadata": {}
        },
        {
          "output_type": "stream",
          "name": "stdout",
          "text": [
            "Duckduckgo search: red panda animal\n",
            "Downloading results into /content/drive/My Drive/AnimalSubspeciesDataset/images/Red_Panda\n"
          ]
        },
        {
          "output_type": "display_data",
          "data": {
            "text/plain": [
              "<IPython.core.display.HTML object>"
            ],
            "text/html": [
              "\n",
              "<style>\n",
              "    /* Turns off some styling */\n",
              "    progress {\n",
              "        /* gets rid of default border in Firefox and Opera. */\n",
              "        border: none;\n",
              "        /* Needs to be in here for Safari polyfill so background images work as expected. */\n",
              "        background-size: auto;\n",
              "    }\n",
              "    progress:not([value]), progress:not([value])::-webkit-progress-bar {\n",
              "        background: repeating-linear-gradient(45deg, #7e7e7e, #7e7e7e 10px, #5c5c5c 10px, #5c5c5c 20px);\n",
              "    }\n",
              "    .progress-bar-interrupted, .progress-bar-interrupted::-webkit-progress-bar {\n",
              "        background: #F44336;\n",
              "    }\n",
              "</style>\n"
            ]
          },
          "metadata": {}
        },
        {
          "output_type": "display_data",
          "data": {
            "text/plain": [
              "<IPython.core.display.HTML object>"
            ],
            "text/html": [
              "\n",
              "    <div>\n",
              "      <progress value='458' class='' max='458' style='width:300px; height:20px; vertical-align: middle;'></progress>\n",
              "      100.00% [458/458 00:40&lt;00:00 Images downloaded]\n",
              "    </div>\n",
              "    "
            ]
          },
          "metadata": {}
        },
        {
          "output_type": "stream",
          "name": "stdout",
          "text": [
            "Duckduckgo search: blue jay bird\n",
            "Downloading results into /content/drive/My Drive/AnimalSubspeciesDataset/images/Blue_Jay\n"
          ]
        },
        {
          "output_type": "display_data",
          "data": {
            "text/plain": [
              "<IPython.core.display.HTML object>"
            ],
            "text/html": [
              "\n",
              "<style>\n",
              "    /* Turns off some styling */\n",
              "    progress {\n",
              "        /* gets rid of default border in Firefox and Opera. */\n",
              "        border: none;\n",
              "        /* Needs to be in here for Safari polyfill so background images work as expected. */\n",
              "        background-size: auto;\n",
              "    }\n",
              "    progress:not([value]), progress:not([value])::-webkit-progress-bar {\n",
              "        background: repeating-linear-gradient(45deg, #7e7e7e, #7e7e7e 10px, #5c5c5c 10px, #5c5c5c 20px);\n",
              "    }\n",
              "    .progress-bar-interrupted, .progress-bar-interrupted::-webkit-progress-bar {\n",
              "        background: #F44336;\n",
              "    }\n",
              "</style>\n"
            ]
          },
          "metadata": {}
        },
        {
          "output_type": "display_data",
          "data": {
            "text/plain": [
              "<IPython.core.display.HTML object>"
            ],
            "text/html": [
              "\n",
              "    <div>\n",
              "      <progress value='400' class='' max='400' style='width:300px; height:20px; vertical-align: middle;'></progress>\n",
              "      100.00% [400/400 00:31&lt;00:00 Images downloaded]\n",
              "    </div>\n",
              "    "
            ]
          },
          "metadata": {}
        },
        {
          "output_type": "stream",
          "name": "stdout",
          "text": [
            "Duckduckgo search: grizzly bear animal\n",
            "Downloading results into /content/drive/My Drive/AnimalSubspeciesDataset/images/Grizzly_Bear\n"
          ]
        },
        {
          "output_type": "display_data",
          "data": {
            "text/plain": [
              "<IPython.core.display.HTML object>"
            ],
            "text/html": [
              "\n",
              "<style>\n",
              "    /* Turns off some styling */\n",
              "    progress {\n",
              "        /* gets rid of default border in Firefox and Opera. */\n",
              "        border: none;\n",
              "        /* Needs to be in here for Safari polyfill so background images work as expected. */\n",
              "        background-size: auto;\n",
              "    }\n",
              "    progress:not([value]), progress:not([value])::-webkit-progress-bar {\n",
              "        background: repeating-linear-gradient(45deg, #7e7e7e, #7e7e7e 10px, #5c5c5c 10px, #5c5c5c 20px);\n",
              "    }\n",
              "    .progress-bar-interrupted, .progress-bar-interrupted::-webkit-progress-bar {\n",
              "        background: #F44336;\n",
              "    }\n",
              "</style>\n"
            ]
          },
          "metadata": {}
        },
        {
          "output_type": "display_data",
          "data": {
            "text/plain": [
              "<IPython.core.display.HTML object>"
            ],
            "text/html": [
              "\n",
              "    <div>\n",
              "      <progress value='447' class='' max='447' style='width:300px; height:20px; vertical-align: middle;'></progress>\n",
              "      100.00% [447/447 00:35&lt;00:00 Images downloaded]\n",
              "    </div>\n",
              "    "
            ]
          },
          "metadata": {}
        },
        {
          "output_type": "execute_result",
          "data": {
            "text/plain": [
              "[PosixPath('/content/drive/My Drive/AnimalSubspeciesDataset/images/Grizzly_Bear/1792_1d7dac42.jpg'),\n",
              " PosixPath('/content/drive/My Drive/AnimalSubspeciesDataset/images/Grizzly_Bear/1793_3dd54102.jpg'),\n",
              " PosixPath('/content/drive/My Drive/AnimalSubspeciesDataset/images/Grizzly_Bear/1794_75fa710e.jpg'),\n",
              " PosixPath('/content/drive/My Drive/AnimalSubspeciesDataset/images/Grizzly_Bear/1795_2cd13b76.jpg'),\n",
              " PosixPath('/content/drive/My Drive/AnimalSubspeciesDataset/images/Grizzly_Bear/1796_d396ad8c.jpg'),\n",
              " PosixPath('/content/drive/My Drive/AnimalSubspeciesDataset/images/Grizzly_Bear/1797_b9a2875d.jpg'),\n",
              " PosixPath('/content/drive/My Drive/AnimalSubspeciesDataset/images/Grizzly_Bear/1798_1301fcda.jpg'),\n",
              " PosixPath('/content/drive/My Drive/AnimalSubspeciesDataset/images/Grizzly_Bear/1799_dc4e0e62.jpg'),\n",
              " PosixPath('/content/drive/My Drive/AnimalSubspeciesDataset/images/Grizzly_Bear/1800_8ce41829.jpg'),\n",
              " PosixPath('/content/drive/My Drive/AnimalSubspeciesDataset/images/Grizzly_Bear/1801_62d3c8cf.jpg'),\n",
              " PosixPath('/content/drive/My Drive/AnimalSubspeciesDataset/images/Grizzly_Bear/1802_e115a6cd.jpg'),\n",
              " PosixPath('/content/drive/My Drive/AnimalSubspeciesDataset/images/Grizzly_Bear/1803_25556081.jpg'),\n",
              " PosixPath('/content/drive/My Drive/AnimalSubspeciesDataset/images/Grizzly_Bear/1804_c511ecfa.jpg'),\n",
              " PosixPath('/content/drive/My Drive/AnimalSubspeciesDataset/images/Grizzly_Bear/1805_db1643e4.jpg'),\n",
              " PosixPath('/content/drive/My Drive/AnimalSubspeciesDataset/images/Grizzly_Bear/1806_7b99c9ce.jpg'),\n",
              " PosixPath('/content/drive/My Drive/AnimalSubspeciesDataset/images/Grizzly_Bear/1807_0bdf89eb.jpg'),\n",
              " PosixPath('/content/drive/My Drive/AnimalSubspeciesDataset/images/Grizzly_Bear/1808_5f0a09a6.jpg'),\n",
              " PosixPath('/content/drive/My Drive/AnimalSubspeciesDataset/images/Grizzly_Bear/1809_eaf0789c.jpg'),\n",
              " PosixPath('/content/drive/My Drive/AnimalSubspeciesDataset/images/Grizzly_Bear/1810_95e1d66c.jpg'),\n",
              " PosixPath('/content/drive/My Drive/AnimalSubspeciesDataset/images/Grizzly_Bear/1811_3bc25d5d.jpg'),\n",
              " PosixPath('/content/drive/My Drive/AnimalSubspeciesDataset/images/Grizzly_Bear/1812_74e314a5.jpg'),\n",
              " PosixPath('/content/drive/My Drive/AnimalSubspeciesDataset/images/Grizzly_Bear/1813_2d433823.jpg'),\n",
              " PosixPath('/content/drive/My Drive/AnimalSubspeciesDataset/images/Grizzly_Bear/1814_f43c3837.jpg'),\n",
              " PosixPath('/content/drive/My Drive/AnimalSubspeciesDataset/images/Grizzly_Bear/1815_3b81091f.jpg'),\n",
              " PosixPath('/content/drive/My Drive/AnimalSubspeciesDataset/images/Grizzly_Bear/1816_93abce07.jpg'),\n",
              " PosixPath('/content/drive/My Drive/AnimalSubspeciesDataset/images/Grizzly_Bear/1817_985a9c68.jpg'),\n",
              " PosixPath('/content/drive/My Drive/AnimalSubspeciesDataset/images/Grizzly_Bear/1818_f8cbb663.jpg'),\n",
              " PosixPath('/content/drive/My Drive/AnimalSubspeciesDataset/images/Grizzly_Bear/1819_b5d9efa1.jpg'),\n",
              " PosixPath('/content/drive/My Drive/AnimalSubspeciesDataset/images/Grizzly_Bear/1820_8e835689.jpg'),\n",
              " PosixPath('/content/drive/My Drive/AnimalSubspeciesDataset/images/Grizzly_Bear/1821_2377cf00.jpg'),\n",
              " PosixPath('/content/drive/My Drive/AnimalSubspeciesDataset/images/Grizzly_Bear/1822_ee88d213.jpg'),\n",
              " PosixPath('/content/drive/My Drive/AnimalSubspeciesDataset/images/Grizzly_Bear/1823_33e76603.jpg'),\n",
              " PosixPath('/content/drive/My Drive/AnimalSubspeciesDataset/images/Grizzly_Bear/1824_fdbabba1.jpg'),\n",
              " PosixPath('/content/drive/My Drive/AnimalSubspeciesDataset/images/Grizzly_Bear/1825_cf91c799.jpg'),\n",
              " PosixPath('/content/drive/My Drive/AnimalSubspeciesDataset/images/Grizzly_Bear/1826_4693eef4.jpg'),\n",
              " PosixPath('/content/drive/My Drive/AnimalSubspeciesDataset/images/Grizzly_Bear/1827_afc13c7c.jpg'),\n",
              " PosixPath('/content/drive/My Drive/AnimalSubspeciesDataset/images/Grizzly_Bear/1828_32873792.jpg'),\n",
              " PosixPath('/content/drive/My Drive/AnimalSubspeciesDataset/images/Grizzly_Bear/1829_df024806.jpg'),\n",
              " PosixPath('/content/drive/My Drive/AnimalSubspeciesDataset/images/Grizzly_Bear/1830_b87d0457.jpg'),\n",
              " PosixPath('/content/drive/My Drive/AnimalSubspeciesDataset/images/Grizzly_Bear/1831_b3185d6d.jpg'),\n",
              " PosixPath('/content/drive/My Drive/AnimalSubspeciesDataset/images/Grizzly_Bear/1832_96039ace.jpg'),\n",
              " PosixPath('/content/drive/My Drive/AnimalSubspeciesDataset/images/Grizzly_Bear/1833_4b79bc66.jpg'),\n",
              " PosixPath('/content/drive/My Drive/AnimalSubspeciesDataset/images/Grizzly_Bear/1834_b985240e.jpg'),\n",
              " PosixPath('/content/drive/My Drive/AnimalSubspeciesDataset/images/Grizzly_Bear/1835_99f311b7.jpg'),\n",
              " PosixPath('/content/drive/My Drive/AnimalSubspeciesDataset/images/Grizzly_Bear/1836_f373b9c4.jpg'),\n",
              " PosixPath('/content/drive/My Drive/AnimalSubspeciesDataset/images/Grizzly_Bear/1837_aac1a8d1.jpg'),\n",
              " PosixPath('/content/drive/My Drive/AnimalSubspeciesDataset/images/Grizzly_Bear/1838_f6cff19e.jpg'),\n",
              " PosixPath('/content/drive/My Drive/AnimalSubspeciesDataset/images/Grizzly_Bear/1839_0c7c14ed.jpg'),\n",
              " PosixPath('/content/drive/My Drive/AnimalSubspeciesDataset/images/Grizzly_Bear/1840_1e019e03.jpg'),\n",
              " PosixPath('/content/drive/My Drive/AnimalSubspeciesDataset/images/Grizzly_Bear/1841_8a37435d.jpg'),\n",
              " PosixPath('/content/drive/My Drive/AnimalSubspeciesDataset/images/Grizzly_Bear/1842_a85d56de.jpg'),\n",
              " PosixPath('/content/drive/My Drive/AnimalSubspeciesDataset/images/Grizzly_Bear/1843_af9c4285.jpg'),\n",
              " PosixPath('/content/drive/My Drive/AnimalSubspeciesDataset/images/Grizzly_Bear/1844_276ce8de.jpg'),\n",
              " PosixPath('/content/drive/My Drive/AnimalSubspeciesDataset/images/Grizzly_Bear/1845_1151aba6.jpg'),\n",
              " PosixPath('/content/drive/My Drive/AnimalSubspeciesDataset/images/Grizzly_Bear/1846_73e7f0d6.jpg'),\n",
              " PosixPath('/content/drive/My Drive/AnimalSubspeciesDataset/images/Grizzly_Bear/1847_07e73cfa.jpg'),\n",
              " PosixPath('/content/drive/My Drive/AnimalSubspeciesDataset/images/Grizzly_Bear/1848_2dde88f7.jpg'),\n",
              " PosixPath('/content/drive/My Drive/AnimalSubspeciesDataset/images/Grizzly_Bear/1849_621fe790.jpg'),\n",
              " PosixPath('/content/drive/My Drive/AnimalSubspeciesDataset/images/Grizzly_Bear/1850_9919064a.jpg'),\n",
              " PosixPath('/content/drive/My Drive/AnimalSubspeciesDataset/images/Grizzly_Bear/1851_4240be9a.jpg'),\n",
              " PosixPath('/content/drive/My Drive/AnimalSubspeciesDataset/images/Grizzly_Bear/1852_1ed2cdf4.jpg'),\n",
              " PosixPath('/content/drive/My Drive/AnimalSubspeciesDataset/images/Grizzly_Bear/1853_3b677591.jpg'),\n",
              " PosixPath('/content/drive/My Drive/AnimalSubspeciesDataset/images/Grizzly_Bear/1854_2663522a.jpg'),\n",
              " PosixPath('/content/drive/My Drive/AnimalSubspeciesDataset/images/Grizzly_Bear/1855_9f8e1606.jpg'),\n",
              " PosixPath('/content/drive/My Drive/AnimalSubspeciesDataset/images/Grizzly_Bear/1856_a5d6968a.jpg'),\n",
              " PosixPath('/content/drive/My Drive/AnimalSubspeciesDataset/images/Grizzly_Bear/1857_5ca59d84.jpg'),\n",
              " PosixPath('/content/drive/My Drive/AnimalSubspeciesDataset/images/Grizzly_Bear/1858_992ca188.jpg'),\n",
              " PosixPath('/content/drive/My Drive/AnimalSubspeciesDataset/images/Grizzly_Bear/1859_899a288e.jpg'),\n",
              " PosixPath('/content/drive/My Drive/AnimalSubspeciesDataset/images/Grizzly_Bear/1860_975ab26f.jpg'),\n",
              " PosixPath('/content/drive/My Drive/AnimalSubspeciesDataset/images/Grizzly_Bear/1861_bbf47d4b.jpg'),\n",
              " PosixPath('/content/drive/My Drive/AnimalSubspeciesDataset/images/Grizzly_Bear/1862_716e5dd8.jpg'),\n",
              " PosixPath('/content/drive/My Drive/AnimalSubspeciesDataset/images/Grizzly_Bear/1863_3d90a3e3.jpg'),\n",
              " PosixPath('/content/drive/My Drive/AnimalSubspeciesDataset/images/Grizzly_Bear/1864_df782291.jpg'),\n",
              " PosixPath('/content/drive/My Drive/AnimalSubspeciesDataset/images/Grizzly_Bear/1865_1cb9814f.jpg'),\n",
              " PosixPath('/content/drive/My Drive/AnimalSubspeciesDataset/images/Grizzly_Bear/1866_7a82fca0.jpg'),\n",
              " PosixPath('/content/drive/My Drive/AnimalSubspeciesDataset/images/Grizzly_Bear/1867_9893f40f.jpg'),\n",
              " PosixPath('/content/drive/My Drive/AnimalSubspeciesDataset/images/Grizzly_Bear/1868_4ad91aed.jpg'),\n",
              " PosixPath('/content/drive/My Drive/AnimalSubspeciesDataset/images/Grizzly_Bear/1869_c2f3f0e1.jpg'),\n",
              " PosixPath('/content/drive/My Drive/AnimalSubspeciesDataset/images/Grizzly_Bear/1870_e9f00a7a.jpg'),\n",
              " PosixPath('/content/drive/My Drive/AnimalSubspeciesDataset/images/Grizzly_Bear/1871_5d268703.jpg'),\n",
              " PosixPath('/content/drive/My Drive/AnimalSubspeciesDataset/images/Grizzly_Bear/1872_d8c0e62e.jpg'),\n",
              " PosixPath('/content/drive/My Drive/AnimalSubspeciesDataset/images/Grizzly_Bear/1873_79d02b69.jpg'),\n",
              " PosixPath('/content/drive/My Drive/AnimalSubspeciesDataset/images/Grizzly_Bear/1874_e2cf5502.jpg'),\n",
              " PosixPath('/content/drive/My Drive/AnimalSubspeciesDataset/images/Grizzly_Bear/1875_25f14dce.jpg'),\n",
              " PosixPath('/content/drive/My Drive/AnimalSubspeciesDataset/images/Grizzly_Bear/1876_c2a9878e.jpg'),\n",
              " PosixPath('/content/drive/My Drive/AnimalSubspeciesDataset/images/Grizzly_Bear/1877_d7beb8a6.jpg'),\n",
              " PosixPath('/content/drive/My Drive/AnimalSubspeciesDataset/images/Grizzly_Bear/1878_95818ea2.jpg'),\n",
              " PosixPath('/content/drive/My Drive/AnimalSubspeciesDataset/images/Grizzly_Bear/1879_5519285e.jpg'),\n",
              " PosixPath('/content/drive/My Drive/AnimalSubspeciesDataset/images/Grizzly_Bear/1880_2b4d5ce5.jpg'),\n",
              " PosixPath('/content/drive/My Drive/AnimalSubspeciesDataset/images/Grizzly_Bear/1881_643f636b.jpg'),\n",
              " PosixPath('/content/drive/My Drive/AnimalSubspeciesDataset/images/Grizzly_Bear/1882_6d444773.jpg'),\n",
              " PosixPath('/content/drive/My Drive/AnimalSubspeciesDataset/images/Grizzly_Bear/1883_158d4f20.jpg'),\n",
              " PosixPath('/content/drive/My Drive/AnimalSubspeciesDataset/images/Grizzly_Bear/1884_5d1c1c29.jpg'),\n",
              " PosixPath('/content/drive/My Drive/AnimalSubspeciesDataset/images/Grizzly_Bear/1885_eb6b2eab.jpg'),\n",
              " PosixPath('/content/drive/My Drive/AnimalSubspeciesDataset/images/Grizzly_Bear/1886_52ec88d6.jpg'),\n",
              " PosixPath('/content/drive/My Drive/AnimalSubspeciesDataset/images/Grizzly_Bear/1887_39797a3f.jpg'),\n",
              " PosixPath('/content/drive/My Drive/AnimalSubspeciesDataset/images/Grizzly_Bear/1888_d0165fcc.jpg'),\n",
              " PosixPath('/content/drive/My Drive/AnimalSubspeciesDataset/images/Grizzly_Bear/1889_433b909c.jpg'),\n",
              " PosixPath('/content/drive/My Drive/AnimalSubspeciesDataset/images/Grizzly_Bear/1890_e2d05c25.jpg'),\n",
              " PosixPath('/content/drive/My Drive/AnimalSubspeciesDataset/images/Grizzly_Bear/1891_0e3e0f1b.jpg'),\n",
              " PosixPath('/content/drive/My Drive/AnimalSubspeciesDataset/images/Grizzly_Bear/1892_e7c76772.jpg'),\n",
              " PosixPath('/content/drive/My Drive/AnimalSubspeciesDataset/images/Grizzly_Bear/1893_cdd7c290.jpg'),\n",
              " PosixPath('/content/drive/My Drive/AnimalSubspeciesDataset/images/Grizzly_Bear/1894_e53acde5.jpg'),\n",
              " PosixPath('/content/drive/My Drive/AnimalSubspeciesDataset/images/Grizzly_Bear/1895_a6afd615.jpg'),\n",
              " PosixPath('/content/drive/My Drive/AnimalSubspeciesDataset/images/Grizzly_Bear/1896_8bb78657.jpg'),\n",
              " PosixPath('/content/drive/My Drive/AnimalSubspeciesDataset/images/Grizzly_Bear/1897_1fe57e73.jpg'),\n",
              " PosixPath('/content/drive/My Drive/AnimalSubspeciesDataset/images/Grizzly_Bear/1898_6c762624.jpg'),\n",
              " PosixPath('/content/drive/My Drive/AnimalSubspeciesDataset/images/Grizzly_Bear/1899_de0213d2.jpg'),\n",
              " PosixPath('/content/drive/My Drive/AnimalSubspeciesDataset/images/Grizzly_Bear/1900_48ddb64d.jpg'),\n",
              " PosixPath('/content/drive/My Drive/AnimalSubspeciesDataset/images/Grizzly_Bear/1901_7faab21c.jpg'),\n",
              " PosixPath('/content/drive/My Drive/AnimalSubspeciesDataset/images/Grizzly_Bear/1902_2ba52794.jpg'),\n",
              " PosixPath('/content/drive/My Drive/AnimalSubspeciesDataset/images/Grizzly_Bear/1903_7b71b241.jpg'),\n",
              " PosixPath('/content/drive/My Drive/AnimalSubspeciesDataset/images/Grizzly_Bear/1904_1a4d6d6e.jpg'),\n",
              " PosixPath('/content/drive/My Drive/AnimalSubspeciesDataset/images/Grizzly_Bear/1905_f7138c0a.jpg'),\n",
              " PosixPath('/content/drive/My Drive/AnimalSubspeciesDataset/images/Grizzly_Bear/1906_78c3be5a.jpg'),\n",
              " PosixPath('/content/drive/My Drive/AnimalSubspeciesDataset/images/Grizzly_Bear/1907_e12eae1b.jpg'),\n",
              " PosixPath('/content/drive/My Drive/AnimalSubspeciesDataset/images/Grizzly_Bear/1908_98878042.jpg'),\n",
              " PosixPath('/content/drive/My Drive/AnimalSubspeciesDataset/images/Grizzly_Bear/1909_fb63286e.jpg'),\n",
              " PosixPath('/content/drive/My Drive/AnimalSubspeciesDataset/images/Grizzly_Bear/1910_34e06262.jpg'),\n",
              " PosixPath('/content/drive/My Drive/AnimalSubspeciesDataset/images/Grizzly_Bear/1911_c6e2ff6c.jpg'),\n",
              " PosixPath('/content/drive/My Drive/AnimalSubspeciesDataset/images/Grizzly_Bear/1912_27d8be69.jpg'),\n",
              " PosixPath('/content/drive/My Drive/AnimalSubspeciesDataset/images/Grizzly_Bear/1913_c00b748c.jpg'),\n",
              " PosixPath('/content/drive/My Drive/AnimalSubspeciesDataset/images/Grizzly_Bear/1914_50ed543d.jpg'),\n",
              " PosixPath('/content/drive/My Drive/AnimalSubspeciesDataset/images/Grizzly_Bear/1915_d2d94e78.jpg'),\n",
              " PosixPath('/content/drive/My Drive/AnimalSubspeciesDataset/images/Grizzly_Bear/1916_8f2e7412.jpg'),\n",
              " PosixPath('/content/drive/My Drive/AnimalSubspeciesDataset/images/Grizzly_Bear/1917_52cd4efe.jpg'),\n",
              " PosixPath('/content/drive/My Drive/AnimalSubspeciesDataset/images/Grizzly_Bear/1918_b3aa2359.jpg'),\n",
              " PosixPath('/content/drive/My Drive/AnimalSubspeciesDataset/images/Grizzly_Bear/1919_349b77fc.jpg'),\n",
              " PosixPath('/content/drive/My Drive/AnimalSubspeciesDataset/images/Grizzly_Bear/1920_1cdaba19.jpg'),\n",
              " PosixPath('/content/drive/My Drive/AnimalSubspeciesDataset/images/Grizzly_Bear/1921_7a370409.jpg'),\n",
              " PosixPath('/content/drive/My Drive/AnimalSubspeciesDataset/images/Grizzly_Bear/1922_742d2be2.jpg'),\n",
              " PosixPath('/content/drive/My Drive/AnimalSubspeciesDataset/images/Grizzly_Bear/1923_fc9a6f0a.jpg'),\n",
              " PosixPath('/content/drive/My Drive/AnimalSubspeciesDataset/images/Grizzly_Bear/1924_9da7a63b.jpg'),\n",
              " PosixPath('/content/drive/My Drive/AnimalSubspeciesDataset/images/Grizzly_Bear/1925_7b020440.jpg'),\n",
              " PosixPath('/content/drive/My Drive/AnimalSubspeciesDataset/images/Grizzly_Bear/1926_d57e6d6c.jpg'),\n",
              " PosixPath('/content/drive/My Drive/AnimalSubspeciesDataset/images/Grizzly_Bear/1927_9124b783.jpg'),\n",
              " PosixPath('/content/drive/My Drive/AnimalSubspeciesDataset/images/Grizzly_Bear/1928_dc16bc50.jpg'),\n",
              " PosixPath('/content/drive/My Drive/AnimalSubspeciesDataset/images/Grizzly_Bear/1929_9be63434.jpg'),\n",
              " PosixPath('/content/drive/My Drive/AnimalSubspeciesDataset/images/Grizzly_Bear/1930_7605b1ba.jpg'),\n",
              " PosixPath('/content/drive/My Drive/AnimalSubspeciesDataset/images/Grizzly_Bear/1931_a79163be.jpg'),\n",
              " PosixPath('/content/drive/My Drive/AnimalSubspeciesDataset/images/Grizzly_Bear/1932_b46a6543.jpg'),\n",
              " PosixPath('/content/drive/My Drive/AnimalSubspeciesDataset/images/Grizzly_Bear/1933_b59c4f46.jpg'),\n",
              " PosixPath('/content/drive/My Drive/AnimalSubspeciesDataset/images/Grizzly_Bear/1934_176bf056.jpg'),\n",
              " PosixPath('/content/drive/My Drive/AnimalSubspeciesDataset/images/Grizzly_Bear/1935_69e2bb94.jpg'),\n",
              " PosixPath('/content/drive/My Drive/AnimalSubspeciesDataset/images/Grizzly_Bear/1936_0f301ab3.jpg'),\n",
              " PosixPath('/content/drive/My Drive/AnimalSubspeciesDataset/images/Grizzly_Bear/1937_8275420e.jpg'),\n",
              " PosixPath('/content/drive/My Drive/AnimalSubspeciesDataset/images/Grizzly_Bear/1938_b0ada97c.jpg'),\n",
              " PosixPath('/content/drive/My Drive/AnimalSubspeciesDataset/images/Grizzly_Bear/1939_c3e8d202.jpg'),\n",
              " PosixPath('/content/drive/My Drive/AnimalSubspeciesDataset/images/Grizzly_Bear/1940_0d06de83.jpg'),\n",
              " PosixPath('/content/drive/My Drive/AnimalSubspeciesDataset/images/Grizzly_Bear/1941_993c095a.jpg'),\n",
              " PosixPath('/content/drive/My Drive/AnimalSubspeciesDataset/images/Grizzly_Bear/1942_b16db868.jpg'),\n",
              " PosixPath('/content/drive/My Drive/AnimalSubspeciesDataset/images/Grizzly_Bear/1943_8f24c19f.jpg'),\n",
              " PosixPath('/content/drive/My Drive/AnimalSubspeciesDataset/images/Grizzly_Bear/1944_526e5d03.jpg'),\n",
              " PosixPath('/content/drive/My Drive/AnimalSubspeciesDataset/images/Grizzly_Bear/1945_4aef9b19.jpg'),\n",
              " PosixPath('/content/drive/My Drive/AnimalSubspeciesDataset/images/Grizzly_Bear/1946_7b80b518.jpg'),\n",
              " PosixPath('/content/drive/My Drive/AnimalSubspeciesDataset/images/Grizzly_Bear/1947_17458d03.jpg'),\n",
              " PosixPath('/content/drive/My Drive/AnimalSubspeciesDataset/images/Grizzly_Bear/1948_5e7690a0.jpg'),\n",
              " PosixPath('/content/drive/My Drive/AnimalSubspeciesDataset/images/Grizzly_Bear/1949_c8b968ad.jpg'),\n",
              " PosixPath('/content/drive/My Drive/AnimalSubspeciesDataset/images/Grizzly_Bear/1950_0c7731d0.jpg'),\n",
              " PosixPath('/content/drive/My Drive/AnimalSubspeciesDataset/images/Grizzly_Bear/1951_6a9c7146.jpg'),\n",
              " PosixPath('/content/drive/My Drive/AnimalSubspeciesDataset/images/Grizzly_Bear/1952_3e77c332.jpg'),\n",
              " PosixPath('/content/drive/My Drive/AnimalSubspeciesDataset/images/Grizzly_Bear/1953_7bc50337.jpg'),\n",
              " PosixPath('/content/drive/My Drive/AnimalSubspeciesDataset/images/Grizzly_Bear/1954_2b934cca.jpg'),\n",
              " PosixPath('/content/drive/My Drive/AnimalSubspeciesDataset/images/Grizzly_Bear/1955_8bece8b6.jpg'),\n",
              " PosixPath('/content/drive/My Drive/AnimalSubspeciesDataset/images/Grizzly_Bear/1956_14acc45a.jpg'),\n",
              " PosixPath('/content/drive/My Drive/AnimalSubspeciesDataset/images/Grizzly_Bear/1957_6cce130b.jpg'),\n",
              " PosixPath('/content/drive/My Drive/AnimalSubspeciesDataset/images/Grizzly_Bear/1958_e8a3b681.jpg'),\n",
              " PosixPath('/content/drive/My Drive/AnimalSubspeciesDataset/images/Grizzly_Bear/1959_a45a0adf.jpg'),\n",
              " PosixPath('/content/drive/My Drive/AnimalSubspeciesDataset/images/Grizzly_Bear/1960_bd8025fc.jpg'),\n",
              " PosixPath('/content/drive/My Drive/AnimalSubspeciesDataset/images/Grizzly_Bear/1961_00a7ba7a.jpg'),\n",
              " PosixPath('/content/drive/My Drive/AnimalSubspeciesDataset/images/Grizzly_Bear/1962_6f5b9ef1.jpg'),\n",
              " PosixPath('/content/drive/My Drive/AnimalSubspeciesDataset/images/Grizzly_Bear/1963_9fa716f3.jpg'),\n",
              " PosixPath('/content/drive/My Drive/AnimalSubspeciesDataset/images/Grizzly_Bear/1964_0cb433ae.jpg'),\n",
              " PosixPath('/content/drive/My Drive/AnimalSubspeciesDataset/images/Grizzly_Bear/1965_7f5e14cb.jpg'),\n",
              " PosixPath('/content/drive/My Drive/AnimalSubspeciesDataset/images/Grizzly_Bear/1966_f9d0761f.jpg'),\n",
              " PosixPath('/content/drive/My Drive/AnimalSubspeciesDataset/images/Grizzly_Bear/1967_2ce77e16.jpg'),\n",
              " PosixPath('/content/drive/My Drive/AnimalSubspeciesDataset/images/Grizzly_Bear/1968_2c291094.jpg'),\n",
              " PosixPath('/content/drive/My Drive/AnimalSubspeciesDataset/images/Grizzly_Bear/1969_61dbfbf1.jpg'),\n",
              " PosixPath('/content/drive/My Drive/AnimalSubspeciesDataset/images/Grizzly_Bear/1970_39cf97a6.jpg'),\n",
              " PosixPath('/content/drive/My Drive/AnimalSubspeciesDataset/images/Grizzly_Bear/1971_8f33423c.jpg'),\n",
              " PosixPath('/content/drive/My Drive/AnimalSubspeciesDataset/images/Grizzly_Bear/1972_66cfed52.jpg'),\n",
              " PosixPath('/content/drive/My Drive/AnimalSubspeciesDataset/images/Grizzly_Bear/1973_294f7152.jpg'),\n",
              " PosixPath('/content/drive/My Drive/AnimalSubspeciesDataset/images/Grizzly_Bear/1974_4a9a9995.jpg'),\n",
              " PosixPath('/content/drive/My Drive/AnimalSubspeciesDataset/images/Grizzly_Bear/1975_9fe7af3d.jpg'),\n",
              " PosixPath('/content/drive/My Drive/AnimalSubspeciesDataset/images/Grizzly_Bear/1976_fa154f74.jpg'),\n",
              " PosixPath('/content/drive/My Drive/AnimalSubspeciesDataset/images/Grizzly_Bear/1977_6f4e2c84.jpg'),\n",
              " PosixPath('/content/drive/My Drive/AnimalSubspeciesDataset/images/Grizzly_Bear/1978_f35e87ba.jpg'),\n",
              " PosixPath('/content/drive/My Drive/AnimalSubspeciesDataset/images/Grizzly_Bear/1979_8eaca27d.jpg'),\n",
              " PosixPath('/content/drive/My Drive/AnimalSubspeciesDataset/images/Grizzly_Bear/1980_4bd9d1b3.jpg'),\n",
              " PosixPath('/content/drive/My Drive/AnimalSubspeciesDataset/images/Grizzly_Bear/1981_4772218a.jpg'),\n",
              " PosixPath('/content/drive/My Drive/AnimalSubspeciesDataset/images/Grizzly_Bear/1982_60415373.jpg'),\n",
              " PosixPath('/content/drive/My Drive/AnimalSubspeciesDataset/images/Grizzly_Bear/1983_2e25fa85.jpg'),\n",
              " PosixPath('/content/drive/My Drive/AnimalSubspeciesDataset/images/Grizzly_Bear/1984_e21b5642.jpg'),\n",
              " PosixPath('/content/drive/My Drive/AnimalSubspeciesDataset/images/Grizzly_Bear/1985_35416cac.jpg'),\n",
              " PosixPath('/content/drive/My Drive/AnimalSubspeciesDataset/images/Grizzly_Bear/1986_7fa190e7.jpg'),\n",
              " PosixPath('/content/drive/My Drive/AnimalSubspeciesDataset/images/Grizzly_Bear/1987_5c8c772f.jpg'),\n",
              " PosixPath('/content/drive/My Drive/AnimalSubspeciesDataset/images/Grizzly_Bear/1988_271a2f1f.jpg'),\n",
              " PosixPath('/content/drive/My Drive/AnimalSubspeciesDataset/images/Grizzly_Bear/1989_644e5197.jpg'),\n",
              " PosixPath('/content/drive/My Drive/AnimalSubspeciesDataset/images/Grizzly_Bear/1990_447ef431.jpg'),\n",
              " PosixPath('/content/drive/My Drive/AnimalSubspeciesDataset/images/Grizzly_Bear/1991_69fd8ea8.jpg'),\n",
              " PosixPath('/content/drive/My Drive/AnimalSubspeciesDataset/images/Grizzly_Bear/1992_b2390e84.jpg'),\n",
              " PosixPath('/content/drive/My Drive/AnimalSubspeciesDataset/images/Grizzly_Bear/1993_22a3a64f.jpg'),\n",
              " PosixPath('/content/drive/My Drive/AnimalSubspeciesDataset/images/Grizzly_Bear/1994_59e72427.jpg'),\n",
              " PosixPath('/content/drive/My Drive/AnimalSubspeciesDataset/images/Grizzly_Bear/1995_fe125fad.jpg'),\n",
              " PosixPath('/content/drive/My Drive/AnimalSubspeciesDataset/images/Grizzly_Bear/1996_19e69bff.jpg'),\n",
              " PosixPath('/content/drive/My Drive/AnimalSubspeciesDataset/images/Grizzly_Bear/1997_581ca577.jpg'),\n",
              " PosixPath('/content/drive/My Drive/AnimalSubspeciesDataset/images/Grizzly_Bear/1998_26ba865f.jpg'),\n",
              " PosixPath('/content/drive/My Drive/AnimalSubspeciesDataset/images/Grizzly_Bear/1999_bcb96141.jpg'),\n",
              " PosixPath('/content/drive/My Drive/AnimalSubspeciesDataset/images/Grizzly_Bear/2000_a6341fa8.jpg'),\n",
              " PosixPath('/content/drive/My Drive/AnimalSubspeciesDataset/images/Grizzly_Bear/2001_dac5b1f2.jpg'),\n",
              " PosixPath('/content/drive/My Drive/AnimalSubspeciesDataset/images/Grizzly_Bear/2002_eb3ca054.jpg'),\n",
              " PosixPath('/content/drive/My Drive/AnimalSubspeciesDataset/images/Grizzly_Bear/2003_1dc479ab.jpg'),\n",
              " PosixPath('/content/drive/My Drive/AnimalSubspeciesDataset/images/Grizzly_Bear/2004_a33f9064.jpg'),\n",
              " PosixPath('/content/drive/My Drive/AnimalSubspeciesDataset/images/Grizzly_Bear/2005_d968732a.jpg'),\n",
              " PosixPath('/content/drive/My Drive/AnimalSubspeciesDataset/images/Grizzly_Bear/2006_9a2270d2.jpg'),\n",
              " PosixPath('/content/drive/My Drive/AnimalSubspeciesDataset/images/Grizzly_Bear/2007_85c37d7e.jpg'),\n",
              " PosixPath('/content/drive/My Drive/AnimalSubspeciesDataset/images/Grizzly_Bear/2008_e781b62c.jpg'),\n",
              " PosixPath('/content/drive/My Drive/AnimalSubspeciesDataset/images/Grizzly_Bear/2009_df9cd3b8.jpg'),\n",
              " PosixPath('/content/drive/My Drive/AnimalSubspeciesDataset/images/Grizzly_Bear/2010_cfe92cae.jpg'),\n",
              " PosixPath('/content/drive/My Drive/AnimalSubspeciesDataset/images/Grizzly_Bear/2011_a17b11c4.jpg'),\n",
              " PosixPath('/content/drive/My Drive/AnimalSubspeciesDataset/images/Grizzly_Bear/2012_c9435bd2.jpg'),\n",
              " PosixPath('/content/drive/My Drive/AnimalSubspeciesDataset/images/Grizzly_Bear/2013_442d84fc.jpg'),\n",
              " PosixPath('/content/drive/My Drive/AnimalSubspeciesDataset/images/Grizzly_Bear/2014_104ba0cc.jpg'),\n",
              " PosixPath('/content/drive/My Drive/AnimalSubspeciesDataset/images/Grizzly_Bear/2015_9f52b239.jpg'),\n",
              " PosixPath('/content/drive/My Drive/AnimalSubspeciesDataset/images/Grizzly_Bear/2016_051ee2dd.jpg'),\n",
              " PosixPath('/content/drive/My Drive/AnimalSubspeciesDataset/images/Grizzly_Bear/2017_639f8273.jpg'),\n",
              " PosixPath('/content/drive/My Drive/AnimalSubspeciesDataset/images/Grizzly_Bear/2018_2202447c.jpg'),\n",
              " PosixPath('/content/drive/My Drive/AnimalSubspeciesDataset/images/Grizzly_Bear/2019_d2938ab2.jpg'),\n",
              " PosixPath('/content/drive/My Drive/AnimalSubspeciesDataset/images/Grizzly_Bear/2020_027ec41b.jpg'),\n",
              " PosixPath('/content/drive/My Drive/AnimalSubspeciesDataset/images/Grizzly_Bear/2021_121c4df9.jpg'),\n",
              " PosixPath('/content/drive/My Drive/AnimalSubspeciesDataset/images/Grizzly_Bear/2022_9a5209f8.jpg'),\n",
              " PosixPath('/content/drive/My Drive/AnimalSubspeciesDataset/images/Grizzly_Bear/2023_6d26998b.jpg'),\n",
              " PosixPath('/content/drive/My Drive/AnimalSubspeciesDataset/images/Grizzly_Bear/2024_cb71e41f.jpg'),\n",
              " PosixPath('/content/drive/My Drive/AnimalSubspeciesDataset/images/Grizzly_Bear/2025_46e9bea1.jpg'),\n",
              " PosixPath('/content/drive/My Drive/AnimalSubspeciesDataset/images/Grizzly_Bear/2026_92ba0ba3.jpg'),\n",
              " PosixPath('/content/drive/My Drive/AnimalSubspeciesDataset/images/Grizzly_Bear/2027_cb0c3610.jpg'),\n",
              " PosixPath('/content/drive/My Drive/AnimalSubspeciesDataset/images/Grizzly_Bear/2028_c907a7c0.jpg'),\n",
              " PosixPath('/content/drive/My Drive/AnimalSubspeciesDataset/images/Grizzly_Bear/2029_fc623910.jpg'),\n",
              " PosixPath('/content/drive/My Drive/AnimalSubspeciesDataset/images/Grizzly_Bear/2030_71d8fb66.jpg'),\n",
              " PosixPath('/content/drive/My Drive/AnimalSubspeciesDataset/images/Grizzly_Bear/2031_c55c9afd.jpg'),\n",
              " PosixPath('/content/drive/My Drive/AnimalSubspeciesDataset/images/Grizzly_Bear/2032_3492ef65.jpg'),\n",
              " PosixPath('/content/drive/My Drive/AnimalSubspeciesDataset/images/Grizzly_Bear/2033_676a982e.jpg'),\n",
              " PosixPath('/content/drive/My Drive/AnimalSubspeciesDataset/images/Grizzly_Bear/2034_9b2d55ee.jpg'),\n",
              " PosixPath('/content/drive/My Drive/AnimalSubspeciesDataset/images/Grizzly_Bear/2035_89c4d9dd.jpg'),\n",
              " PosixPath('/content/drive/My Drive/AnimalSubspeciesDataset/images/Grizzly_Bear/2036_1c1b239a.jpg'),\n",
              " PosixPath('/content/drive/My Drive/AnimalSubspeciesDataset/images/Grizzly_Bear/2037_4b8bba14.jpg'),\n",
              " PosixPath('/content/drive/My Drive/AnimalSubspeciesDataset/images/Grizzly_Bear/2038_93011504.jpg'),\n",
              " PosixPath('/content/drive/My Drive/AnimalSubspeciesDataset/images/Grizzly_Bear/2039_07895383.jpg'),\n",
              " PosixPath('/content/drive/My Drive/AnimalSubspeciesDataset/images/Grizzly_Bear/2040_f028a357.jpg'),\n",
              " PosixPath('/content/drive/My Drive/AnimalSubspeciesDataset/images/Grizzly_Bear/2041_f92d2580.jpg'),\n",
              " PosixPath('/content/drive/My Drive/AnimalSubspeciesDataset/images/Grizzly_Bear/2042_3e340ac6.jpg'),\n",
              " PosixPath('/content/drive/My Drive/AnimalSubspeciesDataset/images/Grizzly_Bear/2043_1f6d0346.jpg'),\n",
              " PosixPath('/content/drive/My Drive/AnimalSubspeciesDataset/images/Grizzly_Bear/2044_75505674.jpg'),\n",
              " PosixPath('/content/drive/My Drive/AnimalSubspeciesDataset/images/Grizzly_Bear/2045_3362d805.jpg'),\n",
              " PosixPath('/content/drive/My Drive/AnimalSubspeciesDataset/images/Grizzly_Bear/2046_055f9e85.jpg'),\n",
              " PosixPath('/content/drive/My Drive/AnimalSubspeciesDataset/images/Grizzly_Bear/2047_43ebc27d.jpg'),\n",
              " PosixPath('/content/drive/My Drive/AnimalSubspeciesDataset/images/Grizzly_Bear/2048_9a47df27.jpg'),\n",
              " PosixPath('/content/drive/My Drive/AnimalSubspeciesDataset/images/Grizzly_Bear/2049_23c196b8.jpg'),\n",
              " PosixPath('/content/drive/My Drive/AnimalSubspeciesDataset/images/Grizzly_Bear/2050_712ceee5.jpg'),\n",
              " PosixPath('/content/drive/My Drive/AnimalSubspeciesDataset/images/Grizzly_Bear/2051_c6710128.jpg'),\n",
              " PosixPath('/content/drive/My Drive/AnimalSubspeciesDataset/images/Grizzly_Bear/2052_afc97f30.jpg'),\n",
              " PosixPath('/content/drive/My Drive/AnimalSubspeciesDataset/images/Grizzly_Bear/2053_b53a487c.jpg'),\n",
              " PosixPath('/content/drive/My Drive/AnimalSubspeciesDataset/images/Grizzly_Bear/2054_e784f050.jpg'),\n",
              " PosixPath('/content/drive/My Drive/AnimalSubspeciesDataset/images/Grizzly_Bear/2055_1d4f7213.jpg'),\n",
              " PosixPath('/content/drive/My Drive/AnimalSubspeciesDataset/images/Grizzly_Bear/2056_21ea77aa.jpg'),\n",
              " PosixPath('/content/drive/My Drive/AnimalSubspeciesDataset/images/Grizzly_Bear/2057_4d398a3a.jpg'),\n",
              " PosixPath('/content/drive/My Drive/AnimalSubspeciesDataset/images/Grizzly_Bear/2058_4563bd22.jpg'),\n",
              " PosixPath('/content/drive/My Drive/AnimalSubspeciesDataset/images/Grizzly_Bear/2059_529087b3.jpg'),\n",
              " PosixPath('/content/drive/My Drive/AnimalSubspeciesDataset/images/Grizzly_Bear/2060_f736d3cc.jpg'),\n",
              " PosixPath('/content/drive/My Drive/AnimalSubspeciesDataset/images/Grizzly_Bear/2061_badff619.jpg'),\n",
              " PosixPath('/content/drive/My Drive/AnimalSubspeciesDataset/images/Grizzly_Bear/2062_1f0ef663.jpg'),\n",
              " PosixPath('/content/drive/My Drive/AnimalSubspeciesDataset/images/Grizzly_Bear/2063_f662dfa3.jpg'),\n",
              " PosixPath('/content/drive/My Drive/AnimalSubspeciesDataset/images/Grizzly_Bear/2064_5e5a39f4.jpg'),\n",
              " PosixPath('/content/drive/My Drive/AnimalSubspeciesDataset/images/Grizzly_Bear/2065_d3271e58.jpg'),\n",
              " PosixPath('/content/drive/My Drive/AnimalSubspeciesDataset/images/Grizzly_Bear/2066_d14fce8f.jpg'),\n",
              " PosixPath('/content/drive/My Drive/AnimalSubspeciesDataset/images/Grizzly_Bear/2067_fa889fbb.jpg'),\n",
              " PosixPath('/content/drive/My Drive/AnimalSubspeciesDataset/images/Grizzly_Bear/2068_122ff747.jpg'),\n",
              " PosixPath('/content/drive/My Drive/AnimalSubspeciesDataset/images/Grizzly_Bear/2069_77fb6b70.jpg'),\n",
              " PosixPath('/content/drive/My Drive/AnimalSubspeciesDataset/images/Grizzly_Bear/2070_7126fcd2.jpg'),\n",
              " PosixPath('/content/drive/My Drive/AnimalSubspeciesDataset/images/Grizzly_Bear/2071_7d313965.jpg'),\n",
              " PosixPath('/content/drive/My Drive/AnimalSubspeciesDataset/images/Grizzly_Bear/2072_ce656ce0.jpg'),\n",
              " PosixPath('/content/drive/My Drive/AnimalSubspeciesDataset/images/Grizzly_Bear/2073_fed94c12.jpg'),\n",
              " PosixPath('/content/drive/My Drive/AnimalSubspeciesDataset/images/Grizzly_Bear/2074_46e16f67.jpg'),\n",
              " PosixPath('/content/drive/My Drive/AnimalSubspeciesDataset/images/Grizzly_Bear/2075_01936d71.jpg'),\n",
              " PosixPath('/content/drive/My Drive/AnimalSubspeciesDataset/images/Grizzly_Bear/2076_d68fce05.jpg'),\n",
              " PosixPath('/content/drive/My Drive/AnimalSubspeciesDataset/images/Grizzly_Bear/2077_18fd4e5f.jpg'),\n",
              " PosixPath('/content/drive/My Drive/AnimalSubspeciesDataset/images/Grizzly_Bear/2078_14b21d27.jpg'),\n",
              " PosixPath('/content/drive/My Drive/AnimalSubspeciesDataset/images/Grizzly_Bear/2079_2ade0e52.jpg'),\n",
              " PosixPath('/content/drive/My Drive/AnimalSubspeciesDataset/images/Grizzly_Bear/2080_4fa16b76.jpg'),\n",
              " PosixPath('/content/drive/My Drive/AnimalSubspeciesDataset/images/Grizzly_Bear/2081_dade68d0.jpg'),\n",
              " PosixPath('/content/drive/My Drive/AnimalSubspeciesDataset/images/Grizzly_Bear/2082_c2f47d80.jpg'),\n",
              " PosixPath('/content/drive/My Drive/AnimalSubspeciesDataset/images/Grizzly_Bear/2083_117f729c.jpg'),\n",
              " PosixPath('/content/drive/My Drive/AnimalSubspeciesDataset/images/Grizzly_Bear/2084_e61bac8c.jpg'),\n",
              " PosixPath('/content/drive/My Drive/AnimalSubspeciesDataset/images/Grizzly_Bear/2085_1a9d7fc6.jpg'),\n",
              " PosixPath('/content/drive/My Drive/AnimalSubspeciesDataset/images/Grizzly_Bear/2086_0cdb78dc.jpg'),\n",
              " PosixPath('/content/drive/My Drive/AnimalSubspeciesDataset/images/Grizzly_Bear/2087_ef1f0775.jpg'),\n",
              " PosixPath('/content/drive/My Drive/AnimalSubspeciesDataset/images/Grizzly_Bear/2088_fad0fb67.jpg'),\n",
              " PosixPath('/content/drive/My Drive/AnimalSubspeciesDataset/images/Grizzly_Bear/2089_a61a2146.jpg'),\n",
              " PosixPath('/content/drive/My Drive/AnimalSubspeciesDataset/images/Grizzly_Bear/2090_9a324ef1.jpg'),\n",
              " PosixPath('/content/drive/My Drive/AnimalSubspeciesDataset/images/Grizzly_Bear/2091_758f3563.jpg'),\n",
              " PosixPath('/content/drive/My Drive/AnimalSubspeciesDataset/images/Grizzly_Bear/2092_b57ae703.jpg'),\n",
              " PosixPath('/content/drive/My Drive/AnimalSubspeciesDataset/images/Grizzly_Bear/2093_b4757260.jpg'),\n",
              " PosixPath('/content/drive/My Drive/AnimalSubspeciesDataset/images/Grizzly_Bear/2094_39e38024.jpg'),\n",
              " PosixPath('/content/drive/My Drive/AnimalSubspeciesDataset/images/Grizzly_Bear/2095_478caa12.jpg'),\n",
              " PosixPath('/content/drive/My Drive/AnimalSubspeciesDataset/images/Grizzly_Bear/2096_74ad9f90.jpg'),\n",
              " PosixPath('/content/drive/My Drive/AnimalSubspeciesDataset/images/Grizzly_Bear/2097_b2412f71.jpg'),\n",
              " PosixPath('/content/drive/My Drive/AnimalSubspeciesDataset/images/Grizzly_Bear/2098_8a868242.jpg'),\n",
              " PosixPath('/content/drive/My Drive/AnimalSubspeciesDataset/images/Grizzly_Bear/2099_18995662.jpg'),\n",
              " PosixPath('/content/drive/My Drive/AnimalSubspeciesDataset/images/Grizzly_Bear/2100_e0c95d97.jpg'),\n",
              " PosixPath('/content/drive/My Drive/AnimalSubspeciesDataset/images/Grizzly_Bear/2101_2be2afa5.jpg'),\n",
              " PosixPath('/content/drive/My Drive/AnimalSubspeciesDataset/images/Grizzly_Bear/2102_af494ab9.jpg'),\n",
              " PosixPath('/content/drive/My Drive/AnimalSubspeciesDataset/images/Grizzly_Bear/2103_b33ff534.jpg'),\n",
              " PosixPath('/content/drive/My Drive/AnimalSubspeciesDataset/images/Grizzly_Bear/2104_abf576ea.jpg'),\n",
              " PosixPath('/content/drive/My Drive/AnimalSubspeciesDataset/images/Grizzly_Bear/2105_61231b0b.jpg'),\n",
              " PosixPath('/content/drive/My Drive/AnimalSubspeciesDataset/images/Grizzly_Bear/2106_332761fb.jpg'),\n",
              " PosixPath('/content/drive/My Drive/AnimalSubspeciesDataset/images/Grizzly_Bear/2107_776f8d04.jpg'),\n",
              " PosixPath('/content/drive/My Drive/AnimalSubspeciesDataset/images/Grizzly_Bear/2108_c05e8895.jpg'),\n",
              " PosixPath('/content/drive/My Drive/AnimalSubspeciesDataset/images/Grizzly_Bear/2109_be0b8d6d.jpg'),\n",
              " PosixPath('/content/drive/My Drive/AnimalSubspeciesDataset/images/Grizzly_Bear/2110_8bfb1329.jpg'),\n",
              " PosixPath('/content/drive/My Drive/AnimalSubspeciesDataset/images/Grizzly_Bear/2111_7e2938e1.jpg'),\n",
              " PosixPath('/content/drive/My Drive/AnimalSubspeciesDataset/images/Grizzly_Bear/2112_ba9cb075.jpg'),\n",
              " PosixPath('/content/drive/My Drive/AnimalSubspeciesDataset/images/Grizzly_Bear/2113_610fbd10.jpg'),\n",
              " PosixPath('/content/drive/My Drive/AnimalSubspeciesDataset/images/Grizzly_Bear/2114_6aa8f2ba.jpg'),\n",
              " PosixPath('/content/drive/My Drive/AnimalSubspeciesDataset/images/Grizzly_Bear/2115_1aa74560.jpg'),\n",
              " PosixPath('/content/drive/My Drive/AnimalSubspeciesDataset/images/Grizzly_Bear/2116_74dd40ea.jpg'),\n",
              " PosixPath('/content/drive/My Drive/AnimalSubspeciesDataset/images/Grizzly_Bear/2117_a21ebb35.jpg'),\n",
              " PosixPath('/content/drive/My Drive/AnimalSubspeciesDataset/images/Grizzly_Bear/2118_39544e93.jpg'),\n",
              " PosixPath('/content/drive/My Drive/AnimalSubspeciesDataset/images/Grizzly_Bear/2119_59fb91af.jpg'),\n",
              " PosixPath('/content/drive/My Drive/AnimalSubspeciesDataset/images/Grizzly_Bear/2120_77c6d4e7.jpg'),\n",
              " PosixPath('/content/drive/My Drive/AnimalSubspeciesDataset/images/Grizzly_Bear/2121_62db10d9.jpg'),\n",
              " PosixPath('/content/drive/My Drive/AnimalSubspeciesDataset/images/Grizzly_Bear/2122_6b8d8feb.jpg'),\n",
              " PosixPath('/content/drive/My Drive/AnimalSubspeciesDataset/images/Grizzly_Bear/2123_225bf75c.jpg'),\n",
              " PosixPath('/content/drive/My Drive/AnimalSubspeciesDataset/images/Grizzly_Bear/2124_ed78e719.jpg'),\n",
              " PosixPath('/content/drive/My Drive/AnimalSubspeciesDataset/images/Grizzly_Bear/2125_3e08630d.jpg'),\n",
              " PosixPath('/content/drive/My Drive/AnimalSubspeciesDataset/images/Grizzly_Bear/2126_d3697275.jpg'),\n",
              " PosixPath('/content/drive/My Drive/AnimalSubspeciesDataset/images/Grizzly_Bear/2127_a112f88e.jpg'),\n",
              " PosixPath('/content/drive/My Drive/AnimalSubspeciesDataset/images/Grizzly_Bear/2128_99759fd9.jpg'),\n",
              " PosixPath('/content/drive/My Drive/AnimalSubspeciesDataset/images/Grizzly_Bear/2129_a75048ff.jpg'),\n",
              " PosixPath('/content/drive/My Drive/AnimalSubspeciesDataset/images/Grizzly_Bear/2130_5c1c13e7.jpg'),\n",
              " PosixPath('/content/drive/My Drive/AnimalSubspeciesDataset/images/Grizzly_Bear/2131_b48b1449.jpg'),\n",
              " PosixPath('/content/drive/My Drive/AnimalSubspeciesDataset/images/Grizzly_Bear/2132_231312a1.jpg'),\n",
              " PosixPath('/content/drive/My Drive/AnimalSubspeciesDataset/images/Grizzly_Bear/2133_787a4f14.jpg'),\n",
              " PosixPath('/content/drive/My Drive/AnimalSubspeciesDataset/images/Grizzly_Bear/2134_a3d6dae9.jpg'),\n",
              " PosixPath('/content/drive/My Drive/AnimalSubspeciesDataset/images/Grizzly_Bear/2135_84df2cf5.jpg'),\n",
              " PosixPath('/content/drive/My Drive/AnimalSubspeciesDataset/images/Grizzly_Bear/2136_d87f1ea8.jpg'),\n",
              " PosixPath('/content/drive/My Drive/AnimalSubspeciesDataset/images/Grizzly_Bear/2137_1b471fe3.jpg'),\n",
              " PosixPath('/content/drive/My Drive/AnimalSubspeciesDataset/images/Grizzly_Bear/2138_320230b7.jpg'),\n",
              " PosixPath('/content/drive/My Drive/AnimalSubspeciesDataset/images/Grizzly_Bear/2139_8dd39e4e.jpg'),\n",
              " PosixPath('/content/drive/My Drive/AnimalSubspeciesDataset/images/Grizzly_Bear/2140_d496af9e.jpg'),\n",
              " PosixPath('/content/drive/My Drive/AnimalSubspeciesDataset/images/Grizzly_Bear/2141_6d71be38.jpg'),\n",
              " PosixPath('/content/drive/My Drive/AnimalSubspeciesDataset/images/Grizzly_Bear/2142_6e26b570.jpg'),\n",
              " PosixPath('/content/drive/My Drive/AnimalSubspeciesDataset/images/Grizzly_Bear/2143_d3c3c322.jpg'),\n",
              " PosixPath('/content/drive/My Drive/AnimalSubspeciesDataset/images/Grizzly_Bear/2144_8196c194.jpg'),\n",
              " PosixPath('/content/drive/My Drive/AnimalSubspeciesDataset/images/Grizzly_Bear/2145_e3404c08.jpg'),\n",
              " PosixPath('/content/drive/My Drive/AnimalSubspeciesDataset/images/Grizzly_Bear/2146_6e15c172.jpg'),\n",
              " PosixPath('/content/drive/My Drive/AnimalSubspeciesDataset/images/Grizzly_Bear/2147_8d888d35.jpg'),\n",
              " PosixPath('/content/drive/My Drive/AnimalSubspeciesDataset/images/Grizzly_Bear/2148_61b6d11c.jpg'),\n",
              " PosixPath('/content/drive/My Drive/AnimalSubspeciesDataset/images/Grizzly_Bear/2149_40aa7f77.jpg'),\n",
              " PosixPath('/content/drive/My Drive/AnimalSubspeciesDataset/images/Grizzly_Bear/2150_4ee6c4e8.jpg'),\n",
              " PosixPath('/content/drive/My Drive/AnimalSubspeciesDataset/images/Grizzly_Bear/2151_3f841e9f.jpg'),\n",
              " PosixPath('/content/drive/My Drive/AnimalSubspeciesDataset/images/Grizzly_Bear/2152_f44f50f9.jpg'),\n",
              " PosixPath('/content/drive/My Drive/AnimalSubspeciesDataset/images/Grizzly_Bear/2153_c26b3069.jpg'),\n",
              " PosixPath('/content/drive/My Drive/AnimalSubspeciesDataset/images/Grizzly_Bear/2154_99804d74.jpg'),\n",
              " PosixPath('/content/drive/My Drive/AnimalSubspeciesDataset/images/Grizzly_Bear/2155_acebf003.jpg'),\n",
              " PosixPath('/content/drive/My Drive/AnimalSubspeciesDataset/images/Grizzly_Bear/2156_accea134.jpg'),\n",
              " PosixPath('/content/drive/My Drive/AnimalSubspeciesDataset/images/Grizzly_Bear/2157_db9cf658.jpg'),\n",
              " PosixPath('/content/drive/My Drive/AnimalSubspeciesDataset/images/Grizzly_Bear/2158_11de2333.jpg'),\n",
              " PosixPath('/content/drive/My Drive/AnimalSubspeciesDataset/images/Grizzly_Bear/2159_62d60988.jpg'),\n",
              " PosixPath('/content/drive/My Drive/AnimalSubspeciesDataset/images/Grizzly_Bear/2160_5d1ece05.jpg'),\n",
              " PosixPath('/content/drive/My Drive/AnimalSubspeciesDataset/images/Grizzly_Bear/2161_2a7d9606.jpg'),\n",
              " PosixPath('/content/drive/My Drive/AnimalSubspeciesDataset/images/Grizzly_Bear/2162_ea1e6a1b.jpg'),\n",
              " PosixPath('/content/drive/My Drive/AnimalSubspeciesDataset/images/Grizzly_Bear/2163_884136f0.jpg'),\n",
              " PosixPath('/content/drive/My Drive/AnimalSubspeciesDataset/images/Grizzly_Bear/2164_503509c7.jpg'),\n",
              " PosixPath('/content/drive/My Drive/AnimalSubspeciesDataset/images/Grizzly_Bear/2165_ee487b48.jpg'),\n",
              " PosixPath('/content/drive/My Drive/AnimalSubspeciesDataset/images/Grizzly_Bear/2166_96072871.jpg'),\n",
              " PosixPath('/content/drive/My Drive/AnimalSubspeciesDataset/images/Grizzly_Bear/2167_24cbbb21.jpg'),\n",
              " PosixPath('/content/drive/My Drive/AnimalSubspeciesDataset/images/Grizzly_Bear/2168_19b5e534.jpg'),\n",
              " PosixPath('/content/drive/My Drive/AnimalSubspeciesDataset/images/Grizzly_Bear/2169_7f6fd620.jpg'),\n",
              " PosixPath('/content/drive/My Drive/AnimalSubspeciesDataset/images/Grizzly_Bear/2170_55f309c8.jpg'),\n",
              " PosixPath('/content/drive/My Drive/AnimalSubspeciesDataset/images/Grizzly_Bear/2171_37339107.jpg'),\n",
              " PosixPath('/content/drive/My Drive/AnimalSubspeciesDataset/images/Grizzly_Bear/2172_60247c09.jpg'),\n",
              " PosixPath('/content/drive/My Drive/AnimalSubspeciesDataset/images/Grizzly_Bear/2173_e7da50e4.jpg'),\n",
              " PosixPath('/content/drive/My Drive/AnimalSubspeciesDataset/images/Grizzly_Bear/2174_2bd334fd.jpg'),\n",
              " PosixPath('/content/drive/My Drive/AnimalSubspeciesDataset/images/Grizzly_Bear/2175_ec209848.jpg'),\n",
              " PosixPath('/content/drive/My Drive/AnimalSubspeciesDataset/images/Grizzly_Bear/2176_4e5694b0.jpg'),\n",
              " PosixPath('/content/drive/My Drive/AnimalSubspeciesDataset/images/Grizzly_Bear/2177_dfb10c8e.jpg'),\n",
              " PosixPath('/content/drive/My Drive/AnimalSubspeciesDataset/images/Grizzly_Bear/2178_a2df3658.jpg'),\n",
              " PosixPath('/content/drive/My Drive/AnimalSubspeciesDataset/images/Grizzly_Bear/2179_b8556745.jpg'),\n",
              " PosixPath('/content/drive/My Drive/AnimalSubspeciesDataset/images/Grizzly_Bear/2180_632c395b.jpg'),\n",
              " PosixPath('/content/drive/My Drive/AnimalSubspeciesDataset/images/Grizzly_Bear/2181_08aa08de.jpg'),\n",
              " PosixPath('/content/drive/My Drive/AnimalSubspeciesDataset/images/Grizzly_Bear/2182_9b55db37.jpg'),\n",
              " PosixPath('/content/drive/My Drive/AnimalSubspeciesDataset/images/Grizzly_Bear/2183_b20429b9.jpg'),\n",
              " PosixPath('/content/drive/My Drive/AnimalSubspeciesDataset/images/Grizzly_Bear/2184_660ee654.jpg'),\n",
              " PosixPath('/content/drive/My Drive/AnimalSubspeciesDataset/images/Grizzly_Bear/2185_40bb0cf4.jpg'),\n",
              " PosixPath('/content/drive/My Drive/AnimalSubspeciesDataset/images/Grizzly_Bear/2186_4b15464c.jpg'),\n",
              " PosixPath('/content/drive/My Drive/AnimalSubspeciesDataset/images/Grizzly_Bear/2187_a1cccb3b.jpg'),\n",
              " PosixPath('/content/drive/My Drive/AnimalSubspeciesDataset/images/Grizzly_Bear/2188_7d11110f.jpg'),\n",
              " PosixPath('/content/drive/My Drive/AnimalSubspeciesDataset/images/Grizzly_Bear/2189_a6539478.jpg'),\n",
              " PosixPath('/content/drive/My Drive/AnimalSubspeciesDataset/images/Grizzly_Bear/2190_26e13884.jpg'),\n",
              " PosixPath('/content/drive/My Drive/AnimalSubspeciesDataset/images/Grizzly_Bear/2191_9b5c7e63.jpg'),\n",
              " PosixPath('/content/drive/My Drive/AnimalSubspeciesDataset/images/Grizzly_Bear/2192_62dde442.jpg'),\n",
              " PosixPath('/content/drive/My Drive/AnimalSubspeciesDataset/images/Grizzly_Bear/2193_abda4047.jpg'),\n",
              " PosixPath('/content/drive/My Drive/AnimalSubspeciesDataset/images/Grizzly_Bear/2194_3f54630d.jpg'),\n",
              " PosixPath('/content/drive/My Drive/AnimalSubspeciesDataset/images/Grizzly_Bear/2195_bb51de9f.jpg'),\n",
              " PosixPath('/content/drive/My Drive/AnimalSubspeciesDataset/images/Grizzly_Bear/2196_8f27c50e.jpg'),\n",
              " PosixPath('/content/drive/My Drive/AnimalSubspeciesDataset/images/Grizzly_Bear/2197_5270d418.jpg'),\n",
              " PosixPath('/content/drive/My Drive/AnimalSubspeciesDataset/images/Grizzly_Bear/2198_c31a810a.jpg'),\n",
              " PosixPath('/content/drive/My Drive/AnimalSubspeciesDataset/images/Grizzly_Bear/2199_6a8d4ffd.jpg'),\n",
              " PosixPath('/content/drive/My Drive/AnimalSubspeciesDataset/images/Grizzly_Bear/2200_c170d6db.jpg'),\n",
              " PosixPath('/content/drive/My Drive/AnimalSubspeciesDataset/images/Grizzly_Bear/2201_c9ecf27f.jpg'),\n",
              " PosixPath('/content/drive/My Drive/AnimalSubspeciesDataset/images/Grizzly_Bear/2202_a169b278.jpg'),\n",
              " PosixPath('/content/drive/My Drive/AnimalSubspeciesDataset/images/Grizzly_Bear/2203_6603feee.jpg'),\n",
              " PosixPath('/content/drive/My Drive/AnimalSubspeciesDataset/images/Grizzly_Bear/2204_a2e9111a.jpg'),\n",
              " PosixPath('/content/drive/My Drive/AnimalSubspeciesDataset/images/Grizzly_Bear/2205_56660dd9.jpg'),\n",
              " PosixPath('/content/drive/My Drive/AnimalSubspeciesDataset/images/Grizzly_Bear/2206_436daea1.jpg'),\n",
              " PosixPath('/content/drive/My Drive/AnimalSubspeciesDataset/images/Grizzly_Bear/2207_34303592.jpg'),\n",
              " PosixPath('/content/drive/My Drive/AnimalSubspeciesDataset/images/Grizzly_Bear/2208_c95ccfab.jpg'),\n",
              " PosixPath('/content/drive/My Drive/AnimalSubspeciesDataset/images/Grizzly_Bear/2209_365b024e.jpg'),\n",
              " PosixPath('/content/drive/My Drive/AnimalSubspeciesDataset/images/Grizzly_Bear/2210_a6f7e14a.jpg'),\n",
              " PosixPath('/content/drive/My Drive/AnimalSubspeciesDataset/images/Grizzly_Bear/2211_44455bf6.jpg'),\n",
              " PosixPath('/content/drive/My Drive/AnimalSubspeciesDataset/images/Grizzly_Bear/2212_be1eaa0d.jpg'),\n",
              " PosixPath('/content/drive/My Drive/AnimalSubspeciesDataset/images/Grizzly_Bear/2213_1a5dd8ea.jpg'),\n",
              " PosixPath('/content/drive/My Drive/AnimalSubspeciesDataset/images/Grizzly_Bear/2214_c5ee67e9.jpg'),\n",
              " PosixPath('/content/drive/My Drive/AnimalSubspeciesDataset/images/Grizzly_Bear/2215_e98e6fba.jpg'),\n",
              " PosixPath('/content/drive/My Drive/AnimalSubspeciesDataset/images/Grizzly_Bear/2216_c0c03486.jpg'),\n",
              " PosixPath('/content/drive/My Drive/AnimalSubspeciesDataset/images/Grizzly_Bear/2217_f52a784a.jpg'),\n",
              " PosixPath('/content/drive/My Drive/AnimalSubspeciesDataset/images/Grizzly_Bear/2218_0e69774b.jpg'),\n",
              " PosixPath('/content/drive/My Drive/AnimalSubspeciesDataset/images/Grizzly_Bear/2219_c5c2e4fa.jpg'),\n",
              " PosixPath('/content/drive/My Drive/AnimalSubspeciesDataset/images/Grizzly_Bear/2220_85f4d2e5.jpg'),\n",
              " PosixPath('/content/drive/My Drive/AnimalSubspeciesDataset/images/Grizzly_Bear/2221_ca5e5eee.jpg'),\n",
              " PosixPath('/content/drive/My Drive/AnimalSubspeciesDataset/images/Grizzly_Bear/2222_8d4b2167.jpg'),\n",
              " PosixPath('/content/drive/My Drive/AnimalSubspeciesDataset/images/Grizzly_Bear/2223_08564137.jpg'),\n",
              " PosixPath('/content/drive/My Drive/AnimalSubspeciesDataset/images/Grizzly_Bear/2224_47af2667.jpg'),\n",
              " PosixPath('/content/drive/My Drive/AnimalSubspeciesDataset/images/Grizzly_Bear/2225_d8090163.jpg'),\n",
              " PosixPath('/content/drive/My Drive/AnimalSubspeciesDataset/images/Grizzly_Bear/2226_5665bb89.jpg'),\n",
              " PosixPath('/content/drive/My Drive/AnimalSubspeciesDataset/images/Grizzly_Bear/2227_cd39b2dc.jpg'),\n",
              " PosixPath('/content/drive/My Drive/AnimalSubspeciesDataset/images/Grizzly_Bear/2228_a3a118b1.jpg'),\n",
              " PosixPath('/content/drive/My Drive/AnimalSubspeciesDataset/images/Grizzly_Bear/2229_288b0ddf.jpg'),\n",
              " PosixPath('/content/drive/My Drive/AnimalSubspeciesDataset/images/Grizzly_Bear/2230_6bc2c2ee.jpg'),\n",
              " PosixPath('/content/drive/My Drive/AnimalSubspeciesDataset/images/Grizzly_Bear/2231_20dd8dd2.jpg'),\n",
              " PosixPath('/content/drive/My Drive/AnimalSubspeciesDataset/images/Grizzly_Bear/2232_6893e25a.jpg'),\n",
              " PosixPath('/content/drive/My Drive/AnimalSubspeciesDataset/images/Grizzly_Bear/2233_6a475bc8.jpg'),\n",
              " PosixPath('/content/drive/My Drive/AnimalSubspeciesDataset/images/Grizzly_Bear/2234_b19256b2.jpg'),\n",
              " PosixPath('/content/drive/My Drive/AnimalSubspeciesDataset/images/Grizzly_Bear/2235_0aa93a78.jpg'),\n",
              " PosixPath('/content/drive/My Drive/AnimalSubspeciesDataset/images/Grizzly_Bear/2236_dacba72b.jpg'),\n",
              " PosixPath('/content/drive/My Drive/AnimalSubspeciesDataset/images/Grizzly_Bear/2237_6b7d007d.jpg'),\n",
              " PosixPath('/content/drive/My Drive/AnimalSubspeciesDataset/images/Grizzly_Bear/2238_7bd37600.jpg')]"
            ]
          },
          "metadata": {},
          "execution_count": 4
        }
      ]
    },
    {
      "cell_type": "markdown",
      "source": [
        "##4.Data Standardization (Image Preprocessing)"
      ],
      "metadata": {
        "id": "zScEEugP_qDd"
      },
      "id": "zScEEugP_qDd"
    },
    {
      "cell_type": "markdown",
      "source": [
        "**Neural networks typically require images to be of a uniform size.**"
      ],
      "metadata": {
        "id": "GAHQeCtn_s1G"
      },
      "id": "GAHQeCtn_s1G"
    },
    {
      "cell_type": "markdown",
      "source": [
        "**Steps for Data Standardization:**"
      ],
      "metadata": {
        "id": "AeGLbRaw_vdg"
      },
      "id": "AeGLbRaw_vdg"
    },
    {
      "cell_type": "markdown",
      "source": [
        "*   Install Pillow"
      ],
      "metadata": {
        "id": "SKo0Aq3h_yv-"
      },
      "id": "SKo0Aq3h_yv-"
    },
    {
      "cell_type": "code",
      "source": [
        "!pip install Pillow"
      ],
      "metadata": {
        "colab": {
          "base_uri": "https://localhost:8080/"
        },
        "id": "Yvivn4Lu_0rk",
        "outputId": "2c69f8c3-5106-4795-9cd5-fba178eaa71d"
      },
      "id": "Yvivn4Lu_0rk",
      "execution_count": null,
      "outputs": [
        {
          "output_type": "stream",
          "name": "stdout",
          "text": [
            "Requirement already satisfied: Pillow in /usr/local/lib/python3.11/dist-packages (11.2.1)\n"
          ]
        }
      ]
    },
    {
      "cell_type": "markdown",
      "source": [
        "*  Import necessary libraries:"
      ],
      "metadata": {
        "id": "PAMvfTSD_3rY"
      },
      "id": "PAMvfTSD_3rY"
    },
    {
      "cell_type": "code",
      "source": [
        "from PIL import Image\n",
        "import glob\n",
        "import os"
      ],
      "metadata": {
        "id": "bHzLwB_h_6nF"
      },
      "id": "bHzLwB_h_6nF",
      "execution_count": null,
      "outputs": []
    },
    {
      "cell_type": "markdown",
      "source": [
        "*  Define target size: A common size for image classification models is 224x224 or 128x128."
      ],
      "metadata": {
        "id": "kqq6clzG_-S2"
      },
      "id": "kqq6clzG_-S2"
    },
    {
      "cell_type": "code",
      "source": [
        "IMG_WIDTH = 224\n",
        "IMG_HEIGHT = 224\n",
        "TARGET_SIZE = (IMG_WIDTH, IMG_HEIGHT)"
      ],
      "metadata": {
        "id": "HQ1AH1G4__Mt"
      },
      "id": "HQ1AH1G4__Mt",
      "execution_count": null,
      "outputs": []
    },
    {
      "cell_type": "markdown",
      "source": [
        "*  Batch Resize Images:"
      ],
      "metadata": {
        "id": "w6jqZssGABiN"
      },
      "id": "w6jqZssGABiN"
    },
    {
      "cell_type": "code",
      "source": [
        "input_base_dir = Path().cwd()/\"images\" # Where your downloaded images are\n",
        "output_base_dir = Path().cwd()/\"processed_images\"\n",
        "os.makedirs(output_base_dir, exist_ok=True)\n",
        "\n",
        "for class_folder in os.listdir(input_base_dir):\n",
        "    class_input_path = os.path.join(input_base_dir, class_folder)\n",
        "    class_output_path = os.path.join(output_base_dir, class_folder)\n",
        "    os.makedirs(class_output_path, exist_ok=True)\n",
        "\n",
        "    if os.path.isdir(class_input_path):\n",
        "        print(f\"Processing images in: {class_folder}\")\n",
        "        for img_file in glob.glob(os.path.join(class_input_path, '*.*')):\n",
        "            try:\n",
        "                with Image.open(img_file) as img:\n",
        "                    img = img.resize(TARGET_SIZE)\n",
        "                    # Save with original filename in the new processed directory\n",
        "                    img_name = os.path.basename(img_file)\n",
        "                    img.save(os.path.join(class_output_path, img_name))\n",
        "            except Exception as e:\n",
        "                print(f\"Could not process {img_file}: {e}\")\n",
        "print(\"Image standardization complete.\")"
      ],
      "metadata": {
        "colab": {
          "base_uri": "https://localhost:8080/"
        },
        "id": "lg_x5ohDAD6U",
        "outputId": "3f98e4b1-513e-414a-e524-05bef0b77284"
      },
      "id": "lg_x5ohDAD6U",
      "execution_count": null,
      "outputs": [
        {
          "output_type": "stream",
          "name": "stdout",
          "text": [
            "Processing images in: Golden_Retriever\n",
            "Processing images in: Siamese_Cat\n",
            "Processing images in: Bengal_Tiger\n",
            "Processing images in: African_Elephant\n",
            "Processing images in: Emperor_Penguin\n",
            "Processing images in: Red_Panda\n",
            "Processing images in: Blue_Jay\n",
            "Processing images in: Grizzly_Bear\n",
            "Image standardization complete.\n"
          ]
        }
      ]
    },
    {
      "cell_type": "markdown",
      "source": [
        "##5.Creating Dataset (Splitting into Train, Validation, Test)"
      ],
      "metadata": {
        "id": "SVZc_U7hAIan"
      },
      "id": "SVZc_U7hAIan"
    },
    {
      "cell_type": "markdown",
      "source": [
        "**Steps for Splitting the Dataset:**"
      ],
      "metadata": {
        "id": "Mhiwh57DAKzV"
      },
      "id": "Mhiwh57DAKzV"
    },
    {
      "cell_type": "markdown",
      "source": [
        "*   Install split_folders:"
      ],
      "metadata": {
        "id": "X9PScch_AN73"
      },
      "id": "X9PScch_AN73"
    },
    {
      "cell_type": "code",
      "source": [
        "!pip install split_folders"
      ],
      "metadata": {
        "id": "ZVDVcSxWAS2F",
        "colab": {
          "base_uri": "https://localhost:8080/"
        },
        "outputId": "fa630754-f0a6-48b2-b555-73d9c47aec3a"
      },
      "id": "ZVDVcSxWAS2F",
      "execution_count": null,
      "outputs": [
        {
          "output_type": "stream",
          "name": "stdout",
          "text": [
            "Collecting split_folders\n",
            "  Downloading split_folders-0.5.1-py3-none-any.whl.metadata (6.2 kB)\n",
            "Downloading split_folders-0.5.1-py3-none-any.whl (8.4 kB)\n",
            "Installing collected packages: split_folders\n",
            "Successfully installed split_folders-0.5.1\n"
          ]
        }
      ]
    },
    {
      "cell_type": "markdown",
      "source": [
        "*  Import the library:"
      ],
      "metadata": {
        "id": "qMi2fFBnAVbf"
      },
      "id": "qMi2fFBnAVbf"
    },
    {
      "cell_type": "code",
      "source": [
        "import splitfolders"
      ],
      "metadata": {
        "id": "qPP0adf6AUCK"
      },
      "id": "qPP0adf6AUCK",
      "execution_count": null,
      "outputs": []
    },
    {
      "cell_type": "markdown",
      "source": [
        "*  Perform the split:"
      ],
      "metadata": {
        "id": "Gphh4DeqAaCa"
      },
      "id": "Gphh4DeqAaCa"
    },
    {
      "cell_type": "markdown",
      "source": [
        "**Common ratios are 70% for training, 15% for validation, and 15% for testing.**"
      ],
      "metadata": {
        "id": "odiMsF-LAbxW"
      },
      "id": "odiMsF-LAbxW"
    },
    {
      "cell_type": "code",
      "source": [
        "input_folder = Path().cwd()/\"processed_images\"\n",
        "output_folder = Path().cwd()/\"dataset_splits\" # This will be the output directory for your splits\n",
        "\n",
        "# Split with a ratio of 70% training, 15% validation, 15% testing\n",
        "# set 'seed' for reproducibility\n",
        "# 'group_prefix' is useful if you have multiple datasets and want to prefix the output folders\n",
        "splitfolders.ratio(input_folder, output=output_folder, seed=42, ratio=(0.7, 0.15, 0.15), group_prefix=None)\n",
        "\n",
        "print(\"Dataset splitting complete.\")"
      ],
      "metadata": {
        "id": "esRkdOO3Ae4K",
        "colab": {
          "base_uri": "https://localhost:8080/"
        },
        "outputId": "74bd9458-dda9-4d37-b500-523069966260"
      },
      "id": "esRkdOO3Ae4K",
      "execution_count": null,
      "outputs": [
        {
          "output_type": "stream",
          "name": "stderr",
          "text": [
            "Copying files: 30169 files [43:27, 11.57 files/s]"
          ]
        },
        {
          "output_type": "stream",
          "name": "stdout",
          "text": [
            "Dataset splitting complete.\n"
          ]
        },
        {
          "output_type": "stream",
          "name": "stderr",
          "text": [
            "\n"
          ]
        }
      ]
    },
    {
      "cell_type": "markdown",
      "source": [
        "##6.Verification"
      ],
      "metadata": {
        "id": "7xmzDBGKAiMh"
      },
      "id": "7xmzDBGKAiMh"
    },
    {
      "cell_type": "code",
      "source": [
        "import os\n",
        "\n",
        "split_base_path = Path().cwd()/\"dataset_splits\"\n",
        "\n",
        "for split_type in ['train', 'val', 'test']:\n",
        "    split_path = os.path.join(split_base_path, split_type)\n",
        "    print(f\"\\n--- {split_type.upper()} SET ---\")\n",
        "    total_images_in_split = 0\n",
        "    for class_name in os.listdir(split_path):\n",
        "        class_path = os.path.join(split_path, class_name)\n",
        "        if os.path.isdir(class_path):\n",
        "            num_images = len(os.listdir(class_path))\n",
        "            print(f\"  {class_name}: {num_images} images\")\n",
        "            total_images_in_split += num_images\n",
        "    print(f\"Total images in {split_type} set: {total_images_in_split}\")"
      ],
      "metadata": {
        "id": "QmUEWWxtAkSv",
        "colab": {
          "base_uri": "https://localhost:8080/"
        },
        "outputId": "718863f0-38f0-4cde-f974-60791ef5d781"
      },
      "id": "QmUEWWxtAkSv",
      "execution_count": null,
      "outputs": [
        {
          "output_type": "stream",
          "name": "stdout",
          "text": [
            "\n",
            "--- TRAIN SET ---\n",
            "  Golden_Retriever: 3944 images\n",
            "  Siamese_Cat: 4081 images\n",
            "  Bengal_Tiger: 5021 images\n",
            "  African_Elephant: 2341 images\n",
            "  Emperor_Penguin: 2285 images\n",
            "  Red_Panda: 2248 images\n",
            "  Blue_Jay: 2438 images\n",
            "  Grizzly_Bear: 2666 images\n",
            "Total images in train set: 25024\n",
            "\n",
            "--- VAL SET ---\n",
            "  Golden_Retriever: 1123 images\n",
            "  Siamese_Cat: 1212 images\n",
            "  Bengal_Tiger: 1386 images\n",
            "  African_Elephant: 684 images\n",
            "  Emperor_Penguin: 655 images\n",
            "  Red_Panda: 633 images\n",
            "  Blue_Jay: 742 images\n",
            "  Grizzly_Bear: 764 images\n",
            "Total images in val set: 7199\n",
            "\n",
            "--- TEST SET ---\n",
            "  Golden_Retriever: 1114 images\n",
            "  Siamese_Cat: 1225 images\n",
            "  Bengal_Tiger: 1374 images\n",
            "  African_Elephant: 685 images\n",
            "  Emperor_Penguin: 650 images\n",
            "  Red_Panda: 635 images\n",
            "  Blue_Jay: 718 images\n",
            "  Grizzly_Bear: 778 images\n",
            "Total images in test set: 7179\n"
          ]
        }
      ]
    },
    {
      "cell_type": "markdown",
      "id": "5e9aa570",
      "metadata": {
        "id": "5e9aa570"
      },
      "source": [
        "# Task 2 - Data Scientist"
      ]
    },
    {
      "cell_type": "markdown",
      "id": "0cf0da98",
      "metadata": {
        "id": "0cf0da98"
      },
      "source": [
        "## Dependencies Installation\n",
        "\n",
        "**Install required packages for deep learning model training**"
      ]
    },
    {
      "cell_type": "markdown",
      "id": "9104d367",
      "metadata": {
        "id": "9104d367"
      },
      "source": [
        "## 1. Environment Setup and Data Loading"
      ]
    },
    {
      "cell_type": "code",
      "execution_count": null,
      "id": "ae5b9689",
      "metadata": {
        "id": "ae5b9689",
        "outputId": "1ebfcf07-9167-4d49-e9b5-83ef93e30daa",
        "colab": {
          "base_uri": "https://localhost:8080/"
        }
      },
      "outputs": [
        {
          "output_type": "stream",
          "name": "stdout",
          "text": [
            "Requirement already satisfied: tensorflow in /usr/local/lib/python3.11/dist-packages (2.18.0)\n",
            "Requirement already satisfied: absl-py>=1.0.0 in /usr/local/lib/python3.11/dist-packages (from tensorflow) (1.4.0)\n",
            "Requirement already satisfied: astunparse>=1.6.0 in /usr/local/lib/python3.11/dist-packages (from tensorflow) (1.6.3)\n",
            "Requirement already satisfied: flatbuffers>=24.3.25 in /usr/local/lib/python3.11/dist-packages (from tensorflow) (25.2.10)\n",
            "Requirement already satisfied: gast!=0.5.0,!=0.5.1,!=0.5.2,>=0.2.1 in /usr/local/lib/python3.11/dist-packages (from tensorflow) (0.6.0)\n",
            "Requirement already satisfied: google-pasta>=0.1.1 in /usr/local/lib/python3.11/dist-packages (from tensorflow) (0.2.0)\n",
            "Requirement already satisfied: libclang>=13.0.0 in /usr/local/lib/python3.11/dist-packages (from tensorflow) (18.1.1)\n",
            "Requirement already satisfied: opt-einsum>=2.3.2 in /usr/local/lib/python3.11/dist-packages (from tensorflow) (3.4.0)\n",
            "Requirement already satisfied: packaging in /usr/local/lib/python3.11/dist-packages (from tensorflow) (24.2)\n",
            "Requirement already satisfied: protobuf!=4.21.0,!=4.21.1,!=4.21.2,!=4.21.3,!=4.21.4,!=4.21.5,<6.0.0dev,>=3.20.3 in /usr/local/lib/python3.11/dist-packages (from tensorflow) (5.29.5)\n",
            "Requirement already satisfied: requests<3,>=2.21.0 in /usr/local/lib/python3.11/dist-packages (from tensorflow) (2.32.3)\n",
            "Requirement already satisfied: setuptools in /usr/local/lib/python3.11/dist-packages (from tensorflow) (75.2.0)\n",
            "Requirement already satisfied: six>=1.12.0 in /usr/local/lib/python3.11/dist-packages (from tensorflow) (1.17.0)\n",
            "Requirement already satisfied: termcolor>=1.1.0 in /usr/local/lib/python3.11/dist-packages (from tensorflow) (3.1.0)\n",
            "Requirement already satisfied: typing-extensions>=3.6.6 in /usr/local/lib/python3.11/dist-packages (from tensorflow) (4.14.0)\n",
            "Requirement already satisfied: wrapt>=1.11.0 in /usr/local/lib/python3.11/dist-packages (from tensorflow) (1.17.2)\n",
            "Requirement already satisfied: grpcio<2.0,>=1.24.3 in /usr/local/lib/python3.11/dist-packages (from tensorflow) (1.72.1)\n",
            "Requirement already satisfied: tensorboard<2.19,>=2.18 in /usr/local/lib/python3.11/dist-packages (from tensorflow) (2.18.0)\n",
            "Requirement already satisfied: keras>=3.5.0 in /usr/local/lib/python3.11/dist-packages (from tensorflow) (3.8.0)\n",
            "Requirement already satisfied: numpy<2.1.0,>=1.26.0 in /usr/local/lib/python3.11/dist-packages (from tensorflow) (2.0.2)\n",
            "Requirement already satisfied: h5py>=3.11.0 in /usr/local/lib/python3.11/dist-packages (from tensorflow) (3.13.0)\n",
            "Requirement already satisfied: ml-dtypes<0.5.0,>=0.4.0 in /usr/local/lib/python3.11/dist-packages (from tensorflow) (0.4.1)\n",
            "Requirement already satisfied: tensorflow-io-gcs-filesystem>=0.23.1 in /usr/local/lib/python3.11/dist-packages (from tensorflow) (0.37.1)\n",
            "Requirement already satisfied: wheel<1.0,>=0.23.0 in /usr/local/lib/python3.11/dist-packages (from astunparse>=1.6.0->tensorflow) (0.45.1)\n",
            "Requirement already satisfied: rich in /usr/local/lib/python3.11/dist-packages (from keras>=3.5.0->tensorflow) (13.9.4)\n",
            "Requirement already satisfied: namex in /usr/local/lib/python3.11/dist-packages (from keras>=3.5.0->tensorflow) (0.1.0)\n",
            "Requirement already satisfied: optree in /usr/local/lib/python3.11/dist-packages (from keras>=3.5.0->tensorflow) (0.16.0)\n",
            "Requirement already satisfied: charset-normalizer<4,>=2 in /usr/local/lib/python3.11/dist-packages (from requests<3,>=2.21.0->tensorflow) (3.4.2)\n",
            "Requirement already satisfied: idna<4,>=2.5 in /usr/local/lib/python3.11/dist-packages (from requests<3,>=2.21.0->tensorflow) (3.10)\n",
            "Requirement already satisfied: urllib3<3,>=1.21.1 in /usr/local/lib/python3.11/dist-packages (from requests<3,>=2.21.0->tensorflow) (2.4.0)\n",
            "Requirement already satisfied: certifi>=2017.4.17 in /usr/local/lib/python3.11/dist-packages (from requests<3,>=2.21.0->tensorflow) (2025.4.26)\n",
            "Requirement already satisfied: markdown>=2.6.8 in /usr/local/lib/python3.11/dist-packages (from tensorboard<2.19,>=2.18->tensorflow) (3.8)\n",
            "Requirement already satisfied: tensorboard-data-server<0.8.0,>=0.7.0 in /usr/local/lib/python3.11/dist-packages (from tensorboard<2.19,>=2.18->tensorflow) (0.7.2)\n",
            "Requirement already satisfied: werkzeug>=1.0.1 in /usr/local/lib/python3.11/dist-packages (from tensorboard<2.19,>=2.18->tensorflow) (3.1.3)\n",
            "Requirement already satisfied: MarkupSafe>=2.1.1 in /usr/local/lib/python3.11/dist-packages (from werkzeug>=1.0.1->tensorboard<2.19,>=2.18->tensorflow) (3.0.2)\n",
            "Requirement already satisfied: markdown-it-py>=2.2.0 in /usr/local/lib/python3.11/dist-packages (from rich->keras>=3.5.0->tensorflow) (3.0.0)\n",
            "Requirement already satisfied: pygments<3.0.0,>=2.13.0 in /usr/local/lib/python3.11/dist-packages (from rich->keras>=3.5.0->tensorflow) (2.19.1)\n",
            "Requirement already satisfied: mdurl~=0.1 in /usr/local/lib/python3.11/dist-packages (from markdown-it-py>=2.2.0->rich->keras>=3.5.0->tensorflow) (0.1.2)\n",
            "Requirement already satisfied: split-folders in /usr/local/lib/python3.11/dist-packages (0.5.1)\n",
            "Requirement already satisfied: tqdm in /usr/local/lib/python3.11/dist-packages (4.67.1)\n",
            "All dependencies installed successfully\n",
            "restart the runtime if this is the first time installing these packages\n"
          ]
        }
      ],
      "source": [
        "# Install required dependencies\n",
        "# Run this cell first to ensure all packages are available\n",
        "\n",
        "# Core deep learning and data science packages\n",
        "#pip install tensorflow>=2.10.0\n",
        "%pip install keras>=2.10.0\n",
        "%pip install numpy>=1.21.0\n",
        "%pip install pandas>=1.3.0\n",
        "%pip install matplotlib>=3.5.0\n",
        "%pip install seaborn>=0.11.0\n",
        "%pip install scikit-learn>=1.0.0\n",
        "%pip install Pillow>=8.3.0\n",
        "%pip install tensorflow\n",
        "#%pip install tensorflow[and-cuda]\n",
        "\n",
        "\n",
        "# Additional utilities\n",
        "%pip install split-folders  # For dataset splitting (if needed)\n",
        "%pip install tqdm           # For progress bars\n",
        "\n",
        "print(\"All dependencies installed successfully\")\n",
        "print(\"restart the runtime if this is the first time installing these packages\")"
      ]
    },
    {
      "cell_type": "code",
      "execution_count": null,
      "id": "168c995f",
      "metadata": {
        "colab": {
          "base_uri": "https://localhost:8080/"
        },
        "id": "168c995f",
        "outputId": "b13e1307-3cc1-413d-a8c4-a779e29833ec"
      },
      "outputs": [
        {
          "output_type": "stream",
          "name": "stdout",
          "text": [
            "TensorFlow version: 2.18.0\n",
            "GPU Available: [PhysicalDevice(name='/physical_device:GPU:0', device_type='GPU')]\n",
            "Num GPUs Available:  1\n"
          ]
        }
      ],
      "source": [
        "# Import necessary libraries\n",
        "import tensorflow as tf\n",
        "from tensorflow import keras\n",
        "from tensorflow.keras import layers, Model\n",
        "from tensorflow.keras.applications import ResNet50, DenseNet121, MobileNetV3Large\n",
        "from tensorflow.keras.preprocessing.image import ImageDataGenerator\n",
        "from tensorflow.keras.optimizers import Adam\n",
        "from tensorflow.keras.callbacks import ModelCheckpoint, EarlyStopping, ReduceLROnPlateau\n",
        "from tensorflow.keras.metrics import TopKCategoricalAccuracy\n",
        "\n",
        "import numpy as np\n",
        "import pandas as pd\n",
        "import matplotlib.pyplot as plt\n",
        "import seaborn as sns\n",
        "from sklearn.metrics import classification_report, confusion_matrix\n",
        "import time\n",
        "import os\n",
        "from pathlib import Path\n",
        "import warnings\n",
        "warnings.filterwarnings('ignore')\n",
        "\n",
        "# Set random seeds for reproducibility\n",
        "np.random.seed(42)\n",
        "tf.random.set_seed(42)\n",
        "\n",
        "\n",
        "print(\"TensorFlow version:\", tf.__version__)\n",
        "print(\"GPU Available:\", tf.config.list_physical_devices('GPU'))\n",
        "print(\"Num GPUs Available: \", len(tf.config.list_physical_devices('GPU')))\n"
      ]
    },
    {
      "cell_type": "code",
      "execution_count": null,
      "id": "80b4cbb5",
      "metadata": {
        "colab": {
          "base_uri": "https://localhost:8080/"
        },
        "id": "80b4cbb5",
        "outputId": "0836a33e-0919-452a-b625-e3bfb8b52dd6"
      },
      "outputs": [
        {
          "output_type": "stream",
          "name": "stdout",
          "text": [
            "Drive already mounted at /content/drive; to attempt to forcibly remount, call drive.mount(\"/content/drive\", force_remount=True).\n",
            "Base path: /content/drive/My Drive/AnimalSubspeciesDataset\n",
            "Running in Colab: True\n"
          ]
        }
      ],
      "source": [
        "# Mount Google Drive (if using Google Colab)\n",
        "try:\n",
        "    from google.colab import drive\n",
        "    drive.mount('/content/drive')\n",
        "    base_path = '/content/drive/My Drive/AnimalSubspeciesDataset'\n",
        "    IN_COLAB = True\n",
        "except:\n",
        "    # Local environment\n",
        "    base_path = Path().cwd() / \"AnimalSubspeciesDataset\"\n",
        "    IN_COLAB = False\n",
        "\n",
        "print(f\"Base path: {base_path}\")\n",
        "print(f\"Running in Colab: {IN_COLAB}\")"
      ]
    },
    {
      "cell_type": "code",
      "execution_count": null,
      "id": "b17a8671",
      "metadata": {
        "colab": {
          "base_uri": "https://localhost:8080/"
        },
        "id": "b17a8671",
        "outputId": "84e6e835-a6e9-4f12-d7fd-a2ecf5d3561c"
      },
      "outputs": [
        {
          "output_type": "stream",
          "name": "stdout",
          "text": [
            "✓ Path exists: /content/drive/My Drive/AnimalSubspeciesDataset/dataset_splits/train\n",
            "✓ Path exists: /content/drive/My Drive/AnimalSubspeciesDataset/dataset_splits/val\n",
            "✓ Path exists: /content/drive/My Drive/AnimalSubspeciesDataset/dataset_splits/test\n"
          ]
        }
      ],
      "source": [
        "# Define paths\n",
        "dataset_path = os.path.join(base_path, 'dataset_splits')\n",
        "train_path = os.path.join(dataset_path, 'train')\n",
        "val_path = os.path.join(dataset_path, 'val')\n",
        "test_path = os.path.join(dataset_path, 'test')\n",
        "\n",
        "# Create model checkpoints directory\n",
        "model_checkpoints_path = os.path.join(base_path, 'model_checkpoints')\n",
        "os.makedirs(model_checkpoints_path, exist_ok=True)\n",
        "\n",
        "# Verify paths exist\n",
        "for path in [train_path, val_path, test_path]:\n",
        "    if not os.path.exists(path):\n",
        "        print(f\"Warning: Path does not exist: {path}\")\n",
        "    else:\n",
        "        print(f\"✓ Path exists: {path}\")"
      ]
    },
    {
      "cell_type": "markdown",
      "id": "df50c9c0",
      "metadata": {
        "id": "df50c9c0"
      },
      "source": [
        "## 2. Data Analysis and Configuration"
      ]
    },
    {
      "cell_type": "code",
      "execution_count": null,
      "id": "bffd99d0",
      "metadata": {
        "colab": {
          "base_uri": "https://localhost:8080/"
        },
        "id": "bffd99d0",
        "outputId": "9135ff2a-01e4-476f-d293-b58c41601707"
      },
      "outputs": [
        {
          "output_type": "stream",
          "name": "stdout",
          "text": [
            "\n",
            "--- TRAIN DATASET ANALYSIS ---\n",
            "African_Elephant: 2341 images\n",
            "Bengal_Tiger: 5021 images\n",
            "Blue_Jay: 2438 images\n",
            "Emperor_Penguin: 2285 images\n",
            "Golden_Retriever: 3944 images\n",
            "Grizzly_Bear: 2666 images\n",
            "Red_Panda: 2248 images\n",
            "Siamese_Cat: 4081 images\n",
            "Total train images: 25024\n",
            "\n",
            "--- VALIDATION DATASET ANALYSIS ---\n",
            "African_Elephant: 684 images\n",
            "Bengal_Tiger: 1386 images\n",
            "Blue_Jay: 742 images\n",
            "Emperor_Penguin: 655 images\n",
            "Golden_Retriever: 1123 images\n",
            "Grizzly_Bear: 764 images\n",
            "Red_Panda: 633 images\n",
            "Siamese_Cat: 1212 images\n",
            "Total validation images: 7199\n",
            "\n",
            "--- TEST DATASET ANALYSIS ---\n",
            "African_Elephant: 685 images\n",
            "Bengal_Tiger: 1374 images\n",
            "Blue_Jay: 718 images\n",
            "Emperor_Penguin: 650 images\n",
            "Golden_Retriever: 1114 images\n",
            "Grizzly_Bear: 778 images\n",
            "Red_Panda: 635 images\n",
            "Siamese_Cat: 1225 images\n",
            "Total test images: 7179\n",
            "\n",
            "Total classes: 8\n",
            "Class names: ['African_Elephant', 'Bengal_Tiger', 'Blue_Jay', 'Emperor_Penguin', 'Golden_Retriever', 'Grizzly_Bear', 'Red_Panda', 'Siamese_Cat']\n"
          ]
        }
      ],
      "source": [
        "# Analyze dataset structure\n",
        "def analyze_dataset(path, split_name):\n",
        "    \"\"\"Analyze the dataset structure and class distribution\"\"\"\n",
        "    classes = os.listdir(path)\n",
        "    class_counts = {}\n",
        "    total_images = 0\n",
        "\n",
        "    print(f\"\\n--- {split_name.upper()} DATASET ANALYSIS ---\")\n",
        "    for class_name in sorted(classes):\n",
        "        class_path = os.path.join(path, class_name)\n",
        "        if os.path.isdir(class_path):\n",
        "            count = len(os.listdir(class_path))\n",
        "            class_counts[class_name] = count\n",
        "            total_images += count\n",
        "            print(f\"{class_name}: {count} images\")\n",
        "\n",
        "    print(f\"Total {split_name} images: {total_images}\")\n",
        "    return class_counts, total_images\n",
        "\n",
        "# Analyze all splits\n",
        "train_counts, total_train = analyze_dataset(train_path, 'train')\n",
        "val_counts, total_val = analyze_dataset(val_path, 'validation')\n",
        "test_counts, total_test = analyze_dataset(test_path, 'test')\n",
        "\n",
        "# Get class names\n",
        "class_names = sorted(list(train_counts.keys()))\n",
        "num_classes = len(class_names)\n",
        "print(f\"\\nTotal classes: {num_classes}\")\n",
        "print(f\"Class names: {class_names}\")"
      ]
    },
    {
      "cell_type": "code",
      "execution_count": null,
      "id": "f34fcbe9",
      "metadata": {
        "colab": {
          "base_uri": "https://localhost:8080/"
        },
        "id": "f34fcbe9",
        "outputId": "90f0338d-158d-4828-be22-66fb3dd16b61"
      },
      "outputs": [
        {
          "output_type": "stream",
          "name": "stdout",
          "text": [
            "=== MODEL CONFIGURATION ===\n",
            "Image Size: 224x224\n",
            "Batch Size: 32\n",
            "Epochs: 50\n",
            "Learning Rate: 0.001\n",
            "Number of Classes: 8\n",
            "Total Training Images: 25024\n",
            "Total Validation Images: 7199\n",
            "Total Test Images: 7179\n"
          ]
        }
      ],
      "source": [
        "# Configuration parameters\n",
        "IMG_HEIGHT = 224\n",
        "IMG_WIDTH = 224\n",
        "BATCH_SIZE = 32\n",
        "EPOCHS = 50\n",
        "LEARNING_RATE = 0.001\n",
        "\n",
        "# Display configuration\n",
        "config_info = {\n",
        "    'Image Size': f'{IMG_HEIGHT}x{IMG_WIDTH}',\n",
        "    'Batch Size': BATCH_SIZE,\n",
        "    'Epochs': EPOCHS,\n",
        "    'Learning Rate': LEARNING_RATE,\n",
        "    'Number of Classes': num_classes,\n",
        "    'Total Training Images': total_train,\n",
        "    'Total Validation Images': total_val,\n",
        "    'Total Test Images': total_test\n",
        "}\n",
        "\n",
        "print(\"=== MODEL CONFIGURATION ===\")\n",
        "for key, value in config_info.items():\n",
        "    print(f\"{key}: {value}\")"
      ]
    },
    {
      "cell_type": "markdown",
      "id": "7a7b061d",
      "metadata": {
        "id": "7a7b061d"
      },
      "source": [
        "## 3. Data Preprocessing and Augmentation"
      ]
    },
    {
      "cell_type": "code",
      "execution_count": null,
      "id": "35e99290",
      "metadata": {
        "colab": {
          "base_uri": "https://localhost:8080/"
        },
        "id": "35e99290",
        "outputId": "6d4ab039-25ba-4615-d537-2a91c1765494"
      },
      "outputs": [
        {
          "output_type": "stream",
          "name": "stdout",
          "text": [
            "Found 25024 images belonging to 8 classes.\n",
            "Found 7198 images belonging to 8 classes.\n",
            "Found 7178 images belonging to 8 classes.\n",
            "Data generators created successfully!\n",
            "Training batches: 782\n",
            "Validation batches: 225\n",
            "Test batches: 225\n",
            "Class indices: {'African_Elephant': 0, 'Bengal_Tiger': 1, 'Blue_Jay': 2, 'Emperor_Penguin': 3, 'Golden_Retriever': 4, 'Grizzly_Bear': 5, 'Red_Panda': 6, 'Siamese_Cat': 7}\n"
          ]
        }
      ],
      "source": [
        "# Data augmentation for training set\n",
        "train_datagen = ImageDataGenerator(\n",
        "    rescale=1./255,\n",
        "    rotation_range=20,\n",
        "    width_shift_range=0.2,\n",
        "    height_shift_range=0.2,\n",
        "    horizontal_flip=True,\n",
        "    zoom_range=0.2,\n",
        "    shear_range=0.2,\n",
        "    fill_mode='nearest'\n",
        ")\n",
        "\n",
        "# Only rescaling for validation and test sets\n",
        "val_test_datagen = ImageDataGenerator(rescale=1./255)\n",
        "\n",
        "# Create data generators\n",
        "train_generator = train_datagen.flow_from_directory(\n",
        "    train_path,\n",
        "    target_size=(IMG_HEIGHT, IMG_WIDTH),\n",
        "    batch_size=BATCH_SIZE,\n",
        "    class_mode='categorical',\n",
        "    shuffle=True,\n",
        "    seed=42\n",
        ")\n",
        "\n",
        "validation_generator = val_test_datagen.flow_from_directory(\n",
        "    val_path,\n",
        "    target_size=(IMG_HEIGHT, IMG_WIDTH),\n",
        "    batch_size=BATCH_SIZE,\n",
        "    class_mode='categorical',\n",
        "    shuffle=False\n",
        ")\n",
        "\n",
        "test_generator = val_test_datagen.flow_from_directory(\n",
        "    test_path,\n",
        "    target_size=(IMG_HEIGHT, IMG_WIDTH),\n",
        "    batch_size=BATCH_SIZE,\n",
        "    class_mode='categorical',\n",
        "    shuffle=False\n",
        ")\n",
        "\n",
        "print(\"Data generators created successfully!\")\n",
        "print(f\"Training batches: {len(train_generator)}\")\n",
        "print(f\"Validation batches: {len(validation_generator)}\")\n",
        "print(f\"Test batches: {len(test_generator)}\")\n",
        "print(f\"Class indices: {train_generator.class_indices}\")"
      ]
    },
    {
      "cell_type": "markdown",
      "id": "3d6badd8",
      "metadata": {
        "id": "3d6badd8"
      },
      "source": [
        "## 4. Model Architecture Definitions"
      ]
    },
    {
      "cell_type": "code",
      "execution_count": null,
      "id": "0c4bf0bb",
      "metadata": {
        "colab": {
          "base_uri": "https://localhost:8080/"
        },
        "id": "0c4bf0bb",
        "outputId": "3768aa7a-2207-46a3-dbd6-6c4c6bd5068d"
      },
      "outputs": [
        {
          "output_type": "stream",
          "name": "stdout",
          "text": [
            "✓ Transfer learning model creation function defined\n",
            "✓ Supports: ResNet50, DenseNet121, MobileNetV3\n"
          ]
        }
      ],
      "source": [
        "def create_transfer_learning_model(base_model_name, input_shape=(224, 224, 3), num_classes=8):\n",
        "    \"\"\"\n",
        "    Create a transfer learning model with the specified base architecture\n",
        "    \"\"\"\n",
        "    # Get base model\n",
        "    if base_model_name == 'ResNet50':\n",
        "        base_model = ResNet50(weights='imagenet',\n",
        "                             include_top=False,\n",
        "                             input_shape=input_shape)\n",
        "    elif base_model_name == 'DenseNet121':\n",
        "        base_model = DenseNet121(weights='imagenet',\n",
        "                                include_top=False,\n",
        "                                input_shape=input_shape)\n",
        "    elif base_model_name == 'MobileNetV3':\n",
        "        base_model = MobileNetV3Large(weights='imagenet',\n",
        "                                     include_top=False,\n",
        "                                     input_shape=input_shape)\n",
        "    else:\n",
        "        raise ValueError(f\"Unsupported model: {base_model_name}\")\n",
        "\n",
        "    # Freeze base model layers initially\n",
        "    base_model.trainable = False\n",
        "\n",
        "    # Add custom classification head\n",
        "    inputs = keras.Input(shape=input_shape)\n",
        "    # Use inputs directly (do not use tf.cast)\n",
        "    x = inputs\n",
        "    # Base model\n",
        "    x = base_model(x, training=False)\n",
        "    # Classification head\n",
        "    x = layers.GlobalAveragePooling2D()(x)\n",
        "    x = layers.Dropout(0.5)(x)\n",
        "    x = layers.Dense(512, activation='relu')(x)\n",
        "    x = layers.BatchNormalization()(x)\n",
        "    x = layers.Dropout(0.3)(x)\n",
        "    x = layers.Dense(256, activation='relu')(x)\n",
        "    x = layers.Dropout(0.2)(x)\n",
        "    outputs = layers.Dense(num_classes, activation='softmax')(x)\n",
        "    model = Model(inputs, outputs)\n",
        "\n",
        "    return model, base_model\n",
        "\n",
        "# Display model creation function\n",
        "print(\"✓ Transfer learning model creation function defined\")\n",
        "print(\"✓ Supports: ResNet50, DenseNet121, MobileNetV3\")"
      ]
    },
    {
      "cell_type": "markdown",
      "id": "785bb5eb",
      "metadata": {
        "id": "785bb5eb"
      },
      "source": [
        "## 5. Custom Metrics Implementation"
      ]
    },
    {
      "cell_type": "code",
      "execution_count": null,
      "id": "0a394488",
      "metadata": {
        "colab": {
          "base_uri": "https://localhost:8080/"
        },
        "id": "0a394488",
        "outputId": "7214513b-a76e-4571-94fa-7321f90a4ca8"
      },
      "outputs": [
        {
          "output_type": "stream",
          "name": "stdout",
          "text": [
            "✓ Custom mAP metric implemented (fixed for graph mode)\n"
          ]
        }
      ],
      "source": [
        "class MeanAveragePrecision(tf.keras.metrics.Metric):\n",
        "    \"\"\"\n",
        "    Custom mAP (mean Average Precision) metric for multi-class classification\n",
        "    \"\"\"\n",
        "    def __init__(self, num_classes, name='mean_average_precision', **kwargs):\n",
        "        super().__init__(name=name, **kwargs)\n",
        "        self.num_classes = num_classes\n",
        "        self.true_positives = self.add_weight(name='tp', shape=(num_classes,), initializer='zeros')\n",
        "        self.false_positives = self.add_weight(name='fp', shape=(num_classes,), initializer='zeros')\n",
        "        self.false_negatives = self.add_weight(name='fn', shape=(num_classes,), initializer='zeros')\n",
        "\n",
        "    def update_state(self, y_true, y_pred, sample_weight=None):\n",
        "        # Convert predictions to class predictions\n",
        "        y_pred_classes = tf.argmax(y_pred, axis=1)\n",
        "        y_true_classes = tf.argmax(y_true, axis=1)\n",
        "\n",
        "        # Compute per-class true positives, false positives, false negatives\n",
        "        tp = tf.math.unsorted_segment_sum(\n",
        "            tf.cast(tf.equal(y_pred_classes, y_true_classes), tf.float32),\n",
        "            y_true_classes,\n",
        "            self.num_classes\n",
        "        )\n",
        "        fp = tf.math.unsorted_segment_sum(\n",
        "            tf.cast(tf.not_equal(y_pred_classes, y_true_classes), tf.float32),\n",
        "            y_pred_classes,\n",
        "            self.num_classes\n",
        "        )\n",
        "        fn = tf.math.unsorted_segment_sum(\n",
        "            tf.cast(tf.not_equal(y_pred_classes, y_true_classes), tf.float32),\n",
        "            y_true_classes,\n",
        "            self.num_classes\n",
        "        )\n",
        "\n",
        "        self.true_positives.assign_add(tp)\n",
        "        self.false_positives.assign_add(fp)\n",
        "        self.false_negatives.assign_add(fn)\n",
        "\n",
        "    def result(self):\n",
        "        # Calculate precision and recall for each class\n",
        "        precision = self.true_positives / (self.true_positives + self.false_positives + 1e-7)\n",
        "        recall = self.true_positives / (self.true_positives + self.false_negatives + 1e-7)\n",
        "        # Average Precision per class (harmonic mean)\n",
        "        ap = 2 * precision * recall / (precision + recall + 1e-7)\n",
        "        return tf.reduce_mean(ap)\n",
        "\n",
        "    def reset_state(self):\n",
        "        for v in self.variables:\n",
        "            v.assign(tf.zeros_like(v))\n",
        "\n",
        "print(\"✓ Custom mAP metric implemented (fixed for graph mode)\")"
      ]
    },
    {
      "cell_type": "markdown",
      "id": "2546a225",
      "metadata": {
        "id": "2546a225"
      },
      "source": [
        "## 6. Training Configuration and Callbacks"
      ]
    },
    {
      "cell_type": "code",
      "execution_count": null,
      "id": "2f444620",
      "metadata": {
        "colab": {
          "base_uri": "https://localhost:8080/"
        },
        "id": "2f444620",
        "outputId": "c6307dcd-93c3-4fd8-8c95-60596799668a"
      },
      "outputs": [
        {
          "output_type": "stream",
          "name": "stdout",
          "text": [
            "✓ Training callbacks and compilation functions defined\n"
          ]
        }
      ],
      "source": [
        "def get_callbacks(model_name, checkpoint_path):\n",
        "    \"\"\"\n",
        "    Create callbacks for training\n",
        "    \"\"\"\n",
        "    callbacks = [\n",
        "        ModelCheckpoint(\n",
        "            filepath=os.path.join(checkpoint_path, f'{model_name}_best.h5'),\n",
        "            monitor='val_accuracy',\n",
        "            save_best_only=True,\n",
        "            save_weights_only=False,\n",
        "            mode='max',\n",
        "            verbose=1\n",
        "        ),\n",
        "        ReduceLROnPlateau(\n",
        "            monitor='val_loss',\n",
        "            factor=0.2,\n",
        "            patience=5,\n",
        "            min_lr=1e-7,\n",
        "            verbose=1\n",
        "        ),\n",
        "        EarlyStopping(\n",
        "            monitor='val_loss',\n",
        "            patience=10,\n",
        "            restore_best_weights=True,\n",
        "            verbose=1\n",
        "        )\n",
        "    ]\n",
        "    return callbacks\n",
        "\n",
        "def compile_model(model, learning_rate=0.001, num_classes=8):\n",
        "    \"\"\"\n",
        "    Compile model with appropriate optimizer, loss, and metrics\n",
        "    \"\"\"\n",
        "    model.compile(\n",
        "        optimizer=Adam(learning_rate=learning_rate),\n",
        "        loss='categorical_crossentropy',\n",
        "        metrics=[\n",
        "            'accuracy',\n",
        "            TopKCategoricalAccuracy(k=3, name='top_3_accuracy'),\n",
        "            MeanAveragePrecision(num_classes=num_classes)\n",
        "        ]\n",
        "    )\n",
        "    return model\n",
        "\n",
        "print(\"✓ Training callbacks and compilation functions defined\")"
      ]
    },
    {
      "cell_type": "markdown",
      "id": "c154dd09",
      "metadata": {
        "id": "c154dd09"
      },
      "source": [
        "## 7. Model Training Function"
      ]
    },
    {
      "cell_type": "code",
      "execution_count": null,
      "id": "75a68880",
      "metadata": {
        "colab": {
          "base_uri": "https://localhost:8080/"
        },
        "id": "75a68880",
        "outputId": "687ad718-fc7f-44d5-8905-71a3f9762604"
      },
      "outputs": [
        {
          "output_type": "stream",
          "name": "stdout",
          "text": [
            "✓ Model training function defined\n"
          ]
        }
      ],
      "source": [
        "def train_model(model_name, train_gen, val_gen, epochs=50, learning_rate=0.001):\n",
        "    \"\"\"\n",
        "    Train a model with the specified parameters\n",
        "    \"\"\"\n",
        "    print(f\"\\n{'='*50}\")\n",
        "    print(f\"TRAINING {model_name}\")\n",
        "    print(f\"{'='*50}\")\n",
        "\n",
        "    # Record start time\n",
        "    start_time = time.time()\n",
        "\n",
        "    # Create model\n",
        "    model, base_model = create_transfer_learning_model(\n",
        "        model_name,\n",
        "        input_shape=(IMG_HEIGHT, IMG_WIDTH, 3),\n",
        "        num_classes=num_classes\n",
        "    )\n",
        "\n",
        "    # Display model info\n",
        "    print(f\"\\nModel: {model_name}\")\n",
        "    print(f\"Total params: {model.count_params():,}\")\n",
        "    print(f\"Trainable params: {sum([tf.size(w).numpy() for w in model.trainable_weights]):,}\")\n",
        "\n",
        "    # Compile model\n",
        "    model = compile_model(model, learning_rate, num_classes)\n",
        "\n",
        "    # Get callbacks\n",
        "    callbacks = get_callbacks(model_name, model_checkpoints_path)\n",
        "\n",
        "    # Phase 1: Train with frozen base model\n",
        "    print(f\"\\n--- Phase 1: Training with frozen base model ---\")\n",
        "    history_1 = model.fit(\n",
        "        train_gen,\n",
        "        epochs=min(20, epochs//2),\n",
        "        validation_data=val_gen,\n",
        "        callbacks=callbacks,\n",
        "        verbose=1\n",
        "    )\n",
        "\n",
        "    # Phase 2: Fine-tuning with unfrozen base model\n",
        "    print(f\"\\n--- Phase 2: Fine-tuning with unfrozen base model ---\")\n",
        "    base_model.trainable = True\n",
        "\n",
        "    # Recompile with lower learning rate for fine-tuning\n",
        "    model = compile_model(model, learning_rate/10, num_classes)\n",
        "\n",
        "    # Continue training\n",
        "    history_2 = model.fit(\n",
        "        train_gen,\n",
        "        epochs=epochs - min(20, epochs//2),\n",
        "        initial_epoch=min(20, epochs//2),\n",
        "        validation_data=val_gen,\n",
        "        callbacks=callbacks,\n",
        "        verbose=1\n",
        "    )\n",
        "\n",
        "    # Calculate training time\n",
        "    training_time = time.time() - start_time\n",
        "\n",
        "    # Combine histories\n",
        "    history = {}\n",
        "    for key in history_1.history.keys():\n",
        "        history[key] = history_1.history[key] + history_2.history[key]\n",
        "\n",
        "    print(f\"\\n✓ {model_name} training completed!\")\n",
        "    print(f\"Training time: {training_time:.2f} seconds ({training_time/60:.2f} minutes)\")\n",
        "\n",
        "    return model, history, training_time\n",
        "\n",
        "print(\"✓ Model training function defined\")"
      ]
    },
    {
      "cell_type": "markdown",
      "id": "dba2ccea",
      "metadata": {
        "id": "dba2ccea"
      },
      "source": [
        "## 8. Model Training - ResNet50"
      ]
    },
    {
      "cell_type": "code",
      "execution_count": null,
      "id": "f2486593",
      "metadata": {
        "colab": {
          "base_uri": "https://localhost:8080/"
        },
        "id": "f2486593",
        "outputId": "a68d9e65-a9f0-4b59-e52f-2adff1950faf"
      },
      "outputs": [
        {
          "output_type": "stream",
          "name": "stdout",
          "text": [
            "\n",
            "==================================================\n",
            "TRAINING ResNet50\n",
            "==================================================\n",
            "Downloading data from https://storage.googleapis.com/tensorflow/keras-applications/resnet/resnet50_weights_tf_dim_ordering_tf_kernels_notop.h5\n",
            "\u001b[1m94765736/94765736\u001b[0m \u001b[32m━━━━━━━━━━━━━━━━━━━━\u001b[0m\u001b[37m\u001b[0m \u001b[1m0s\u001b[0m 0us/step\n",
            "\n",
            "Model: ResNet50\n",
            "Total params: 24,772,232\n",
            "Trainable params: 1,183,496\n",
            "\n",
            "--- Phase 1: Training with frozen base model ---\n",
            "Epoch 1/20\n",
            "\u001b[1m782/782\u001b[0m \u001b[32m━━━━━━━━━━━━━━━━━━━━\u001b[0m\u001b[37m\u001b[0m \u001b[1m0s\u001b[0m 1s/step - accuracy: 0.1797 - loss: 2.2928 - mean_average_precision: 0.1576 - top_3_accuracy: 0.4807\n",
            "Epoch 1: val_accuracy improved from -inf to 0.36371, saving model to /content/drive/My Drive/AnimalSubspeciesDataset/model_checkpoints/ResNet50_best.h5\n"
          ]
        },
        {
          "output_type": "stream",
          "name": "stderr",
          "text": [
            "WARNING:absl:You are saving your model as an HDF5 file via `model.save()` or `keras.saving.save_model(model)`. This file format is considered legacy. We recommend using instead the native Keras format, e.g. `model.save('my_model.keras')` or `keras.saving.save_model(model, 'my_model.keras')`. \n"
          ]
        },
        {
          "output_type": "stream",
          "name": "stdout",
          "text": [
            "\b\b\b\b\b\b\b\b\b\b\b\b\b\b\b\b\b\b\b\b\b\b\b\b\b\b\b\b\b\b\b\b\b\b\b\b\b\b\b\b\b\b\b\b\b\b\b\b\b\b\b\b\b\b\b\b\b\b\b\b\b\b\b\b\b\b\b\b\b\b\b\b\b\b\b\b\b\b\b\b\b\b\b\b\b\b\b\b\b\b\b\b\b\b\b\b\b\b\b\b\b\b\b\b\b\b\b\b\b\b\b\b\b\b\b\b\b\b\b\b\b\b\b\b\b\b\b\b\b\b\b\r\u001b[1m782/782\u001b[0m \u001b[32m━━━━━━━━━━━━━━━━━━━━\u001b[0m\u001b[37m\u001b[0m \u001b[1m1758s\u001b[0m 2s/step - accuracy: 0.1797 - loss: 2.2926 - mean_average_precision: 0.1576 - top_3_accuracy: 0.4807 - val_accuracy: 0.3637 - val_loss: 1.8811 - val_mean_average_precision: 0.3221 - val_top_3_accuracy: 0.7019 - learning_rate: 0.0010\n",
            "Epoch 2/20\n",
            "\u001b[1m782/782\u001b[0m \u001b[32m━━━━━━━━━━━━━━━━━━━━\u001b[0m\u001b[37m\u001b[0m \u001b[1m0s\u001b[0m 391ms/step - accuracy: 0.2520 - loss: 1.9430 - mean_average_precision: 0.2184 - top_3_accuracy: 0.5970\n",
            "Epoch 2: val_accuracy improved from 0.36371 to 0.38594, saving model to /content/drive/My Drive/AnimalSubspeciesDataset/model_checkpoints/ResNet50_best.h5\n"
          ]
        },
        {
          "output_type": "stream",
          "name": "stderr",
          "text": [
            "WARNING:absl:You are saving your model as an HDF5 file via `model.save()` or `keras.saving.save_model(model)`. This file format is considered legacy. We recommend using instead the native Keras format, e.g. `model.save('my_model.keras')` or `keras.saving.save_model(model, 'my_model.keras')`. \n"
          ]
        },
        {
          "output_type": "stream",
          "name": "stdout",
          "text": [
            "\b\b\b\b\b\b\b\b\b\b\b\b\b\b\b\b\b\b\b\b\b\b\b\b\b\b\b\b\b\b\b\b\b\b\b\b\b\b\b\b\b\b\b\b\b\b\b\b\b\b\b\b\b\b\b\b\b\b\b\b\b\b\b\b\b\b\b\b\b\b\b\b\b\b\b\b\b\b\b\b\b\b\b\b\b\b\b\b\b\b\b\b\b\b\b\b\b\b\b\b\b\b\b\b\b\b\b\b\b\b\b\b\b\b\b\b\b\b\b\b\b\b\b\b\b\b\b\b\b\b\b\b\b\b\r\u001b[1m782/782\u001b[0m \u001b[32m━━━━━━━━━━━━━━━━━━━━\u001b[0m\u001b[37m\u001b[0m \u001b[1m326s\u001b[0m 417ms/step - accuracy: 0.2520 - loss: 1.9429 - mean_average_precision: 0.2184 - top_3_accuracy: 0.5971 - val_accuracy: 0.3859 - val_loss: 1.8287 - val_mean_average_precision: 0.3486 - val_top_3_accuracy: 0.7042 - learning_rate: 0.0010\n",
            "Epoch 3/20\n",
            "\u001b[1m782/782\u001b[0m \u001b[32m━━━━━━━━━━━━━━━━━━━━\u001b[0m\u001b[37m\u001b[0m \u001b[1m0s\u001b[0m 388ms/step - accuracy: 0.2752 - loss: 1.8853 - mean_average_precision: 0.2405 - top_3_accuracy: 0.6268\n",
            "Epoch 3: val_accuracy improved from 0.38594 to 0.40664, saving model to /content/drive/My Drive/AnimalSubspeciesDataset/model_checkpoints/ResNet50_best.h5\n"
          ]
        },
        {
          "output_type": "stream",
          "name": "stderr",
          "text": [
            "WARNING:absl:You are saving your model as an HDF5 file via `model.save()` or `keras.saving.save_model(model)`. This file format is considered legacy. We recommend using instead the native Keras format, e.g. `model.save('my_model.keras')` or `keras.saving.save_model(model, 'my_model.keras')`. \n"
          ]
        },
        {
          "output_type": "stream",
          "name": "stdout",
          "text": [
            "\b\b\b\b\b\b\b\b\b\b\b\b\b\b\b\b\b\b\b\b\b\b\b\b\b\b\b\b\b\b\b\b\b\b\b\b\b\b\b\b\b\b\b\b\b\b\b\b\b\b\b\b\b\b\b\b\b\b\b\b\b\b\b\b\b\b\b\b\b\b\b\b\b\b\b\b\b\b\b\b\b\b\b\b\b\b\b\b\b\b\b\b\b\b\b\b\b\b\b\b\b\b\b\b\b\b\b\b\b\b\b\b\b\b\b\b\b\b\b\b\b\b\b\b\b\b\b\b\b\b\b\b\b\b\r\u001b[1m782/782\u001b[0m \u001b[32m━━━━━━━━━━━━━━━━━━━━\u001b[0m\u001b[37m\u001b[0m \u001b[1m324s\u001b[0m 414ms/step - accuracy: 0.2752 - loss: 1.8853 - mean_average_precision: 0.2405 - top_3_accuracy: 0.6268 - val_accuracy: 0.4066 - val_loss: 1.7871 - val_mean_average_precision: 0.3668 - val_top_3_accuracy: 0.7195 - learning_rate: 0.0010\n",
            "Epoch 4/20\n",
            "\u001b[1m782/782\u001b[0m \u001b[32m━━━━━━━━━━━━━━━━━━━━\u001b[0m\u001b[37m\u001b[0m \u001b[1m0s\u001b[0m 389ms/step - accuracy: 0.2928 - loss: 1.8590 - mean_average_precision: 0.2576 - top_3_accuracy: 0.6452\n",
            "Epoch 4: val_accuracy improved from 0.40664 to 0.40817, saving model to /content/drive/My Drive/AnimalSubspeciesDataset/model_checkpoints/ResNet50_best.h5\n"
          ]
        },
        {
          "output_type": "stream",
          "name": "stderr",
          "text": [
            "WARNING:absl:You are saving your model as an HDF5 file via `model.save()` or `keras.saving.save_model(model)`. This file format is considered legacy. We recommend using instead the native Keras format, e.g. `model.save('my_model.keras')` or `keras.saving.save_model(model, 'my_model.keras')`. \n"
          ]
        },
        {
          "output_type": "stream",
          "name": "stdout",
          "text": [
            "\b\b\b\b\b\b\b\b\b\b\b\b\b\b\b\b\b\b\b\b\b\b\b\b\b\b\b\b\b\b\b\b\b\b\b\b\b\b\b\b\b\b\b\b\b\b\b\b\b\b\b\b\b\b\b\b\b\b\b\b\b\b\b\b\b\b\b\b\b\b\b\b\b\b\b\b\b\b\b\b\b\b\b\b\b\b\b\b\b\b\b\b\b\b\b\b\b\b\b\b\b\b\b\b\b\b\b\b\b\b\b\b\b\b\b\b\b\b\b\b\b\b\b\b\b\b\b\b\b\b\b\b\b\b\r\u001b[1m782/782\u001b[0m \u001b[32m━━━━━━━━━━━━━━━━━━━━\u001b[0m\u001b[37m\u001b[0m \u001b[1m324s\u001b[0m 414ms/step - accuracy: 0.2928 - loss: 1.8590 - mean_average_precision: 0.2576 - top_3_accuracy: 0.6452 - val_accuracy: 0.4082 - val_loss: 1.7347 - val_mean_average_precision: 0.3804 - val_top_3_accuracy: 0.7302 - learning_rate: 0.0010\n",
            "Epoch 5/20\n",
            "\u001b[1m782/782\u001b[0m \u001b[32m━━━━━━━━━━━━━━━━━━━━\u001b[0m\u001b[37m\u001b[0m \u001b[1m0s\u001b[0m 387ms/step - accuracy: 0.3037 - loss: 1.8455 - mean_average_precision: 0.2687 - top_3_accuracy: 0.6454\n",
            "Epoch 5: val_accuracy improved from 0.40817 to 0.41136, saving model to /content/drive/My Drive/AnimalSubspeciesDataset/model_checkpoints/ResNet50_best.h5\n"
          ]
        },
        {
          "output_type": "stream",
          "name": "stderr",
          "text": [
            "WARNING:absl:You are saving your model as an HDF5 file via `model.save()` or `keras.saving.save_model(model)`. This file format is considered legacy. We recommend using instead the native Keras format, e.g. `model.save('my_model.keras')` or `keras.saving.save_model(model, 'my_model.keras')`. \n"
          ]
        },
        {
          "output_type": "stream",
          "name": "stdout",
          "text": [
            "\b\b\b\b\b\b\b\b\b\b\b\b\b\b\b\b\b\b\b\b\b\b\b\b\b\b\b\b\b\b\b\b\b\b\b\b\b\b\b\b\b\b\b\b\b\b\b\b\b\b\b\b\b\b\b\b\b\b\b\b\b\b\b\b\b\b\b\b\b\b\b\b\b\b\b\b\b\b\b\b\b\b\b\b\b\b\b\b\b\b\b\b\b\b\b\b\b\b\b\b\b\b\b\b\b\b\b\b\b\b\b\b\b\b\b\b\b\b\b\b\b\b\b\b\b\b\b\b\b\b\b\b\b\b\r\u001b[1m782/782\u001b[0m \u001b[32m━━━━━━━━━━━━━━━━━━━━\u001b[0m\u001b[37m\u001b[0m \u001b[1m323s\u001b[0m 413ms/step - accuracy: 0.3037 - loss: 1.8455 - mean_average_precision: 0.2687 - top_3_accuracy: 0.6454 - val_accuracy: 0.4114 - val_loss: 1.6897 - val_mean_average_precision: 0.3707 - val_top_3_accuracy: 0.7241 - learning_rate: 0.0010\n",
            "Epoch 6/20\n",
            "\u001b[1m782/782\u001b[0m \u001b[32m━━━━━━━━━━━━━━━━━━━━\u001b[0m\u001b[37m\u001b[0m \u001b[1m0s\u001b[0m 389ms/step - accuracy: 0.3162 - loss: 1.8295 - mean_average_precision: 0.2785 - top_3_accuracy: 0.6538\n",
            "Epoch 6: val_accuracy improved from 0.41136 to 0.42192, saving model to /content/drive/My Drive/AnimalSubspeciesDataset/model_checkpoints/ResNet50_best.h5\n"
          ]
        },
        {
          "output_type": "stream",
          "name": "stderr",
          "text": [
            "WARNING:absl:You are saving your model as an HDF5 file via `model.save()` or `keras.saving.save_model(model)`. This file format is considered legacy. We recommend using instead the native Keras format, e.g. `model.save('my_model.keras')` or `keras.saving.save_model(model, 'my_model.keras')`. \n"
          ]
        },
        {
          "output_type": "stream",
          "name": "stdout",
          "text": [
            "\b\b\b\b\b\b\b\b\b\b\b\b\b\b\b\b\b\b\b\b\b\b\b\b\b\b\b\b\b\b\b\b\b\b\b\b\b\b\b\b\b\b\b\b\b\b\b\b\b\b\b\b\b\b\b\b\b\b\b\b\b\b\b\b\b\b\b\b\b\b\b\b\b\b\b\b\b\b\b\b\b\b\b\b\b\b\b\b\b\b\b\b\b\b\b\b\b\b\b\b\b\b\b\b\b\b\b\b\b\b\b\b\b\b\b\b\b\b\b\b\b\b\b\b\b\b\b\b\b\b\b\b\b\b\r\u001b[1m782/782\u001b[0m \u001b[32m━━━━━━━━━━━━━━━━━━━━\u001b[0m\u001b[37m\u001b[0m \u001b[1m326s\u001b[0m 416ms/step - accuracy: 0.3162 - loss: 1.8295 - mean_average_precision: 0.2785 - top_3_accuracy: 0.6538 - val_accuracy: 0.4219 - val_loss: 1.6696 - val_mean_average_precision: 0.3843 - val_top_3_accuracy: 0.7330 - learning_rate: 0.0010\n",
            "Epoch 7/20\n",
            "\u001b[1m782/782\u001b[0m \u001b[32m━━━━━━━━━━━━━━━━━━━━\u001b[0m\u001b[37m\u001b[0m \u001b[1m0s\u001b[0m 387ms/step - accuracy: 0.3179 - loss: 1.8217 - mean_average_precision: 0.2825 - top_3_accuracy: 0.6555\n",
            "Epoch 7: val_accuracy improved from 0.42192 to 0.42262, saving model to /content/drive/My Drive/AnimalSubspeciesDataset/model_checkpoints/ResNet50_best.h5\n"
          ]
        },
        {
          "output_type": "stream",
          "name": "stderr",
          "text": [
            "WARNING:absl:You are saving your model as an HDF5 file via `model.save()` or `keras.saving.save_model(model)`. This file format is considered legacy. We recommend using instead the native Keras format, e.g. `model.save('my_model.keras')` or `keras.saving.save_model(model, 'my_model.keras')`. \n"
          ]
        },
        {
          "output_type": "stream",
          "name": "stdout",
          "text": [
            "\b\b\b\b\b\b\b\b\b\b\b\b\b\b\b\b\b\b\b\b\b\b\b\b\b\b\b\b\b\b\b\b\b\b\b\b\b\b\b\b\b\b\b\b\b\b\b\b\b\b\b\b\b\b\b\b\b\b\b\b\b\b\b\b\b\b\b\b\b\b\b\b\b\b\b\b\b\b\b\b\b\b\b\b\b\b\b\b\b\b\b\b\b\b\b\b\b\b\b\b\b\b\b\b\b\b\b\b\b\b\b\b\b\b\b\b\b\b\b\b\b\b\b\b\b\b\b\b\b\b\b\b\b\b\r\u001b[1m782/782\u001b[0m \u001b[32m━━━━━━━━━━━━━━━━━━━━\u001b[0m\u001b[37m\u001b[0m \u001b[1m324s\u001b[0m 414ms/step - accuracy: 0.3179 - loss: 1.8217 - mean_average_precision: 0.2825 - top_3_accuracy: 0.6555 - val_accuracy: 0.4226 - val_loss: 1.6572 - val_mean_average_precision: 0.3880 - val_top_3_accuracy: 0.7317 - learning_rate: 0.0010\n",
            "Epoch 8/20\n",
            "\u001b[1m782/782\u001b[0m \u001b[32m━━━━━━━━━━━━━━━━━━━━\u001b[0m\u001b[37m\u001b[0m \u001b[1m0s\u001b[0m 387ms/step - accuracy: 0.3191 - loss: 1.8113 - mean_average_precision: 0.2842 - top_3_accuracy: 0.6621\n",
            "Epoch 8: val_accuracy improved from 0.42262 to 0.43095, saving model to /content/drive/My Drive/AnimalSubspeciesDataset/model_checkpoints/ResNet50_best.h5\n"
          ]
        },
        {
          "output_type": "stream",
          "name": "stderr",
          "text": [
            "WARNING:absl:You are saving your model as an HDF5 file via `model.save()` or `keras.saving.save_model(model)`. This file format is considered legacy. We recommend using instead the native Keras format, e.g. `model.save('my_model.keras')` or `keras.saving.save_model(model, 'my_model.keras')`. \n"
          ]
        },
        {
          "output_type": "stream",
          "name": "stdout",
          "text": [
            "\b\b\b\b\b\b\b\b\b\b\b\b\b\b\b\b\b\b\b\b\b\b\b\b\b\b\b\b\b\b\b\b\b\b\b\b\b\b\b\b\b\b\b\b\b\b\b\b\b\b\b\b\b\b\b\b\b\b\b\b\b\b\b\b\b\b\b\b\b\b\b\b\b\b\b\b\b\b\b\b\b\b\b\b\b\b\b\b\b\b\b\b\b\b\b\b\b\b\b\b\b\b\b\b\b\b\b\b\b\b\b\b\b\b\b\b\b\b\b\b\b\b\b\b\b\b\b\b\b\b\b\b\b\b\r\u001b[1m782/782\u001b[0m \u001b[32m━━━━━━━━━━━━━━━━━━━━\u001b[0m\u001b[37m\u001b[0m \u001b[1m325s\u001b[0m 415ms/step - accuracy: 0.3191 - loss: 1.8113 - mean_average_precision: 0.2842 - top_3_accuracy: 0.6621 - val_accuracy: 0.4310 - val_loss: 1.6242 - val_mean_average_precision: 0.4058 - val_top_3_accuracy: 0.7516 - learning_rate: 0.0010\n",
            "Epoch 9/20\n",
            "\u001b[1m782/782\u001b[0m \u001b[32m━━━━━━━━━━━━━━━━━━━━\u001b[0m\u001b[37m\u001b[0m \u001b[1m0s\u001b[0m 388ms/step - accuracy: 0.3245 - loss: 1.8024 - mean_average_precision: 0.2941 - top_3_accuracy: 0.6637\n",
            "Epoch 9: val_accuracy improved from 0.43095 to 0.43568, saving model to /content/drive/My Drive/AnimalSubspeciesDataset/model_checkpoints/ResNet50_best.h5\n"
          ]
        },
        {
          "output_type": "stream",
          "name": "stderr",
          "text": [
            "WARNING:absl:You are saving your model as an HDF5 file via `model.save()` or `keras.saving.save_model(model)`. This file format is considered legacy. We recommend using instead the native Keras format, e.g. `model.save('my_model.keras')` or `keras.saving.save_model(model, 'my_model.keras')`. \n"
          ]
        },
        {
          "output_type": "stream",
          "name": "stdout",
          "text": [
            "\b\b\b\b\b\b\b\b\b\b\b\b\b\b\b\b\b\b\b\b\b\b\b\b\b\b\b\b\b\b\b\b\b\b\b\b\b\b\b\b\b\b\b\b\b\b\b\b\b\b\b\b\b\b\b\b\b\b\b\b\b\b\b\b\b\b\b\b\b\b\b\b\b\b\b\b\b\b\b\b\b\b\b\b\b\b\b\b\b\b\b\b\b\b\b\b\b\b\b\b\b\b\b\b\b\b\b\b\b\b\b\b\b\b\b\b\b\b\b\b\b\b\b\b\b\b\b\b\b\b\b\b\b\b\r\u001b[1m782/782\u001b[0m \u001b[32m━━━━━━━━━━━━━━━━━━━━\u001b[0m\u001b[37m\u001b[0m \u001b[1m324s\u001b[0m 414ms/step - accuracy: 0.3245 - loss: 1.8024 - mean_average_precision: 0.2941 - top_3_accuracy: 0.6637 - val_accuracy: 0.4357 - val_loss: 1.6174 - val_mean_average_precision: 0.3983 - val_top_3_accuracy: 0.7519 - learning_rate: 0.0010\n",
            "Epoch 10/20\n",
            "\u001b[1m782/782\u001b[0m \u001b[32m━━━━━━━━━━━━━━━━━━━━\u001b[0m\u001b[37m\u001b[0m \u001b[1m0s\u001b[0m 389ms/step - accuracy: 0.3369 - loss: 1.7891 - mean_average_precision: 0.3030 - top_3_accuracy: 0.6747\n",
            "Epoch 10: val_accuracy improved from 0.43568 to 0.44471, saving model to /content/drive/My Drive/AnimalSubspeciesDataset/model_checkpoints/ResNet50_best.h5\n"
          ]
        },
        {
          "output_type": "stream",
          "name": "stderr",
          "text": [
            "WARNING:absl:You are saving your model as an HDF5 file via `model.save()` or `keras.saving.save_model(model)`. This file format is considered legacy. We recommend using instead the native Keras format, e.g. `model.save('my_model.keras')` or `keras.saving.save_model(model, 'my_model.keras')`. \n"
          ]
        },
        {
          "output_type": "stream",
          "name": "stdout",
          "text": [
            "\b\b\b\b\b\b\b\b\b\b\b\b\b\b\b\b\b\b\b\b\b\b\b\b\b\b\b\b\b\b\b\b\b\b\b\b\b\b\b\b\b\b\b\b\b\b\b\b\b\b\b\b\b\b\b\b\b\b\b\b\b\b\b\b\b\b\b\b\b\b\b\b\b\b\b\b\b\b\b\b\b\b\b\b\b\b\b\b\b\b\b\b\b\b\b\b\b\b\b\b\b\b\b\b\b\b\b\b\b\b\b\b\b\b\b\b\b\b\b\b\b\b\b\b\b\b\b\b\b\b\b\b\b\b\r\u001b[1m782/782\u001b[0m \u001b[32m━━━━━━━━━━━━━━━━━━━━\u001b[0m\u001b[37m\u001b[0m \u001b[1m324s\u001b[0m 415ms/step - accuracy: 0.3369 - loss: 1.7891 - mean_average_precision: 0.3030 - top_3_accuracy: 0.6747 - val_accuracy: 0.4447 - val_loss: 1.6174 - val_mean_average_precision: 0.4219 - val_top_3_accuracy: 0.7595 - learning_rate: 0.0010\n",
            "Epoch 11/20\n",
            "\u001b[1m782/782\u001b[0m \u001b[32m━━━━━━━━━━━━━━━━━━━━\u001b[0m\u001b[37m\u001b[0m \u001b[1m0s\u001b[0m 390ms/step - accuracy: 0.3419 - loss: 1.7828 - mean_average_precision: 0.3123 - top_3_accuracy: 0.6676\n",
            "Epoch 11: val_accuracy improved from 0.44471 to 0.44915, saving model to /content/drive/My Drive/AnimalSubspeciesDataset/model_checkpoints/ResNet50_best.h5\n"
          ]
        },
        {
          "output_type": "stream",
          "name": "stderr",
          "text": [
            "WARNING:absl:You are saving your model as an HDF5 file via `model.save()` or `keras.saving.save_model(model)`. This file format is considered legacy. We recommend using instead the native Keras format, e.g. `model.save('my_model.keras')` or `keras.saving.save_model(model, 'my_model.keras')`. \n"
          ]
        },
        {
          "output_type": "stream",
          "name": "stdout",
          "text": [
            "\b\b\b\b\b\b\b\b\b\b\b\b\b\b\b\b\b\b\b\b\b\b\b\b\b\b\b\b\b\b\b\b\b\b\b\b\b\b\b\b\b\b\b\b\b\b\b\b\b\b\b\b\b\b\b\b\b\b\b\b\b\b\b\b\b\b\b\b\b\b\b\b\b\b\b\b\b\b\b\b\b\b\b\b\b\b\b\b\b\b\b\b\b\b\b\b\b\b\b\b\b\b\b\b\b\b\b\b\b\b\b\b\b\b\b\b\b\b\b\b\b\b\b\b\b\b\b\b\b\b\b\b\b\b\r\u001b[1m782/782\u001b[0m \u001b[32m━━━━━━━━━━━━━━━━━━━━\u001b[0m\u001b[37m\u001b[0m \u001b[1m326s\u001b[0m 417ms/step - accuracy: 0.3419 - loss: 1.7828 - mean_average_precision: 0.3123 - top_3_accuracy: 0.6676 - val_accuracy: 0.4492 - val_loss: 1.5947 - val_mean_average_precision: 0.4161 - val_top_3_accuracy: 0.7509 - learning_rate: 0.0010\n",
            "Epoch 12/20\n",
            "\u001b[1m782/782\u001b[0m \u001b[32m━━━━━━━━━━━━━━━━━━━━\u001b[0m\u001b[37m\u001b[0m \u001b[1m0s\u001b[0m 388ms/step - accuracy: 0.3368 - loss: 1.7865 - mean_average_precision: 0.3121 - top_3_accuracy: 0.6743\n",
            "Epoch 12: val_accuracy improved from 0.44915 to 0.45207, saving model to /content/drive/My Drive/AnimalSubspeciesDataset/model_checkpoints/ResNet50_best.h5\n"
          ]
        },
        {
          "output_type": "stream",
          "name": "stderr",
          "text": [
            "WARNING:absl:You are saving your model as an HDF5 file via `model.save()` or `keras.saving.save_model(model)`. This file format is considered legacy. We recommend using instead the native Keras format, e.g. `model.save('my_model.keras')` or `keras.saving.save_model(model, 'my_model.keras')`. \n"
          ]
        },
        {
          "output_type": "stream",
          "name": "stdout",
          "text": [
            "\b\b\b\b\b\b\b\b\b\b\b\b\b\b\b\b\b\b\b\b\b\b\b\b\b\b\b\b\b\b\b\b\b\b\b\b\b\b\b\b\b\b\b\b\b\b\b\b\b\b\b\b\b\b\b\b\b\b\b\b\b\b\b\b\b\b\b\b\b\b\b\b\b\b\b\b\b\b\b\b\b\b\b\b\b\b\b\b\b\b\b\b\b\b\b\b\b\b\b\b\b\b\b\b\b\b\b\b\b\b\b\b\b\b\b\b\b\b\b\b\b\b\b\b\b\b\b\b\b\b\b\b\b\b\r\u001b[1m782/782\u001b[0m \u001b[32m━━━━━━━━━━━━━━━━━━━━\u001b[0m\u001b[37m\u001b[0m \u001b[1m324s\u001b[0m 414ms/step - accuracy: 0.3368 - loss: 1.7865 - mean_average_precision: 0.3121 - top_3_accuracy: 0.6743 - val_accuracy: 0.4521 - val_loss: 1.5748 - val_mean_average_precision: 0.4352 - val_top_3_accuracy: 0.7665 - learning_rate: 0.0010\n",
            "Epoch 13/20\n",
            "\u001b[1m782/782\u001b[0m \u001b[32m━━━━━━━━━━━━━━━━━━━━\u001b[0m\u001b[37m\u001b[0m \u001b[1m0s\u001b[0m 389ms/step - accuracy: 0.3453 - loss: 1.7725 - mean_average_precision: 0.3155 - top_3_accuracy: 0.6817\n",
            "Epoch 13: val_accuracy did not improve from 0.45207\n",
            "\u001b[1m782/782\u001b[0m \u001b[32m━━━━━━━━━━━━━━━━━━━━\u001b[0m\u001b[37m\u001b[0m \u001b[1m323s\u001b[0m 413ms/step - accuracy: 0.3453 - loss: 1.7725 - mean_average_precision: 0.3155 - top_3_accuracy: 0.6817 - val_accuracy: 0.4483 - val_loss: 1.5645 - val_mean_average_precision: 0.4373 - val_top_3_accuracy: 0.7667 - learning_rate: 0.0010\n",
            "Epoch 14/20\n",
            "\u001b[1m782/782\u001b[0m \u001b[32m━━━━━━━━━━━━━━━━━━━━\u001b[0m\u001b[37m\u001b[0m \u001b[1m0s\u001b[0m 387ms/step - accuracy: 0.3441 - loss: 1.7639 - mean_average_precision: 0.3178 - top_3_accuracy: 0.6828\n",
            "Epoch 14: val_accuracy did not improve from 0.45207\n",
            "\u001b[1m782/782\u001b[0m \u001b[32m━━━━━━━━━━━━━━━━━━━━\u001b[0m\u001b[37m\u001b[0m \u001b[1m322s\u001b[0m 412ms/step - accuracy: 0.3441 - loss: 1.7639 - mean_average_precision: 0.3178 - top_3_accuracy: 0.6828 - val_accuracy: 0.4500 - val_loss: 1.5616 - val_mean_average_precision: 0.4272 - val_top_3_accuracy: 0.7631 - learning_rate: 0.0010\n",
            "Epoch 15/20\n",
            "\u001b[1m782/782\u001b[0m \u001b[32m━━━━━━━━━━━━━━━━━━━━\u001b[0m\u001b[37m\u001b[0m \u001b[1m0s\u001b[0m 386ms/step - accuracy: 0.3472 - loss: 1.7610 - mean_average_precision: 0.3177 - top_3_accuracy: 0.6849\n",
            "Epoch 15: val_accuracy improved from 0.45207 to 0.45818, saving model to /content/drive/My Drive/AnimalSubspeciesDataset/model_checkpoints/ResNet50_best.h5\n"
          ]
        },
        {
          "output_type": "stream",
          "name": "stderr",
          "text": [
            "WARNING:absl:You are saving your model as an HDF5 file via `model.save()` or `keras.saving.save_model(model)`. This file format is considered legacy. We recommend using instead the native Keras format, e.g. `model.save('my_model.keras')` or `keras.saving.save_model(model, 'my_model.keras')`. \n"
          ]
        },
        {
          "output_type": "stream",
          "name": "stdout",
          "text": [
            "\b\b\b\b\b\b\b\b\b\b\b\b\b\b\b\b\b\b\b\b\b\b\b\b\b\b\b\b\b\b\b\b\b\b\b\b\b\b\b\b\b\b\b\b\b\b\b\b\b\b\b\b\b\b\b\b\b\b\b\b\b\b\b\b\b\b\b\b\b\b\b\b\b\b\b\b\b\b\b\b\b\b\b\b\b\b\b\b\b\b\b\b\b\b\b\b\b\b\b\b\b\b\b\b\b\b\b\b\b\b\b\b\b\b\b\b\b\b\b\b\b\b\b\b\b\b\b\b\b\b\b\b\b\b\r\u001b[1m782/782\u001b[0m \u001b[32m━━━━━━━━━━━━━━━━━━━━\u001b[0m\u001b[37m\u001b[0m \u001b[1m322s\u001b[0m 412ms/step - accuracy: 0.3471 - loss: 1.7610 - mean_average_precision: 0.3177 - top_3_accuracy: 0.6849 - val_accuracy: 0.4582 - val_loss: 1.5469 - val_mean_average_precision: 0.4408 - val_top_3_accuracy: 0.7712 - learning_rate: 0.0010\n",
            "Epoch 16/20\n",
            "\u001b[1m782/782\u001b[0m \u001b[32m━━━━━━━━━━━━━━━━━━━━\u001b[0m\u001b[37m\u001b[0m \u001b[1m0s\u001b[0m 388ms/step - accuracy: 0.3415 - loss: 1.7704 - mean_average_precision: 0.3145 - top_3_accuracy: 0.6805\n",
            "Epoch 16: val_accuracy improved from 0.45818 to 0.46152, saving model to /content/drive/My Drive/AnimalSubspeciesDataset/model_checkpoints/ResNet50_best.h5\n"
          ]
        },
        {
          "output_type": "stream",
          "name": "stderr",
          "text": [
            "WARNING:absl:You are saving your model as an HDF5 file via `model.save()` or `keras.saving.save_model(model)`. This file format is considered legacy. We recommend using instead the native Keras format, e.g. `model.save('my_model.keras')` or `keras.saving.save_model(model, 'my_model.keras')`. \n"
          ]
        },
        {
          "output_type": "stream",
          "name": "stdout",
          "text": [
            "\b\b\b\b\b\b\b\b\b\b\b\b\b\b\b\b\b\b\b\b\b\b\b\b\b\b\b\b\b\b\b\b\b\b\b\b\b\b\b\b\b\b\b\b\b\b\b\b\b\b\b\b\b\b\b\b\b\b\b\b\b\b\b\b\b\b\b\b\b\b\b\b\b\b\b\b\b\b\b\b\b\b\b\b\b\b\b\b\b\b\b\b\b\b\b\b\b\b\b\b\b\b\b\b\b\b\b\b\b\b\b\b\b\b\b\b\b\b\b\b\b\b\b\b\b\b\b\b\b\b\b\b\b\b\r\u001b[1m782/782\u001b[0m \u001b[32m━━━━━━━━━━━━━━━━━━━━\u001b[0m\u001b[37m\u001b[0m \u001b[1m324s\u001b[0m 414ms/step - accuracy: 0.3415 - loss: 1.7704 - mean_average_precision: 0.3145 - top_3_accuracy: 0.6805 - val_accuracy: 0.4615 - val_loss: 1.5412 - val_mean_average_precision: 0.4294 - val_top_3_accuracy: 0.7656 - learning_rate: 0.0010\n",
            "Epoch 17/20\n",
            "\u001b[1m782/782\u001b[0m \u001b[32m━━━━━━━━━━━━━━━━━━━━\u001b[0m\u001b[37m\u001b[0m \u001b[1m0s\u001b[0m 387ms/step - accuracy: 0.3463 - loss: 1.7525 - mean_average_precision: 0.3208 - top_3_accuracy: 0.6914\n",
            "Epoch 17: val_accuracy did not improve from 0.46152\n",
            "\u001b[1m782/782\u001b[0m \u001b[32m━━━━━━━━━━━━━━━━━━━━\u001b[0m\u001b[37m\u001b[0m \u001b[1m322s\u001b[0m 412ms/step - accuracy: 0.3463 - loss: 1.7525 - mean_average_precision: 0.3208 - top_3_accuracy: 0.6914 - val_accuracy: 0.4548 - val_loss: 1.5467 - val_mean_average_precision: 0.4459 - val_top_3_accuracy: 0.7809 - learning_rate: 0.0010\n",
            "Epoch 18/20\n",
            "\u001b[1m782/782\u001b[0m \u001b[32m━━━━━━━━━━━━━━━━━━━━\u001b[0m\u001b[37m\u001b[0m \u001b[1m0s\u001b[0m 383ms/step - accuracy: 0.3424 - loss: 1.7511 - mean_average_precision: 0.3137 - top_3_accuracy: 0.6879\n",
            "Epoch 18: val_accuracy did not improve from 0.46152\n",
            "\u001b[1m782/782\u001b[0m \u001b[32m━━━━━━━━━━━━━━━━━━━━\u001b[0m\u001b[37m\u001b[0m \u001b[1m319s\u001b[0m 407ms/step - accuracy: 0.3424 - loss: 1.7511 - mean_average_precision: 0.3137 - top_3_accuracy: 0.6879 - val_accuracy: 0.4517 - val_loss: 1.5406 - val_mean_average_precision: 0.4344 - val_top_3_accuracy: 0.7784 - learning_rate: 0.0010\n",
            "Epoch 19/20\n",
            "\u001b[1m782/782\u001b[0m \u001b[32m━━━━━━━━━━━━━━━━━━━━\u001b[0m\u001b[37m\u001b[0m \u001b[1m0s\u001b[0m 389ms/step - accuracy: 0.3538 - loss: 1.7490 - mean_average_precision: 0.3266 - top_3_accuracy: 0.6918\n",
            "Epoch 19: val_accuracy did not improve from 0.46152\n",
            "\u001b[1m782/782\u001b[0m \u001b[32m━━━━━━━━━━━━━━━━━━━━\u001b[0m\u001b[37m\u001b[0m \u001b[1m323s\u001b[0m 413ms/step - accuracy: 0.3538 - loss: 1.7490 - mean_average_precision: 0.3266 - top_3_accuracy: 0.6918 - val_accuracy: 0.4528 - val_loss: 1.5196 - val_mean_average_precision: 0.4393 - val_top_3_accuracy: 0.7763 - learning_rate: 0.0010\n",
            "Epoch 20/20\n",
            "\u001b[1m782/782\u001b[0m \u001b[32m━━━━━━━━━━━━━━━━━━━━\u001b[0m\u001b[37m\u001b[0m \u001b[1m0s\u001b[0m 389ms/step - accuracy: 0.3530 - loss: 1.7411 - mean_average_precision: 0.3270 - top_3_accuracy: 0.6933\n",
            "Epoch 20: val_accuracy improved from 0.46152 to 0.46721, saving model to /content/drive/My Drive/AnimalSubspeciesDataset/model_checkpoints/ResNet50_best.h5\n"
          ]
        },
        {
          "output_type": "stream",
          "name": "stderr",
          "text": [
            "WARNING:absl:You are saving your model as an HDF5 file via `model.save()` or `keras.saving.save_model(model)`. This file format is considered legacy. We recommend using instead the native Keras format, e.g. `model.save('my_model.keras')` or `keras.saving.save_model(model, 'my_model.keras')`. \n"
          ]
        },
        {
          "output_type": "stream",
          "name": "stdout",
          "text": [
            "\b\b\b\b\b\b\b\b\b\b\b\b\b\b\b\b\b\b\b\b\b\b\b\b\b\b\b\b\b\b\b\b\b\b\b\b\b\b\b\b\b\b\b\b\b\b\b\b\b\b\b\b\b\b\b\b\b\b\b\b\b\b\b\b\b\b\b\b\b\b\b\b\b\b\b\b\b\b\b\b\b\b\b\b\b\b\b\b\b\b\b\b\b\b\b\b\b\b\b\b\b\b\b\b\b\b\b\b\b\b\b\b\b\b\b\b\b\b\b\b\b\b\b\b\b\b\b\b\b\b\b\b\b\b\r\u001b[1m782/782\u001b[0m \u001b[32m━━━━━━━━━━━━━━━━━━━━\u001b[0m\u001b[37m\u001b[0m \u001b[1m325s\u001b[0m 415ms/step - accuracy: 0.3530 - loss: 1.7411 - mean_average_precision: 0.3270 - top_3_accuracy: 0.6933 - val_accuracy: 0.4672 - val_loss: 1.5247 - val_mean_average_precision: 0.4511 - val_top_3_accuracy: 0.7863 - learning_rate: 0.0010\n",
            "Restoring model weights from the end of the best epoch: 19.\n",
            "\n",
            "--- Phase 2: Fine-tuning with unfrozen base model ---\n",
            "Epoch 21/30\n",
            "\u001b[1m782/782\u001b[0m \u001b[32m━━━━━━━━━━━━━━━━━━━━\u001b[0m\u001b[37m\u001b[0m \u001b[1m0s\u001b[0m 389ms/step - accuracy: 0.7972 - loss: 0.6640 - mean_average_precision: 0.7883 - top_3_accuracy: 0.9246\n",
            "Epoch 21: val_accuracy improved from 0.46721 to 0.74298, saving model to /content/drive/My Drive/AnimalSubspeciesDataset/model_checkpoints/ResNet50_best.h5\n"
          ]
        },
        {
          "output_type": "stream",
          "name": "stderr",
          "text": [
            "WARNING:absl:You are saving your model as an HDF5 file via `model.save()` or `keras.saving.save_model(model)`. This file format is considered legacy. We recommend using instead the native Keras format, e.g. `model.save('my_model.keras')` or `keras.saving.save_model(model, 'my_model.keras')`. \n"
          ]
        },
        {
          "output_type": "stream",
          "name": "stdout",
          "text": [
            "\b\b\b\b\b\b\b\b\b\b\b\b\b\b\b\b\b\b\b\b\b\b\b\b\b\b\b\b\b\b\b\b\b\b\b\b\b\b\b\b\b\b\b\b\b\b\b\b\b\b\b\b\b\b\b\b\b\b\b\b\b\b\b\b\b\b\b\b\b\b\b\b\b\b\b\b\b\b\b\b\b\b\b\b\b\b\b\b\b\b\b\b\b\b\b\b\b\b\b\b\b\b\b\b\b\b\b\b\b\b\b\b\b\b\b\b\b\b\b\b\b\b\b\b\b\b\b\b\b\b\b\b\b\b\r\u001b[1m782/782\u001b[0m \u001b[32m━━━━━━━━━━━━━━━━━━━━\u001b[0m\u001b[37m\u001b[0m \u001b[1m388s\u001b[0m 424ms/step - accuracy: 0.7973 - loss: 0.6637 - mean_average_precision: 0.7884 - top_3_accuracy: 0.9246 - val_accuracy: 0.7430 - val_loss: 0.8061 - val_mean_average_precision: 0.7163 - val_top_3_accuracy: 0.9158 - learning_rate: 1.0000e-04\n",
            "Epoch 22/30\n",
            "\u001b[1m782/782\u001b[0m \u001b[32m━━━━━━━━━━━━━━━━━━━━\u001b[0m\u001b[37m\u001b[0m \u001b[1m0s\u001b[0m 398ms/step - accuracy: 0.9507 - loss: 0.1742 - mean_average_precision: 0.9501 - top_3_accuracy: 0.9906\n",
            "Epoch 22: val_accuracy improved from 0.74298 to 0.96902, saving model to /content/drive/My Drive/AnimalSubspeciesDataset/model_checkpoints/ResNet50_best.h5\n"
          ]
        },
        {
          "output_type": "stream",
          "name": "stderr",
          "text": [
            "WARNING:absl:You are saving your model as an HDF5 file via `model.save()` or `keras.saving.save_model(model)`. This file format is considered legacy. We recommend using instead the native Keras format, e.g. `model.save('my_model.keras')` or `keras.saving.save_model(model, 'my_model.keras')`. \n"
          ]
        },
        {
          "output_type": "stream",
          "name": "stdout",
          "text": [
            "\b\b\b\b\b\b\b\b\b\b\b\b\b\b\b\b\b\b\b\b\b\b\b\b\b\b\b\b\b\b\b\b\b\b\b\b\b\b\b\b\b\b\b\b\b\b\b\b\b\b\b\b\b\b\b\b\b\b\b\b\b\b\b\b\b\b\b\b\b\b\b\b\b\b\b\b\b\b\b\b\b\b\b\b\b\b\b\b\b\b\b\b\b\b\b\b\b\b\b\b\b\b\b\b\b\b\b\b\b\b\b\b\b\b\b\b\b\b\b\b\b\b\b\b\b\b\b\b\b\b\b\b\b\b\r\u001b[1m782/782\u001b[0m \u001b[32m━━━━━━━━━━━━━━━━━━━━\u001b[0m\u001b[37m\u001b[0m \u001b[1m335s\u001b[0m 427ms/step - accuracy: 0.9507 - loss: 0.1742 - mean_average_precision: 0.9501 - top_3_accuracy: 0.9906 - val_accuracy: 0.9690 - val_loss: 0.1125 - val_mean_average_precision: 0.9694 - val_top_3_accuracy: 0.9933 - learning_rate: 1.0000e-04\n",
            "Epoch 23/30\n",
            "\u001b[1m782/782\u001b[0m \u001b[32m━━━━━━━━━━━━━━━━━━━━\u001b[0m\u001b[37m\u001b[0m \u001b[1m0s\u001b[0m 396ms/step - accuracy: 0.9674 - loss: 0.1113 - mean_average_precision: 0.9670 - top_3_accuracy: 0.9948\n",
            "Epoch 23: val_accuracy improved from 0.96902 to 0.97819, saving model to /content/drive/My Drive/AnimalSubspeciesDataset/model_checkpoints/ResNet50_best.h5\n"
          ]
        },
        {
          "output_type": "stream",
          "name": "stderr",
          "text": [
            "WARNING:absl:You are saving your model as an HDF5 file via `model.save()` or `keras.saving.save_model(model)`. This file format is considered legacy. We recommend using instead the native Keras format, e.g. `model.save('my_model.keras')` or `keras.saving.save_model(model, 'my_model.keras')`. \n"
          ]
        },
        {
          "output_type": "stream",
          "name": "stdout",
          "text": [
            "\b\b\b\b\b\b\b\b\b\b\b\b\b\b\b\b\b\b\b\b\b\b\b\b\b\b\b\b\b\b\b\b\b\b\b\b\b\b\b\b\b\b\b\b\b\b\b\b\b\b\b\b\b\b\b\b\b\b\b\b\b\b\b\b\b\b\b\b\b\b\b\b\b\b\b\b\b\b\b\b\b\b\b\b\b\b\b\b\b\b\b\b\b\b\b\b\b\b\b\b\b\b\b\b\b\b\b\b\b\b\b\b\b\b\b\b\b\b\b\b\b\b\b\b\b\b\b\b\b\b\b\b\b\b\r\u001b[1m782/782\u001b[0m \u001b[32m━━━━━━━━━━━━━━━━━━━━\u001b[0m\u001b[37m\u001b[0m \u001b[1m334s\u001b[0m 426ms/step - accuracy: 0.9674 - loss: 0.1113 - mean_average_precision: 0.9670 - top_3_accuracy: 0.9948 - val_accuracy: 0.9782 - val_loss: 0.0873 - val_mean_average_precision: 0.9792 - val_top_3_accuracy: 0.9960 - learning_rate: 1.0000e-04\n",
            "Epoch 24/30\n",
            "\u001b[1m782/782\u001b[0m \u001b[32m━━━━━━━━━━━━━━━━━━━━\u001b[0m\u001b[37m\u001b[0m \u001b[1m0s\u001b[0m 395ms/step - accuracy: 0.9696 - loss: 0.1034 - mean_average_precision: 0.9698 - top_3_accuracy: 0.9953\n",
            "Epoch 24: val_accuracy improved from 0.97819 to 0.98375, saving model to /content/drive/My Drive/AnimalSubspeciesDataset/model_checkpoints/ResNet50_best.h5\n"
          ]
        },
        {
          "output_type": "stream",
          "name": "stderr",
          "text": [
            "WARNING:absl:You are saving your model as an HDF5 file via `model.save()` or `keras.saving.save_model(model)`. This file format is considered legacy. We recommend using instead the native Keras format, e.g. `model.save('my_model.keras')` or `keras.saving.save_model(model, 'my_model.keras')`. \n"
          ]
        },
        {
          "output_type": "stream",
          "name": "stdout",
          "text": [
            "\b\b\b\b\b\b\b\b\b\b\b\b\b\b\b\b\b\b\b\b\b\b\b\b\b\b\b\b\b\b\b\b\b\b\b\b\b\b\b\b\b\b\b\b\b\b\b\b\b\b\b\b\b\b\b\b\b\b\b\b\b\b\b\b\b\b\b\b\b\b\b\b\b\b\b\b\b\b\b\b\b\b\b\b\b\b\b\b\b\b\b\b\b\b\b\b\b\b\b\b\b\b\b\b\b\b\b\b\b\b\b\b\b\b\b\b\b\b\b\b\b\b\b\b\b\b\b\b\b\b\b\b\b\b\r\u001b[1m782/782\u001b[0m \u001b[32m━━━━━━━━━━━━━━━━━━━━\u001b[0m\u001b[37m\u001b[0m \u001b[1m332s\u001b[0m 425ms/step - accuracy: 0.9696 - loss: 0.1034 - mean_average_precision: 0.9698 - top_3_accuracy: 0.9953 - val_accuracy: 0.9837 - val_loss: 0.0570 - val_mean_average_precision: 0.9840 - val_top_3_accuracy: 0.9979 - learning_rate: 1.0000e-04\n",
            "Epoch 25/30\n",
            "\u001b[1m782/782\u001b[0m \u001b[32m━━━━━━━━━━━━━━━━━━━━\u001b[0m\u001b[37m\u001b[0m \u001b[1m0s\u001b[0m 397ms/step - accuracy: 0.9748 - loss: 0.0869 - mean_average_precision: 0.9751 - top_3_accuracy: 0.9975\n",
            "Epoch 25: val_accuracy improved from 0.98375 to 0.98402, saving model to /content/drive/My Drive/AnimalSubspeciesDataset/model_checkpoints/ResNet50_best.h5\n"
          ]
        },
        {
          "output_type": "stream",
          "name": "stderr",
          "text": [
            "WARNING:absl:You are saving your model as an HDF5 file via `model.save()` or `keras.saving.save_model(model)`. This file format is considered legacy. We recommend using instead the native Keras format, e.g. `model.save('my_model.keras')` or `keras.saving.save_model(model, 'my_model.keras')`. \n"
          ]
        },
        {
          "output_type": "stream",
          "name": "stdout",
          "text": [
            "\b\b\b\b\b\b\b\b\b\b\b\b\b\b\b\b\b\b\b\b\b\b\b\b\b\b\b\b\b\b\b\b\b\b\b\b\b\b\b\b\b\b\b\b\b\b\b\b\b\b\b\b\b\b\b\b\b\b\b\b\b\b\b\b\b\b\b\b\b\b\b\b\b\b\b\b\b\b\b\b\b\b\b\b\b\b\b\b\b\b\b\b\b\b\b\b\b\b\b\b\b\b\b\b\b\b\b\b\b\b\b\b\b\b\b\b\b\b\b\b\b\b\b\b\b\b\b\b\b\b\b\b\b\b\r\u001b[1m782/782\u001b[0m \u001b[32m━━━━━━━━━━━━━━━━━━━━\u001b[0m\u001b[37m\u001b[0m \u001b[1m334s\u001b[0m 427ms/step - accuracy: 0.9748 - loss: 0.0869 - mean_average_precision: 0.9751 - top_3_accuracy: 0.9975 - val_accuracy: 0.9840 - val_loss: 0.0474 - val_mean_average_precision: 0.9848 - val_top_3_accuracy: 0.9989 - learning_rate: 1.0000e-04\n",
            "Epoch 26/30\n",
            "\u001b[1m782/782\u001b[0m \u001b[32m━━━━━━━━━━━━━━━━━━━━\u001b[0m\u001b[37m\u001b[0m \u001b[1m0s\u001b[0m 396ms/step - accuracy: 0.9759 - loss: 0.0781 - mean_average_precision: 0.9767 - top_3_accuracy: 0.9973\n",
            "Epoch 26: val_accuracy improved from 0.98402 to 0.98944, saving model to /content/drive/My Drive/AnimalSubspeciesDataset/model_checkpoints/ResNet50_best.h5\n"
          ]
        },
        {
          "output_type": "stream",
          "name": "stderr",
          "text": [
            "WARNING:absl:You are saving your model as an HDF5 file via `model.save()` or `keras.saving.save_model(model)`. This file format is considered legacy. We recommend using instead the native Keras format, e.g. `model.save('my_model.keras')` or `keras.saving.save_model(model, 'my_model.keras')`. \n"
          ]
        },
        {
          "output_type": "stream",
          "name": "stdout",
          "text": [
            "\b\b\b\b\b\b\b\b\b\b\b\b\b\b\b\b\b\b\b\b\b\b\b\b\b\b\b\b\b\b\b\b\b\b\b\b\b\b\b\b\b\b\b\b\b\b\b\b\b\b\b\b\b\b\b\b\b\b\b\b\b\b\b\b\b\b\b\b\b\b\b\b\b\b\b\b\b\b\b\b\b\b\b\b\b\b\b\b\b\b\b\b\b\b\b\b\b\b\b\b\b\b\b\b\b\b\b\b\b\b\b\b\b\b\b\b\b\b\b\b\b\b\b\b\b\b\b\b\b\b\b\b\b\b\r\u001b[1m782/782\u001b[0m \u001b[32m━━━━━━━━━━━━━━━━━━━━\u001b[0m\u001b[37m\u001b[0m \u001b[1m332s\u001b[0m 424ms/step - accuracy: 0.9759 - loss: 0.0781 - mean_average_precision: 0.9767 - top_3_accuracy: 0.9973 - val_accuracy: 0.9894 - val_loss: 0.0408 - val_mean_average_precision: 0.9899 - val_top_3_accuracy: 0.9986 - learning_rate: 1.0000e-04\n",
            "Epoch 27/30\n",
            "\u001b[1m782/782\u001b[0m \u001b[32m━━━━━━━━━━━━━━━━━━━━\u001b[0m\u001b[37m\u001b[0m \u001b[1m0s\u001b[0m 397ms/step - accuracy: 0.9806 - loss: 0.0642 - mean_average_precision: 0.9815 - top_3_accuracy: 0.9987\n",
            "Epoch 27: val_accuracy did not improve from 0.98944\n",
            "\u001b[1m782/782\u001b[0m \u001b[32m━━━━━━━━━━━━━━━━━━━━\u001b[0m\u001b[37m\u001b[0m \u001b[1m330s\u001b[0m 421ms/step - accuracy: 0.9806 - loss: 0.0642 - mean_average_precision: 0.9815 - top_3_accuracy: 0.9987 - val_accuracy: 0.9775 - val_loss: 0.0763 - val_mean_average_precision: 0.9780 - val_top_3_accuracy: 0.9976 - learning_rate: 1.0000e-04\n",
            "Epoch 28/30\n",
            "\u001b[1m782/782\u001b[0m \u001b[32m━━━━━━━━━━━━━━━━━━━━\u001b[0m\u001b[37m\u001b[0m \u001b[1m0s\u001b[0m 393ms/step - accuracy: 0.9772 - loss: 0.0729 - mean_average_precision: 0.9775 - top_3_accuracy: 0.9976\n",
            "Epoch 28: val_accuracy did not improve from 0.98944\n",
            "\u001b[1m782/782\u001b[0m \u001b[32m━━━━━━━━━━━━━━━━━━━━\u001b[0m\u001b[37m\u001b[0m \u001b[1m328s\u001b[0m 419ms/step - accuracy: 0.9772 - loss: 0.0729 - mean_average_precision: 0.9775 - top_3_accuracy: 0.9976 - val_accuracy: 0.9746 - val_loss: 0.0978 - val_mean_average_precision: 0.9749 - val_top_3_accuracy: 0.9978 - learning_rate: 1.0000e-04\n",
            "Epoch 29/30\n",
            "\u001b[1m782/782\u001b[0m \u001b[32m━━━━━━━━━━━━━━━━━━━━\u001b[0m\u001b[37m\u001b[0m \u001b[1m0s\u001b[0m 393ms/step - accuracy: 0.9772 - loss: 0.0804 - mean_average_precision: 0.9768 - top_3_accuracy: 0.9970\n",
            "Epoch 29: val_accuracy did not improve from 0.98944\n",
            "\u001b[1m782/782\u001b[0m \u001b[32m━━━━━━━━━━━━━━━━━━━━\u001b[0m\u001b[37m\u001b[0m \u001b[1m326s\u001b[0m 417ms/step - accuracy: 0.9772 - loss: 0.0803 - mean_average_precision: 0.9769 - top_3_accuracy: 0.9970 - val_accuracy: 0.9876 - val_loss: 0.0388 - val_mean_average_precision: 0.9883 - val_top_3_accuracy: 0.9990 - learning_rate: 1.0000e-04\n",
            "Epoch 30/30\n",
            "\u001b[1m782/782\u001b[0m \u001b[32m━━━━━━━━━━━━━━━━━━━━\u001b[0m\u001b[37m\u001b[0m \u001b[1m0s\u001b[0m 390ms/step - accuracy: 0.9811 - loss: 0.0622 - mean_average_precision: 0.9818 - top_3_accuracy: 0.9988\n",
            "Epoch 30: val_accuracy did not improve from 0.98944\n",
            "\u001b[1m782/782\u001b[0m \u001b[32m━━━━━━━━━━━━━━━━━━━━\u001b[0m\u001b[37m\u001b[0m \u001b[1m324s\u001b[0m 414ms/step - accuracy: 0.9811 - loss: 0.0622 - mean_average_precision: 0.9818 - top_3_accuracy: 0.9988 - val_accuracy: 0.9860 - val_loss: 0.0467 - val_mean_average_precision: 0.9874 - val_top_3_accuracy: 0.9987 - learning_rate: 1.0000e-04\n",
            "Restoring model weights from the end of the best epoch: 29.\n",
            "\n",
            "✓ ResNet50 training completed!\n",
            "Training time: 11278.43 seconds (187.97 minutes)\n"
          ]
        }
      ],
      "source": [
        "# Train ResNet50\n",
        "resnet_model, resnet_history, resnet_time = train_model(\n",
        "    'ResNet50',\n",
        "    train_generator,\n",
        "    validation_generator,\n",
        "    epochs=EPOCHS,\n",
        "    learning_rate=LEARNING_RATE\n",
        ")"
      ]
    },
    {
      "cell_type": "markdown",
      "id": "982c5804",
      "metadata": {
        "id": "982c5804"
      },
      "source": [
        "## 9. Model Training - DenseNet121"
      ]
    },
    {
      "cell_type": "code",
      "execution_count": null,
      "id": "aa845b4e",
      "metadata": {
        "id": "aa845b4e",
        "colab": {
          "base_uri": "https://localhost:8080/"
        },
        "outputId": "59903751-f08e-4c53-a7b2-481b4d0ce2eb"
      },
      "outputs": [
        {
          "output_type": "stream",
          "name": "stdout",
          "text": [
            "\n",
            "==================================================\n",
            "TRAINING DenseNet121\n",
            "==================================================\n",
            "Downloading data from https://storage.googleapis.com/tensorflow/keras-applications/densenet/densenet121_weights_tf_dim_ordering_tf_kernels_notop.h5\n",
            "\u001b[1m29084464/29084464\u001b[0m \u001b[32m━━━━━━━━━━━━━━━━━━━━\u001b[0m\u001b[37m\u001b[0m \u001b[1m0s\u001b[0m 0us/step\n",
            "\n",
            "Model: DenseNet121\n",
            "Total params: 7,697,736\n",
            "Trainable params: 659,208\n",
            "\n",
            "--- Phase 1: Training with frozen base model ---\n",
            "Epoch 1/20\n",
            "\u001b[1m782/782\u001b[0m \u001b[32m━━━━━━━━━━━━━━━━━━━━\u001b[0m\u001b[37m\u001b[0m \u001b[1m0s\u001b[0m 388ms/step - accuracy: 0.7462 - loss: 0.7862 - mean_average_precision: 0.7283 - top_3_accuracy: 0.8983\n",
            "Epoch 1: val_accuracy improved from -inf to 0.93276, saving model to /content/drive/My Drive/AnimalSubspeciesDataset/model_checkpoints/DenseNet121_best.h5\n"
          ]
        },
        {
          "output_type": "stream",
          "name": "stderr",
          "text": [
            "WARNING:absl:You are saving your model as an HDF5 file via `model.save()` or `keras.saving.save_model(model)`. This file format is considered legacy. We recommend using instead the native Keras format, e.g. `model.save('my_model.keras')` or `keras.saving.save_model(model, 'my_model.keras')`. \n"
          ]
        },
        {
          "output_type": "stream",
          "name": "stdout",
          "text": [
            "\b\b\b\b\b\b\b\b\b\b\b\b\b\b\b\b\b\b\b\b\b\b\b\b\b\b\b\b\b\b\b\b\b\b\b\b\b\b\b\b\b\b\b\b\b\b\b\b\b\b\b\b\b\b\b\b\b\b\b\b\b\b\b\b\b\b\b\b\b\b\b\b\b\b\b\b\b\b\b\b\b\b\b\b\b\b\b\b\b\b\b\b\b\b\b\b\b\b\b\b\b\b\b\b\b\b\b\b\b\b\b\b\b\b\b\b\b\b\b\b\b\b\b\b\b\b\b\b\b\b\b\b\b\b\r\u001b[1m782/782\u001b[0m \u001b[32m━━━━━━━━━━━━━━━━━━━━\u001b[0m\u001b[37m\u001b[0m \u001b[1m380s\u001b[0m 451ms/step - accuracy: 0.7463 - loss: 0.7859 - mean_average_precision: 0.7284 - top_3_accuracy: 0.8984 - val_accuracy: 0.9328 - val_loss: 0.2114 - val_mean_average_precision: 0.9284 - val_top_3_accuracy: 0.9844 - learning_rate: 0.0010\n",
            "Epoch 2/20\n",
            "\u001b[1m782/782\u001b[0m \u001b[32m━━━━━━━━━━━━━━━━━━━━\u001b[0m\u001b[37m\u001b[0m \u001b[1m0s\u001b[0m 389ms/step - accuracy: 0.8513 - loss: 0.4477 - mean_average_precision: 0.8402 - top_3_accuracy: 0.9598\n",
            "Epoch 2: val_accuracy improved from 0.93276 to 0.94540, saving model to /content/drive/My Drive/AnimalSubspeciesDataset/model_checkpoints/DenseNet121_best.h5\n"
          ]
        },
        {
          "output_type": "stream",
          "name": "stderr",
          "text": [
            "WARNING:absl:You are saving your model as an HDF5 file via `model.save()` or `keras.saving.save_model(model)`. This file format is considered legacy. We recommend using instead the native Keras format, e.g. `model.save('my_model.keras')` or `keras.saving.save_model(model, 'my_model.keras')`. \n"
          ]
        },
        {
          "output_type": "stream",
          "name": "stdout",
          "text": [
            "\b\b\b\b\b\b\b\b\b\b\b\b\b\b\b\b\b\b\b\b\b\b\b\b\b\b\b\b\b\b\b\b\b\b\b\b\b\b\b\b\b\b\b\b\b\b\b\b\b\b\b\b\b\b\b\b\b\b\b\b\b\b\b\b\b\b\b\b\b\b\b\b\b\b\b\b\b\b\b\b\b\b\b\b\b\b\b\b\b\b\b\b\b\b\b\b\b\b\b\b\b\b\b\b\b\b\b\b\b\b\b\b\b\b\b\b\b\b\b\b\b\b\b\b\b\b\b\b\b\b\b\b\b\b\r\u001b[1m782/782\u001b[0m \u001b[32m━━━━━━━━━━━━━━━━━━━━\u001b[0m\u001b[37m\u001b[0m \u001b[1m325s\u001b[0m 415ms/step - accuracy: 0.8513 - loss: 0.4477 - mean_average_precision: 0.8402 - top_3_accuracy: 0.9598 - val_accuracy: 0.9454 - val_loss: 0.1874 - val_mean_average_precision: 0.9414 - val_top_3_accuracy: 0.9876 - learning_rate: 0.0010\n",
            "Epoch 3/20\n",
            "\u001b[1m782/782\u001b[0m \u001b[32m━━━━━━━━━━━━━━━━━━━━\u001b[0m\u001b[37m\u001b[0m \u001b[1m0s\u001b[0m 388ms/step - accuracy: 0.8681 - loss: 0.3883 - mean_average_precision: 0.8585 - top_3_accuracy: 0.9658\n",
            "Epoch 3: val_accuracy improved from 0.94540 to 0.95082, saving model to /content/drive/My Drive/AnimalSubspeciesDataset/model_checkpoints/DenseNet121_best.h5\n"
          ]
        },
        {
          "output_type": "stream",
          "name": "stderr",
          "text": [
            "WARNING:absl:You are saving your model as an HDF5 file via `model.save()` or `keras.saving.save_model(model)`. This file format is considered legacy. We recommend using instead the native Keras format, e.g. `model.save('my_model.keras')` or `keras.saving.save_model(model, 'my_model.keras')`. \n"
          ]
        },
        {
          "output_type": "stream",
          "name": "stdout",
          "text": [
            "\b\b\b\b\b\b\b\b\b\b\b\b\b\b\b\b\b\b\b\b\b\b\b\b\b\b\b\b\b\b\b\b\b\b\b\b\b\b\b\b\b\b\b\b\b\b\b\b\b\b\b\b\b\b\b\b\b\b\b\b\b\b\b\b\b\b\b\b\b\b\b\b\b\b\b\b\b\b\b\b\b\b\b\b\b\b\b\b\b\b\b\b\b\b\b\b\b\b\b\b\b\b\b\b\b\b\b\b\b\b\b\b\b\b\b\b\b\b\b\b\b\b\b\b\b\b\b\b\b\b\b\b\b\b\r\u001b[1m782/782\u001b[0m \u001b[32m━━━━━━━━━━━━━━━━━━━━\u001b[0m\u001b[37m\u001b[0m \u001b[1m325s\u001b[0m 415ms/step - accuracy: 0.8681 - loss: 0.3883 - mean_average_precision: 0.8585 - top_3_accuracy: 0.9658 - val_accuracy: 0.9508 - val_loss: 0.1620 - val_mean_average_precision: 0.9474 - val_top_3_accuracy: 0.9904 - learning_rate: 0.0010\n",
            "Epoch 4/20\n",
            "\u001b[1m782/782\u001b[0m \u001b[32m━━━━━━━━━━━━━━━━━━━━\u001b[0m\u001b[37m\u001b[0m \u001b[1m0s\u001b[0m 386ms/step - accuracy: 0.8783 - loss: 0.3682 - mean_average_precision: 0.8702 - top_3_accuracy: 0.9710\n",
            "Epoch 4: val_accuracy improved from 0.95082 to 0.95290, saving model to /content/drive/My Drive/AnimalSubspeciesDataset/model_checkpoints/DenseNet121_best.h5\n"
          ]
        },
        {
          "output_type": "stream",
          "name": "stderr",
          "text": [
            "WARNING:absl:You are saving your model as an HDF5 file via `model.save()` or `keras.saving.save_model(model)`. This file format is considered legacy. We recommend using instead the native Keras format, e.g. `model.save('my_model.keras')` or `keras.saving.save_model(model, 'my_model.keras')`. \n"
          ]
        },
        {
          "output_type": "stream",
          "name": "stdout",
          "text": [
            "\b\b\b\b\b\b\b\b\b\b\b\b\b\b\b\b\b\b\b\b\b\b\b\b\b\b\b\b\b\b\b\b\b\b\b\b\b\b\b\b\b\b\b\b\b\b\b\b\b\b\b\b\b\b\b\b\b\b\b\b\b\b\b\b\b\b\b\b\b\b\b\b\b\b\b\b\b\b\b\b\b\b\b\b\b\b\b\b\b\b\b\b\b\b\b\b\b\b\b\b\b\b\b\b\b\b\b\b\b\b\b\b\b\b\b\b\b\b\b\b\b\b\b\b\b\b\b\b\b\b\b\b\b\b\r\u001b[1m782/782\u001b[0m \u001b[32m━━━━━━━━━━━━━━━━━━━━\u001b[0m\u001b[37m\u001b[0m \u001b[1m323s\u001b[0m 413ms/step - accuracy: 0.8783 - loss: 0.3682 - mean_average_precision: 0.8702 - top_3_accuracy: 0.9710 - val_accuracy: 0.9529 - val_loss: 0.1545 - val_mean_average_precision: 0.9488 - val_top_3_accuracy: 0.9919 - learning_rate: 0.0010\n",
            "Epoch 5/20\n",
            "\u001b[1m782/782\u001b[0m \u001b[32m━━━━━━━━━━━━━━━━━━━━\u001b[0m\u001b[37m\u001b[0m \u001b[1m0s\u001b[0m 389ms/step - accuracy: 0.8772 - loss: 0.3640 - mean_average_precision: 0.8688 - top_3_accuracy: 0.9709\n",
            "Epoch 5: val_accuracy improved from 0.95290 to 0.95999, saving model to /content/drive/My Drive/AnimalSubspeciesDataset/model_checkpoints/DenseNet121_best.h5\n"
          ]
        },
        {
          "output_type": "stream",
          "name": "stderr",
          "text": [
            "WARNING:absl:You are saving your model as an HDF5 file via `model.save()` or `keras.saving.save_model(model)`. This file format is considered legacy. We recommend using instead the native Keras format, e.g. `model.save('my_model.keras')` or `keras.saving.save_model(model, 'my_model.keras')`. \n"
          ]
        },
        {
          "output_type": "stream",
          "name": "stdout",
          "text": [
            "\b\b\b\b\b\b\b\b\b\b\b\b\b\b\b\b\b\b\b\b\b\b\b\b\b\b\b\b\b\b\b\b\b\b\b\b\b\b\b\b\b\b\b\b\b\b\b\b\b\b\b\b\b\b\b\b\b\b\b\b\b\b\b\b\b\b\b\b\b\b\b\b\b\b\b\b\b\b\b\b\b\b\b\b\b\b\b\b\b\b\b\b\b\b\b\b\b\b\b\b\b\b\b\b\b\b\b\b\b\b\b\b\b\b\b\b\b\b\b\b\b\b\b\b\b\b\b\b\b\b\b\b\b\b\r\u001b[1m782/782\u001b[0m \u001b[32m━━━━━━━━━━━━━━━━━━━━\u001b[0m\u001b[37m\u001b[0m \u001b[1m325s\u001b[0m 415ms/step - accuracy: 0.8772 - loss: 0.3640 - mean_average_precision: 0.8688 - top_3_accuracy: 0.9709 - val_accuracy: 0.9600 - val_loss: 0.1385 - val_mean_average_precision: 0.9578 - val_top_3_accuracy: 0.9924 - learning_rate: 0.0010\n",
            "Epoch 6/20\n",
            "\u001b[1m782/782\u001b[0m \u001b[32m━━━━━━━━━━━━━━━━━━━━\u001b[0m\u001b[37m\u001b[0m \u001b[1m0s\u001b[0m 389ms/step - accuracy: 0.8801 - loss: 0.3489 - mean_average_precision: 0.8715 - top_3_accuracy: 0.9731\n",
            "Epoch 6: val_accuracy improved from 0.95999 to 0.96096, saving model to /content/drive/My Drive/AnimalSubspeciesDataset/model_checkpoints/DenseNet121_best.h5\n"
          ]
        },
        {
          "output_type": "stream",
          "name": "stderr",
          "text": [
            "WARNING:absl:You are saving your model as an HDF5 file via `model.save()` or `keras.saving.save_model(model)`. This file format is considered legacy. We recommend using instead the native Keras format, e.g. `model.save('my_model.keras')` or `keras.saving.save_model(model, 'my_model.keras')`. \n"
          ]
        },
        {
          "output_type": "stream",
          "name": "stdout",
          "text": [
            "\b\b\b\b\b\b\b\b\b\b\b\b\b\b\b\b\b\b\b\b\b\b\b\b\b\b\b\b\b\b\b\b\b\b\b\b\b\b\b\b\b\b\b\b\b\b\b\b\b\b\b\b\b\b\b\b\b\b\b\b\b\b\b\b\b\b\b\b\b\b\b\b\b\b\b\b\b\b\b\b\b\b\b\b\b\b\b\b\b\b\b\b\b\b\b\b\b\b\b\b\b\b\b\b\b\b\b\b\b\b\b\b\b\b\b\b\b\b\b\b\b\b\b\b\b\b\b\b\b\b\b\b\b\b\r\u001b[1m782/782\u001b[0m \u001b[32m━━━━━━━━━━━━━━━━━━━━\u001b[0m\u001b[37m\u001b[0m \u001b[1m325s\u001b[0m 415ms/step - accuracy: 0.8801 - loss: 0.3489 - mean_average_precision: 0.8715 - top_3_accuracy: 0.9731 - val_accuracy: 0.9610 - val_loss: 0.1303 - val_mean_average_precision: 0.9591 - val_top_3_accuracy: 0.9922 - learning_rate: 0.0010\n",
            "Epoch 7/20\n",
            "\u001b[1m782/782\u001b[0m \u001b[32m━━━━━━━━━━━━━━━━━━━━\u001b[0m\u001b[37m\u001b[0m \u001b[1m0s\u001b[0m 389ms/step - accuracy: 0.8813 - loss: 0.3529 - mean_average_precision: 0.8741 - top_3_accuracy: 0.9755\n",
            "Epoch 7: val_accuracy did not improve from 0.96096\n",
            "\u001b[1m782/782\u001b[0m \u001b[32m━━━━━━━━━━━━━━━━━━━━\u001b[0m\u001b[37m\u001b[0m \u001b[1m324s\u001b[0m 414ms/step - accuracy: 0.8813 - loss: 0.3529 - mean_average_precision: 0.8742 - top_3_accuracy: 0.9755 - val_accuracy: 0.9604 - val_loss: 0.1352 - val_mean_average_precision: 0.9575 - val_top_3_accuracy: 0.9925 - learning_rate: 0.0010\n",
            "Epoch 8/20\n",
            "\u001b[1m782/782\u001b[0m \u001b[32m━━━━━━━━━━━━━━━━━━━━\u001b[0m\u001b[37m\u001b[0m \u001b[1m0s\u001b[0m 389ms/step - accuracy: 0.8850 - loss: 0.3402 - mean_average_precision: 0.8780 - top_3_accuracy: 0.9755\n",
            "Epoch 8: val_accuracy improved from 0.96096 to 0.96388, saving model to /content/drive/My Drive/AnimalSubspeciesDataset/model_checkpoints/DenseNet121_best.h5\n"
          ]
        },
        {
          "output_type": "stream",
          "name": "stderr",
          "text": [
            "WARNING:absl:You are saving your model as an HDF5 file via `model.save()` or `keras.saving.save_model(model)`. This file format is considered legacy. We recommend using instead the native Keras format, e.g. `model.save('my_model.keras')` or `keras.saving.save_model(model, 'my_model.keras')`. \n"
          ]
        },
        {
          "output_type": "stream",
          "name": "stdout",
          "text": [
            "\b\b\b\b\b\b\b\b\b\b\b\b\b\b\b\b\b\b\b\b\b\b\b\b\b\b\b\b\b\b\b\b\b\b\b\b\b\b\b\b\b\b\b\b\b\b\b\b\b\b\b\b\b\b\b\b\b\b\b\b\b\b\b\b\b\b\b\b\b\b\b\b\b\b\b\b\b\b\b\b\b\b\b\b\b\b\b\b\b\b\b\b\b\b\b\b\b\b\b\b\b\b\b\b\b\b\b\b\b\b\b\b\b\b\b\b\b\b\b\b\b\b\b\b\b\b\b\b\b\b\b\b\b\b\r\u001b[1m782/782\u001b[0m \u001b[32m━━━━━━━━━━━━━━━━━━━━\u001b[0m\u001b[37m\u001b[0m \u001b[1m325s\u001b[0m 416ms/step - accuracy: 0.8850 - loss: 0.3402 - mean_average_precision: 0.8780 - top_3_accuracy: 0.9755 - val_accuracy: 0.9639 - val_loss: 0.1224 - val_mean_average_precision: 0.9619 - val_top_3_accuracy: 0.9937 - learning_rate: 0.0010\n",
            "Epoch 9/20\n",
            "\u001b[1m782/782\u001b[0m \u001b[32m━━━━━━━━━━━━━━━━━━━━\u001b[0m\u001b[37m\u001b[0m \u001b[1m0s\u001b[0m 387ms/step - accuracy: 0.8931 - loss: 0.3183 - mean_average_precision: 0.8875 - top_3_accuracy: 0.9766\n",
            "Epoch 9: val_accuracy improved from 0.96388 to 0.96846, saving model to /content/drive/My Drive/AnimalSubspeciesDataset/model_checkpoints/DenseNet121_best.h5\n"
          ]
        },
        {
          "output_type": "stream",
          "name": "stderr",
          "text": [
            "WARNING:absl:You are saving your model as an HDF5 file via `model.save()` or `keras.saving.save_model(model)`. This file format is considered legacy. We recommend using instead the native Keras format, e.g. `model.save('my_model.keras')` or `keras.saving.save_model(model, 'my_model.keras')`. \n"
          ]
        },
        {
          "output_type": "stream",
          "name": "stdout",
          "text": [
            "\b\b\b\b\b\b\b\b\b\b\b\b\b\b\b\b\b\b\b\b\b\b\b\b\b\b\b\b\b\b\b\b\b\b\b\b\b\b\b\b\b\b\b\b\b\b\b\b\b\b\b\b\b\b\b\b\b\b\b\b\b\b\b\b\b\b\b\b\b\b\b\b\b\b\b\b\b\b\b\b\b\b\b\b\b\b\b\b\b\b\b\b\b\b\b\b\b\b\b\b\b\b\b\b\b\b\b\b\b\b\b\b\b\b\b\b\b\b\b\b\b\b\b\b\b\b\b\b\b\b\b\b\b\b\r\u001b[1m782/782\u001b[0m \u001b[32m━━━━━━━━━━━━━━━━━━━━\u001b[0m\u001b[37m\u001b[0m \u001b[1m322s\u001b[0m 412ms/step - accuracy: 0.8931 - loss: 0.3183 - mean_average_precision: 0.8875 - top_3_accuracy: 0.9766 - val_accuracy: 0.9685 - val_loss: 0.1136 - val_mean_average_precision: 0.9674 - val_top_3_accuracy: 0.9954 - learning_rate: 0.0010\n",
            "Epoch 10/20\n",
            "\u001b[1m782/782\u001b[0m \u001b[32m━━━━━━━━━━━━━━━━━━━━\u001b[0m\u001b[37m\u001b[0m \u001b[1m0s\u001b[0m 384ms/step - accuracy: 0.8973 - loss: 0.3043 - mean_average_precision: 0.8898 - top_3_accuracy: 0.9788\n",
            "Epoch 10: val_accuracy did not improve from 0.96846\n",
            "\u001b[1m782/782\u001b[0m \u001b[32m━━━━━━━━━━━━━━━━━━━━\u001b[0m\u001b[37m\u001b[0m \u001b[1m321s\u001b[0m 410ms/step - accuracy: 0.8973 - loss: 0.3044 - mean_average_precision: 0.8898 - top_3_accuracy: 0.9788 - val_accuracy: 0.9672 - val_loss: 0.1124 - val_mean_average_precision: 0.9651 - val_top_3_accuracy: 0.9958 - learning_rate: 0.0010\n",
            "Epoch 11/20\n",
            "\u001b[1m782/782\u001b[0m \u001b[32m━━━━━━━━━━━━━━━━━━━━\u001b[0m\u001b[37m\u001b[0m \u001b[1m0s\u001b[0m 389ms/step - accuracy: 0.8982 - loss: 0.2932 - mean_average_precision: 0.8914 - top_3_accuracy: 0.9816\n",
            "Epoch 11: val_accuracy improved from 0.96846 to 0.97027, saving model to /content/drive/My Drive/AnimalSubspeciesDataset/model_checkpoints/DenseNet121_best.h5\n"
          ]
        },
        {
          "output_type": "stream",
          "name": "stderr",
          "text": [
            "WARNING:absl:You are saving your model as an HDF5 file via `model.save()` or `keras.saving.save_model(model)`. This file format is considered legacy. We recommend using instead the native Keras format, e.g. `model.save('my_model.keras')` or `keras.saving.save_model(model, 'my_model.keras')`. \n"
          ]
        },
        {
          "output_type": "stream",
          "name": "stdout",
          "text": [
            "\b\b\b\b\b\b\b\b\b\b\b\b\b\b\b\b\b\b\b\b\b\b\b\b\b\b\b\b\b\b\b\b\b\b\b\b\b\b\b\b\b\b\b\b\b\b\b\b\b\b\b\b\b\b\b\b\b\b\b\b\b\b\b\b\b\b\b\b\b\b\b\b\b\b\b\b\b\b\b\b\b\b\b\b\b\b\b\b\b\b\b\b\b\b\b\b\b\b\b\b\b\b\b\b\b\b\b\b\b\b\b\b\b\b\b\b\b\b\b\b\b\b\b\b\b\b\b\b\b\b\b\b\b\b\r\u001b[1m782/782\u001b[0m \u001b[32m━━━━━━━━━━━━━━━━━━━━\u001b[0m\u001b[37m\u001b[0m \u001b[1m327s\u001b[0m 418ms/step - accuracy: 0.8982 - loss: 0.2933 - mean_average_precision: 0.8914 - top_3_accuracy: 0.9816 - val_accuracy: 0.9703 - val_loss: 0.1056 - val_mean_average_precision: 0.9687 - val_top_3_accuracy: 0.9947 - learning_rate: 0.0010\n",
            "Epoch 12/20\n",
            "\u001b[1m782/782\u001b[0m \u001b[32m━━━━━━━━━━━━━━━━━━━━\u001b[0m\u001b[37m\u001b[0m \u001b[1m0s\u001b[0m 389ms/step - accuracy: 0.8995 - loss: 0.3031 - mean_average_precision: 0.8931 - top_3_accuracy: 0.9792\n",
            "Epoch 12: val_accuracy improved from 0.97027 to 0.97346, saving model to /content/drive/My Drive/AnimalSubspeciesDataset/model_checkpoints/DenseNet121_best.h5\n"
          ]
        },
        {
          "output_type": "stream",
          "name": "stderr",
          "text": [
            "WARNING:absl:You are saving your model as an HDF5 file via `model.save()` or `keras.saving.save_model(model)`. This file format is considered legacy. We recommend using instead the native Keras format, e.g. `model.save('my_model.keras')` or `keras.saving.save_model(model, 'my_model.keras')`. \n"
          ]
        },
        {
          "output_type": "stream",
          "name": "stdout",
          "text": [
            "\b\b\b\b\b\b\b\b\b\b\b\b\b\b\b\b\b\b\b\b\b\b\b\b\b\b\b\b\b\b\b\b\b\b\b\b\b\b\b\b\b\b\b\b\b\b\b\b\b\b\b\b\b\b\b\b\b\b\b\b\b\b\b\b\b\b\b\b\b\b\b\b\b\b\b\b\b\b\b\b\b\b\b\b\b\b\b\b\b\b\b\b\b\b\b\b\b\b\b\b\b\b\b\b\b\b\b\b\b\b\b\b\b\b\b\b\b\b\b\b\b\b\b\b\b\b\b\b\b\b\b\b\b\b\r\u001b[1m782/782\u001b[0m \u001b[32m━━━━━━━━━━━━━━━━━━━━\u001b[0m\u001b[37m\u001b[0m \u001b[1m326s\u001b[0m 416ms/step - accuracy: 0.8995 - loss: 0.3031 - mean_average_precision: 0.8931 - top_3_accuracy: 0.9792 - val_accuracy: 0.9735 - val_loss: 0.0981 - val_mean_average_precision: 0.9727 - val_top_3_accuracy: 0.9953 - learning_rate: 0.0010\n",
            "Epoch 13/20\n",
            "\u001b[1m782/782\u001b[0m \u001b[32m━━━━━━━━━━━━━━━━━━━━\u001b[0m\u001b[37m\u001b[0m \u001b[1m0s\u001b[0m 387ms/step - accuracy: 0.9018 - loss: 0.2989 - mean_average_precision: 0.8941 - top_3_accuracy: 0.9800\n",
            "Epoch 13: val_accuracy improved from 0.97346 to 0.97555, saving model to /content/drive/My Drive/AnimalSubspeciesDataset/model_checkpoints/DenseNet121_best.h5\n"
          ]
        },
        {
          "output_type": "stream",
          "name": "stderr",
          "text": [
            "WARNING:absl:You are saving your model as an HDF5 file via `model.save()` or `keras.saving.save_model(model)`. This file format is considered legacy. We recommend using instead the native Keras format, e.g. `model.save('my_model.keras')` or `keras.saving.save_model(model, 'my_model.keras')`. \n"
          ]
        },
        {
          "output_type": "stream",
          "name": "stdout",
          "text": [
            "\b\b\b\b\b\b\b\b\b\b\b\b\b\b\b\b\b\b\b\b\b\b\b\b\b\b\b\b\b\b\b\b\b\b\b\b\b\b\b\b\b\b\b\b\b\b\b\b\b\b\b\b\b\b\b\b\b\b\b\b\b\b\b\b\b\b\b\b\b\b\b\b\b\b\b\b\b\b\b\b\b\b\b\b\b\b\b\b\b\b\b\b\b\b\b\b\b\b\b\b\b\b\b\b\b\b\b\b\b\b\b\b\b\b\b\b\b\b\b\b\b\b\b\b\b\b\b\b\b\b\b\b\b\b\r\u001b[1m782/782\u001b[0m \u001b[32m━━━━━━━━━━━━━━━━━━━━\u001b[0m\u001b[37m\u001b[0m \u001b[1m324s\u001b[0m 414ms/step - accuracy: 0.9018 - loss: 0.2989 - mean_average_precision: 0.8941 - top_3_accuracy: 0.9800 - val_accuracy: 0.9755 - val_loss: 0.0875 - val_mean_average_precision: 0.9746 - val_top_3_accuracy: 0.9961 - learning_rate: 0.0010\n",
            "Epoch 14/20\n",
            "\u001b[1m782/782\u001b[0m \u001b[32m━━━━━━━━━━━━━━━━━━━━\u001b[0m\u001b[37m\u001b[0m \u001b[1m0s\u001b[0m 389ms/step - accuracy: 0.9071 - loss: 0.2877 - mean_average_precision: 0.9010 - top_3_accuracy: 0.9814\n",
            "Epoch 14: val_accuracy did not improve from 0.97555\n",
            "\u001b[1m782/782\u001b[0m \u001b[32m━━━━━━━━━━━━━━━━━━━━\u001b[0m\u001b[37m\u001b[0m \u001b[1m323s\u001b[0m 413ms/step - accuracy: 0.9071 - loss: 0.2877 - mean_average_precision: 0.9010 - top_3_accuracy: 0.9814 - val_accuracy: 0.9746 - val_loss: 0.0899 - val_mean_average_precision: 0.9737 - val_top_3_accuracy: 0.9957 - learning_rate: 0.0010\n",
            "Epoch 15/20\n",
            "\u001b[1m782/782\u001b[0m \u001b[32m━━━━━━━━━━━━━━━━━━━━\u001b[0m\u001b[37m\u001b[0m \u001b[1m0s\u001b[0m 387ms/step - accuracy: 0.9027 - loss: 0.2875 - mean_average_precision: 0.8956 - top_3_accuracy: 0.9800\n",
            "Epoch 15: val_accuracy improved from 0.97555 to 0.97791, saving model to /content/drive/My Drive/AnimalSubspeciesDataset/model_checkpoints/DenseNet121_best.h5\n"
          ]
        },
        {
          "output_type": "stream",
          "name": "stderr",
          "text": [
            "WARNING:absl:You are saving your model as an HDF5 file via `model.save()` or `keras.saving.save_model(model)`. This file format is considered legacy. We recommend using instead the native Keras format, e.g. `model.save('my_model.keras')` or `keras.saving.save_model(model, 'my_model.keras')`. \n"
          ]
        },
        {
          "output_type": "stream",
          "name": "stdout",
          "text": [
            "\b\b\b\b\b\b\b\b\b\b\b\b\b\b\b\b\b\b\b\b\b\b\b\b\b\b\b\b\b\b\b\b\b\b\b\b\b\b\b\b\b\b\b\b\b\b\b\b\b\b\b\b\b\b\b\b\b\b\b\b\b\b\b\b\b\b\b\b\b\b\b\b\b\b\b\b\b\b\b\b\b\b\b\b\b\b\b\b\b\b\b\b\b\b\b\b\b\b\b\b\b\b\b\b\b\b\b\b\b\b\b\b\b\b\b\b\b\b\b\b\b\b\b\b\b\b\b\b\b\b\b\b\b\b\r\u001b[1m782/782\u001b[0m \u001b[32m━━━━━━━━━━━━━━━━━━━━\u001b[0m\u001b[37m\u001b[0m \u001b[1m324s\u001b[0m 414ms/step - accuracy: 0.9027 - loss: 0.2875 - mean_average_precision: 0.8956 - top_3_accuracy: 0.9800 - val_accuracy: 0.9779 - val_loss: 0.0819 - val_mean_average_precision: 0.9773 - val_top_3_accuracy: 0.9961 - learning_rate: 0.0010\n",
            "Epoch 16/20\n",
            "\u001b[1m782/782\u001b[0m \u001b[32m━━━━━━━━━━━━━━━━━━━━\u001b[0m\u001b[37m\u001b[0m \u001b[1m0s\u001b[0m 386ms/step - accuracy: 0.9068 - loss: 0.2802 - mean_average_precision: 0.9006 - top_3_accuracy: 0.9799\n",
            "Epoch 16: val_accuracy did not improve from 0.97791\n",
            "\u001b[1m782/782\u001b[0m \u001b[32m━━━━━━━━━━━━━━━━━━━━\u001b[0m\u001b[37m\u001b[0m \u001b[1m322s\u001b[0m 412ms/step - accuracy: 0.9068 - loss: 0.2802 - mean_average_precision: 0.9006 - top_3_accuracy: 0.9799 - val_accuracy: 0.9754 - val_loss: 0.0822 - val_mean_average_precision: 0.9745 - val_top_3_accuracy: 0.9953 - learning_rate: 0.0010\n",
            "Epoch 17/20\n",
            "\u001b[1m782/782\u001b[0m \u001b[32m━━━━━━━━━━━━━━━━━━━━\u001b[0m\u001b[37m\u001b[0m \u001b[1m0s\u001b[0m 387ms/step - accuracy: 0.9103 - loss: 0.2731 - mean_average_precision: 0.9046 - top_3_accuracy: 0.9819\n",
            "Epoch 17: val_accuracy did not improve from 0.97791\n",
            "\u001b[1m782/782\u001b[0m \u001b[32m━━━━━━━━━━━━━━━━━━━━\u001b[0m\u001b[37m\u001b[0m \u001b[1m322s\u001b[0m 411ms/step - accuracy: 0.9103 - loss: 0.2731 - mean_average_precision: 0.9045 - top_3_accuracy: 0.9819 - val_accuracy: 0.9771 - val_loss: 0.0803 - val_mean_average_precision: 0.9766 - val_top_3_accuracy: 0.9962 - learning_rate: 0.0010\n",
            "Epoch 18/20\n",
            "\u001b[1m782/782\u001b[0m \u001b[32m━━━━━━━━━━━━━━━━━━━━\u001b[0m\u001b[37m\u001b[0m \u001b[1m0s\u001b[0m 389ms/step - accuracy: 0.9084 - loss: 0.2717 - mean_average_precision: 0.9026 - top_3_accuracy: 0.9826\n",
            "Epoch 18: val_accuracy improved from 0.97791 to 0.97986, saving model to /content/drive/My Drive/AnimalSubspeciesDataset/model_checkpoints/DenseNet121_best.h5\n"
          ]
        },
        {
          "output_type": "stream",
          "name": "stderr",
          "text": [
            "WARNING:absl:You are saving your model as an HDF5 file via `model.save()` or `keras.saving.save_model(model)`. This file format is considered legacy. We recommend using instead the native Keras format, e.g. `model.save('my_model.keras')` or `keras.saving.save_model(model, 'my_model.keras')`. \n"
          ]
        },
        {
          "output_type": "stream",
          "name": "stdout",
          "text": [
            "\b\b\b\b\b\b\b\b\b\b\b\b\b\b\b\b\b\b\b\b\b\b\b\b\b\b\b\b\b\b\b\b\b\b\b\b\b\b\b\b\b\b\b\b\b\b\b\b\b\b\b\b\b\b\b\b\b\b\b\b\b\b\b\b\b\b\b\b\b\b\b\b\b\b\b\b\b\b\b\b\b\b\b\b\b\b\b\b\b\b\b\b\b\b\b\b\b\b\b\b\b\b\b\b\b\b\b\b\b\b\b\b\b\b\b\b\b\b\b\b\b\b\b\b\b\b\b\b\b\b\b\b\b\b\r\u001b[1m782/782\u001b[0m \u001b[32m━━━━━━━━━━━━━━━━━━━━\u001b[0m\u001b[37m\u001b[0m \u001b[1m325s\u001b[0m 415ms/step - accuracy: 0.9084 - loss: 0.2717 - mean_average_precision: 0.9026 - top_3_accuracy: 0.9826 - val_accuracy: 0.9799 - val_loss: 0.0779 - val_mean_average_precision: 0.9791 - val_top_3_accuracy: 0.9967 - learning_rate: 0.0010\n",
            "Epoch 19/20\n",
            "\u001b[1m782/782\u001b[0m \u001b[32m━━━━━━━━━━━━━━━━━━━━\u001b[0m\u001b[37m\u001b[0m \u001b[1m0s\u001b[0m 389ms/step - accuracy: 0.9105 - loss: 0.2706 - mean_average_precision: 0.9049 - top_3_accuracy: 0.9843\n",
            "Epoch 19: val_accuracy did not improve from 0.97986\n",
            "\u001b[1m782/782\u001b[0m \u001b[32m━━━━━━━━━━━━━━━━━━━━\u001b[0m\u001b[37m\u001b[0m \u001b[1m323s\u001b[0m 413ms/step - accuracy: 0.9105 - loss: 0.2706 - mean_average_precision: 0.9049 - top_3_accuracy: 0.9843 - val_accuracy: 0.9757 - val_loss: 0.0855 - val_mean_average_precision: 0.9750 - val_top_3_accuracy: 0.9954 - learning_rate: 0.0010\n",
            "Epoch 20/20\n",
            "\u001b[1m782/782\u001b[0m \u001b[32m━━━━━━━━━━━━━━━━━━━━\u001b[0m\u001b[37m\u001b[0m \u001b[1m0s\u001b[0m 387ms/step - accuracy: 0.9126 - loss: 0.2615 - mean_average_precision: 0.9069 - top_3_accuracy: 0.9819\n",
            "Epoch 20: val_accuracy did not improve from 0.97986\n",
            "\u001b[1m782/782\u001b[0m \u001b[32m━━━━━━━━━━━━━━━━━━━━\u001b[0m\u001b[37m\u001b[0m \u001b[1m322s\u001b[0m 412ms/step - accuracy: 0.9126 - loss: 0.2615 - mean_average_precision: 0.9069 - top_3_accuracy: 0.9819 - val_accuracy: 0.9769 - val_loss: 0.0767 - val_mean_average_precision: 0.9764 - val_top_3_accuracy: 0.9962 - learning_rate: 0.0010\n",
            "Restoring model weights from the end of the best epoch: 20.\n",
            "\n",
            "--- Phase 2: Fine-tuning with unfrozen base model ---\n",
            "Epoch 21/30\n",
            "\u001b[1m782/782\u001b[0m \u001b[32m━━━━━━━━━━━━━━━━━━━━\u001b[0m\u001b[37m\u001b[0m \u001b[1m0s\u001b[0m 391ms/step - accuracy: 0.9216 - loss: 0.2439 - mean_average_precision: 0.9168 - top_3_accuracy: 0.9854\n",
            "Epoch 21: val_accuracy improved from 0.97986 to 0.98319, saving model to /content/drive/My Drive/AnimalSubspeciesDataset/model_checkpoints/DenseNet121_best.h5\n"
          ]
        },
        {
          "output_type": "stream",
          "name": "stderr",
          "text": [
            "WARNING:absl:You are saving your model as an HDF5 file via `model.save()` or `keras.saving.save_model(model)`. This file format is considered legacy. We recommend using instead the native Keras format, e.g. `model.save('my_model.keras')` or `keras.saving.save_model(model, 'my_model.keras')`. \n"
          ]
        },
        {
          "output_type": "stream",
          "name": "stdout",
          "text": [
            "\b\b\b\b\b\b\b\b\b\b\b\b\b\b\b\b\b\b\b\b\b\b\b\b\b\b\b\b\b\b\b\b\b\b\b\b\b\b\b\b\b\b\b\b\b\b\b\b\b\b\b\b\b\b\b\b\b\b\b\b\b\b\b\b\b\b\b\b\b\b\b\b\b\b\b\b\b\b\b\b\b\b\b\b\b\b\b\b\b\b\b\b\b\b\b\b\b\b\b\b\b\b\b\b\b\b\b\b\b\b\b\b\b\b\b\b\b\b\b\b\b\b\b\b\b\b\b\b\b\b\b\b\b\b\r\u001b[1m782/782\u001b[0m \u001b[32m━━━━━━━━━━━━━━━━━━━━\u001b[0m\u001b[37m\u001b[0m \u001b[1m494s\u001b[0m 440ms/step - accuracy: 0.9216 - loss: 0.2438 - mean_average_precision: 0.9168 - top_3_accuracy: 0.9854 - val_accuracy: 0.9832 - val_loss: 0.0553 - val_mean_average_precision: 0.9836 - val_top_3_accuracy: 0.9975 - learning_rate: 1.0000e-04\n",
            "Epoch 22/30\n",
            "\u001b[1m782/782\u001b[0m \u001b[32m━━━━━━━━━━━━━━━━━━━━\u001b[0m\u001b[37m\u001b[0m \u001b[1m0s\u001b[0m 391ms/step - accuracy: 0.9585 - loss: 0.1377 - mean_average_precision: 0.9569 - top_3_accuracy: 0.9938\n",
            "Epoch 22: val_accuracy improved from 0.98319 to 0.99069, saving model to /content/drive/My Drive/AnimalSubspeciesDataset/model_checkpoints/DenseNet121_best.h5\n"
          ]
        },
        {
          "output_type": "stream",
          "name": "stderr",
          "text": [
            "WARNING:absl:You are saving your model as an HDF5 file via `model.save()` or `keras.saving.save_model(model)`. This file format is considered legacy. We recommend using instead the native Keras format, e.g. `model.save('my_model.keras')` or `keras.saving.save_model(model, 'my_model.keras')`. \n"
          ]
        },
        {
          "output_type": "stream",
          "name": "stdout",
          "text": [
            "\b\b\b\b\b\b\b\b\b\b\b\b\b\b\b\b\b\b\b\b\b\b\b\b\b\b\b\b\b\b\b\b\b\b\b\b\b\b\b\b\b\b\b\b\b\b\b\b\b\b\b\b\b\b\b\b\b\b\b\b\b\b\b\b\b\b\b\b\b\b\b\b\b\b\b\b\b\b\b\b\b\b\b\b\b\b\b\b\b\b\b\b\b\b\b\b\b\b\b\b\b\b\b\b\b\b\b\b\b\b\b\b\b\b\b\b\b\b\b\b\b\b\b\b\b\b\b\b\b\b\b\b\b\b\r\u001b[1m782/782\u001b[0m \u001b[32m━━━━━━━━━━━━━━━━━━━━\u001b[0m\u001b[37m\u001b[0m \u001b[1m328s\u001b[0m 419ms/step - accuracy: 0.9585 - loss: 0.1377 - mean_average_precision: 0.9569 - top_3_accuracy: 0.9938 - val_accuracy: 0.9907 - val_loss: 0.0315 - val_mean_average_precision: 0.9911 - val_top_3_accuracy: 0.9989 - learning_rate: 1.0000e-04\n",
            "Epoch 23/30\n",
            "\u001b[1m782/782\u001b[0m \u001b[32m━━━━━━━━━━━━━━━━━━━━\u001b[0m\u001b[37m\u001b[0m \u001b[1m0s\u001b[0m 394ms/step - accuracy: 0.9723 - loss: 0.0851 - mean_average_precision: 0.9718 - top_3_accuracy: 0.9969\n",
            "Epoch 23: val_accuracy did not improve from 0.99069\n",
            "\u001b[1m782/782\u001b[0m \u001b[32m━━━━━━━━━━━━━━━━━━━━\u001b[0m\u001b[37m\u001b[0m \u001b[1m328s\u001b[0m 419ms/step - accuracy: 0.9723 - loss: 0.0851 - mean_average_precision: 0.9718 - top_3_accuracy: 0.9969 - val_accuracy: 0.9907 - val_loss: 0.0295 - val_mean_average_precision: 0.9912 - val_top_3_accuracy: 0.9993 - learning_rate: 1.0000e-04\n",
            "Epoch 24/30\n",
            "\u001b[1m782/782\u001b[0m \u001b[32m━━━━━━━━━━━━━━━━━━━━\u001b[0m\u001b[37m\u001b[0m \u001b[1m0s\u001b[0m 389ms/step - accuracy: 0.9769 - loss: 0.0741 - mean_average_precision: 0.9765 - top_3_accuracy: 0.9979\n",
            "Epoch 24: val_accuracy improved from 0.99069 to 0.99139, saving model to /content/drive/My Drive/AnimalSubspeciesDataset/model_checkpoints/DenseNet121_best.h5\n"
          ]
        },
        {
          "output_type": "stream",
          "name": "stderr",
          "text": [
            "WARNING:absl:You are saving your model as an HDF5 file via `model.save()` or `keras.saving.save_model(model)`. This file format is considered legacy. We recommend using instead the native Keras format, e.g. `model.save('my_model.keras')` or `keras.saving.save_model(model, 'my_model.keras')`. \n"
          ]
        },
        {
          "output_type": "stream",
          "name": "stdout",
          "text": [
            "\b\b\b\b\b\b\b\b\b\b\b\b\b\b\b\b\b\b\b\b\b\b\b\b\b\b\b\b\b\b\b\b\b\b\b\b\b\b\b\b\b\b\b\b\b\b\b\b\b\b\b\b\b\b\b\b\b\b\b\b\b\b\b\b\b\b\b\b\b\b\b\b\b\b\b\b\b\b\b\b\b\b\b\b\b\b\b\b\b\b\b\b\b\b\b\b\b\b\b\b\b\b\b\b\b\b\b\b\b\b\b\b\b\b\b\b\b\b\b\b\b\b\b\b\b\b\b\b\b\b\b\b\b\b\r\u001b[1m782/782\u001b[0m \u001b[32m━━━━━━━━━━━━━━━━━━━━\u001b[0m\u001b[37m\u001b[0m \u001b[1m326s\u001b[0m 417ms/step - accuracy: 0.9769 - loss: 0.0741 - mean_average_precision: 0.9765 - top_3_accuracy: 0.9979 - val_accuracy: 0.9914 - val_loss: 0.0263 - val_mean_average_precision: 0.9919 - val_top_3_accuracy: 0.9997 - learning_rate: 1.0000e-04\n",
            "Epoch 25/30\n",
            "\u001b[1m782/782\u001b[0m \u001b[32m━━━━━━━━━━━━━━━━━━━━\u001b[0m\u001b[37m\u001b[0m \u001b[1m0s\u001b[0m 394ms/step - accuracy: 0.9788 - loss: 0.0718 - mean_average_precision: 0.9782 - top_3_accuracy: 0.9969\n",
            "Epoch 25: val_accuracy did not improve from 0.99139\n",
            "\u001b[1m782/782\u001b[0m \u001b[32m━━━━━━━━━━━━━━━━━━━━\u001b[0m\u001b[37m\u001b[0m \u001b[1m327s\u001b[0m 419ms/step - accuracy: 0.9788 - loss: 0.0718 - mean_average_precision: 0.9782 - top_3_accuracy: 0.9969 - val_accuracy: 0.9886 - val_loss: 0.0423 - val_mean_average_precision: 0.9875 - val_top_3_accuracy: 0.9993 - learning_rate: 1.0000e-04\n",
            "Epoch 26/30\n",
            "\u001b[1m782/782\u001b[0m \u001b[32m━━━━━━━━━━━━━━━━━━━━\u001b[0m\u001b[37m\u001b[0m \u001b[1m0s\u001b[0m 390ms/step - accuracy: 0.9831 - loss: 0.0565 - mean_average_precision: 0.9831 - top_3_accuracy: 0.9986\n",
            "Epoch 26: val_accuracy improved from 0.99139 to 0.99166, saving model to /content/drive/My Drive/AnimalSubspeciesDataset/model_checkpoints/DenseNet121_best.h5\n"
          ]
        },
        {
          "output_type": "stream",
          "name": "stderr",
          "text": [
            "WARNING:absl:You are saving your model as an HDF5 file via `model.save()` or `keras.saving.save_model(model)`. This file format is considered legacy. We recommend using instead the native Keras format, e.g. `model.save('my_model.keras')` or `keras.saving.save_model(model, 'my_model.keras')`. \n"
          ]
        },
        {
          "output_type": "stream",
          "name": "stdout",
          "text": [
            "\b\b\b\b\b\b\b\b\b\b\b\b\b\b\b\b\b\b\b\b\b\b\b\b\b\b\b\b\b\b\b\b\b\b\b\b\b\b\b\b\b\b\b\b\b\b\b\b\b\b\b\b\b\b\b\b\b\b\b\b\b\b\b\b\b\b\b\b\b\b\b\b\b\b\b\b\b\b\b\b\b\b\b\b\b\b\b\b\b\b\b\b\b\b\b\b\b\b\b\b\b\b\b\b\b\b\b\b\b\b\b\b\b\b\b\b\b\b\b\b\b\b\b\b\b\b\b\b\b\b\b\b\b\b\r\u001b[1m782/782\u001b[0m \u001b[32m━━━━━━━━━━━━━━━━━━━━\u001b[0m\u001b[37m\u001b[0m \u001b[1m327s\u001b[0m 418ms/step - accuracy: 0.9831 - loss: 0.0565 - mean_average_precision: 0.9831 - top_3_accuracy: 0.9986 - val_accuracy: 0.9917 - val_loss: 0.0263 - val_mean_average_precision: 0.9920 - val_top_3_accuracy: 0.9993 - learning_rate: 1.0000e-04\n",
            "Epoch 27/30\n",
            "\u001b[1m782/782\u001b[0m \u001b[32m━━━━━━━━━━━━━━━━━━━━\u001b[0m\u001b[37m\u001b[0m \u001b[1m0s\u001b[0m 392ms/step - accuracy: 0.9849 - loss: 0.0494 - mean_average_precision: 0.9851 - top_3_accuracy: 0.9988\n",
            "Epoch 27: val_accuracy improved from 0.99166 to 0.99305, saving model to /content/drive/My Drive/AnimalSubspeciesDataset/model_checkpoints/DenseNet121_best.h5\n"
          ]
        },
        {
          "output_type": "stream",
          "name": "stderr",
          "text": [
            "WARNING:absl:You are saving your model as an HDF5 file via `model.save()` or `keras.saving.save_model(model)`. This file format is considered legacy. We recommend using instead the native Keras format, e.g. `model.save('my_model.keras')` or `keras.saving.save_model(model, 'my_model.keras')`. \n"
          ]
        },
        {
          "output_type": "stream",
          "name": "stdout",
          "text": [
            "\b\b\b\b\b\b\b\b\b\b\b\b\b\b\b\b\b\b\b\b\b\b\b\b\b\b\b\b\b\b\b\b\b\b\b\b\b\b\b\b\b\b\b\b\b\b\b\b\b\b\b\b\b\b\b\b\b\b\b\b\b\b\b\b\b\b\b\b\b\b\b\b\b\b\b\b\b\b\b\b\b\b\b\b\b\b\b\b\b\b\b\b\b\b\b\b\b\b\b\b\b\b\b\b\b\b\b\b\b\b\b\b\b\b\b\b\b\b\b\b\b\b\b\b\b\b\b\b\b\b\b\b\b\b\r\u001b[1m782/782\u001b[0m \u001b[32m━━━━━━━━━━━━━━━━━━━━\u001b[0m\u001b[37m\u001b[0m \u001b[1m328s\u001b[0m 419ms/step - accuracy: 0.9849 - loss: 0.0494 - mean_average_precision: 0.9851 - top_3_accuracy: 0.9988 - val_accuracy: 0.9931 - val_loss: 0.0221 - val_mean_average_precision: 0.9932 - val_top_3_accuracy: 0.9993 - learning_rate: 1.0000e-04\n",
            "Epoch 28/30\n",
            "\u001b[1m782/782\u001b[0m \u001b[32m━━━━━━━━━━━━━━━━━━━━\u001b[0m\u001b[37m\u001b[0m \u001b[1m0s\u001b[0m 392ms/step - accuracy: 0.9864 - loss: 0.0453 - mean_average_precision: 0.9861 - top_3_accuracy: 0.9992\n",
            "Epoch 28: val_accuracy did not improve from 0.99305\n",
            "\u001b[1m782/782\u001b[0m \u001b[32m━━━━━━━━━━━━━━━━━━━━\u001b[0m\u001b[37m\u001b[0m \u001b[1m326s\u001b[0m 416ms/step - accuracy: 0.9864 - loss: 0.0453 - mean_average_precision: 0.9861 - top_3_accuracy: 0.9992 - val_accuracy: 0.9896 - val_loss: 0.0352 - val_mean_average_precision: 0.9901 - val_top_3_accuracy: 0.9990 - learning_rate: 1.0000e-04\n",
            "Epoch 29/30\n",
            "\u001b[1m782/782\u001b[0m \u001b[32m━━━━━━━━━━━━━━━━━━━━\u001b[0m\u001b[37m\u001b[0m \u001b[1m0s\u001b[0m 390ms/step - accuracy: 0.9861 - loss: 0.0434 - mean_average_precision: 0.9863 - top_3_accuracy: 0.9989\n",
            "Epoch 29: val_accuracy improved from 0.99305 to 0.99486, saving model to /content/drive/My Drive/AnimalSubspeciesDataset/model_checkpoints/DenseNet121_best.h5\n"
          ]
        },
        {
          "output_type": "stream",
          "name": "stderr",
          "text": [
            "WARNING:absl:You are saving your model as an HDF5 file via `model.save()` or `keras.saving.save_model(model)`. This file format is considered legacy. We recommend using instead the native Keras format, e.g. `model.save('my_model.keras')` or `keras.saving.save_model(model, 'my_model.keras')`. \n"
          ]
        },
        {
          "output_type": "stream",
          "name": "stdout",
          "text": [
            "\b\b\b\b\b\b\b\b\b\b\b\b\b\b\b\b\b\b\b\b\b\b\b\b\b\b\b\b\b\b\b\b\b\b\b\b\b\b\b\b\b\b\b\b\b\b\b\b\b\b\b\b\b\b\b\b\b\b\b\b\b\b\b\b\b\b\b\b\b\b\b\b\b\b\b\b\b\b\b\b\b\b\b\b\b\b\b\b\b\b\b\b\b\b\b\b\b\b\b\b\b\b\b\b\b\b\b\b\b\b\b\b\b\b\b\b\b\b\b\b\b\b\b\b\b\b\b\b\b\b\b\b\b\b\r\u001b[1m782/782\u001b[0m \u001b[32m━━━━━━━━━━━━━━━━━━━━\u001b[0m\u001b[37m\u001b[0m \u001b[1m327s\u001b[0m 418ms/step - accuracy: 0.9861 - loss: 0.0434 - mean_average_precision: 0.9863 - top_3_accuracy: 0.9989 - val_accuracy: 0.9949 - val_loss: 0.0161 - val_mean_average_precision: 0.9954 - val_top_3_accuracy: 0.9993 - learning_rate: 1.0000e-04\n",
            "Epoch 30/30\n",
            "\u001b[1m782/782\u001b[0m \u001b[32m━━━━━━━━━━━━━━━━━━━━\u001b[0m\u001b[37m\u001b[0m \u001b[1m0s\u001b[0m 393ms/step - accuracy: 0.9859 - loss: 0.0452 - mean_average_precision: 0.9860 - top_3_accuracy: 0.9989\n",
            "Epoch 30: val_accuracy did not improve from 0.99486\n",
            "\u001b[1m782/782\u001b[0m \u001b[32m━━━━━━━━━━━━━━━━━━━━\u001b[0m\u001b[37m\u001b[0m \u001b[1m327s\u001b[0m 417ms/step - accuracy: 0.9859 - loss: 0.0452 - mean_average_precision: 0.9860 - top_3_accuracy: 0.9989 - val_accuracy: 0.9922 - val_loss: 0.0285 - val_mean_average_precision: 0.9933 - val_top_3_accuracy: 0.9996 - learning_rate: 1.0000e-04\n",
            "Restoring model weights from the end of the best epoch: 29.\n",
            "\n",
            "✓ DenseNet121 training completed!\n",
            "Training time: 9972.02 seconds (166.20 minutes)\n"
          ]
        }
      ],
      "source": [
        "# Train DenseNet121\n",
        "densenet_model, densenet_history, densenet_time = train_model(\n",
        "    'DenseNet121',\n",
        "    train_generator,\n",
        "    validation_generator,\n",
        "    epochs=EPOCHS,\n",
        "    learning_rate=LEARNING_RATE\n",
        ")"
      ]
    },
    {
      "cell_type": "markdown",
      "id": "2a17879b",
      "metadata": {
        "id": "2a17879b"
      },
      "source": [
        "## 10. Model Training - MobileNetV3"
      ]
    },
    {
      "cell_type": "code",
      "execution_count": null,
      "id": "0a1bd793",
      "metadata": {
        "id": "0a1bd793",
        "colab": {
          "base_uri": "https://localhost:8080/"
        },
        "outputId": "5371b3ac-5fe3-4648-eab4-8557b103d4d8"
      },
      "outputs": [
        {
          "output_type": "stream",
          "name": "stdout",
          "text": [
            "\n",
            "==================================================\n",
            "TRAINING MobileNetV3\n",
            "==================================================\n",
            "Downloading data from https://storage.googleapis.com/tensorflow/keras-applications/mobilenet_v3/weights_mobilenet_v3_large_224_1.0_float_no_top_v2.h5\n",
            "\u001b[1m12683000/12683000\u001b[0m \u001b[32m━━━━━━━━━━━━━━━━━━━━\u001b[0m\u001b[37m\u001b[0m \u001b[1m0s\u001b[0m 0us/step\n",
            "\n",
            "Model: MobileNetV3\n",
            "Total params: 3,623,816\n",
            "Trainable params: 626,440\n",
            "\n",
            "--- Phase 1: Training with frozen base model ---\n",
            "Epoch 1/20\n",
            "\u001b[1m782/782\u001b[0m \u001b[32m━━━━━━━━━━━━━━━━━━━━\u001b[0m\u001b[37m\u001b[0m \u001b[1m0s\u001b[0m 386ms/step - accuracy: 0.1708 - loss: 2.3588 - mean_average_precision: 0.1436 - top_3_accuracy: 0.4543\n",
            "Epoch 1: val_accuracy improved from -inf to 0.24660, saving model to /content/drive/My Drive/AnimalSubspeciesDataset/model_checkpoints/MobileNetV3_best.h5\n"
          ]
        },
        {
          "output_type": "stream",
          "name": "stderr",
          "text": [
            "WARNING:absl:You are saving your model as an HDF5 file via `model.save()` or `keras.saving.save_model(model)`. This file format is considered legacy. We recommend using instead the native Keras format, e.g. `model.save('my_model.keras')` or `keras.saving.save_model(model, 'my_model.keras')`. \n"
          ]
        },
        {
          "output_type": "stream",
          "name": "stdout",
          "text": [
            "\b\b\b\b\b\b\b\b\b\b\b\b\b\b\b\b\b\b\b\b\b\b\b\b\b\b\b\b\b\b\b\b\b\b\b\b\b\b\b\b\b\b\b\b\b\b\b\b\b\b\b\b\b\b\b\b\b\b\b\b\b\b\b\b\b\b\b\b\b\b\b\b\b\b\b\b\b\b\b\b\b\b\b\b\b\b\b\b\b\b\b\b\b\b\b\b\b\b\b\b\b\b\b\b\b\b\b\b\b\b\b\b\b\b\b\b\b\b\b\b\b\b\b\b\b\b\b\b\b\b\b\b\b\b\r\u001b[1m782/782\u001b[0m \u001b[32m━━━━━━━━━━━━━━━━━━━━\u001b[0m\u001b[37m\u001b[0m \u001b[1m358s\u001b[0m 435ms/step - accuracy: 0.1708 - loss: 2.3586 - mean_average_precision: 0.1436 - top_3_accuracy: 0.4544 - val_accuracy: 0.2466 - val_loss: 2.0118 - val_mean_average_precision: 0.1985 - val_top_3_accuracy: 0.5461 - learning_rate: 0.0010\n",
            "Epoch 2/20\n",
            "\u001b[1m782/782\u001b[0m \u001b[32m━━━━━━━━━━━━━━━━━━━━\u001b[0m\u001b[37m\u001b[0m \u001b[1m0s\u001b[0m 388ms/step - accuracy: 0.2084 - loss: 2.0191 - mean_average_precision: 0.1631 - top_3_accuracy: 0.5350\n",
            "Epoch 2: val_accuracy improved from 0.24660 to 0.33148, saving model to /content/drive/My Drive/AnimalSubspeciesDataset/model_checkpoints/MobileNetV3_best.h5\n"
          ]
        },
        {
          "output_type": "stream",
          "name": "stderr",
          "text": [
            "WARNING:absl:You are saving your model as an HDF5 file via `model.save()` or `keras.saving.save_model(model)`. This file format is considered legacy. We recommend using instead the native Keras format, e.g. `model.save('my_model.keras')` or `keras.saving.save_model(model, 'my_model.keras')`. \n"
          ]
        },
        {
          "output_type": "stream",
          "name": "stdout",
          "text": [
            "\b\b\b\b\b\b\b\b\b\b\b\b\b\b\b\b\b\b\b\b\b\b\b\b\b\b\b\b\b\b\b\b\b\b\b\b\b\b\b\b\b\b\b\b\b\b\b\b\b\b\b\b\b\b\b\b\b\b\b\b\b\b\b\b\b\b\b\b\b\b\b\b\b\b\b\b\b\b\b\b\b\b\b\b\b\b\b\b\b\b\b\b\b\b\b\b\b\b\b\b\b\b\b\b\b\b\b\b\b\b\b\b\b\b\b\b\b\b\b\b\b\b\b\b\b\b\b\b\b\b\b\b\b\b\r\u001b[1m782/782\u001b[0m \u001b[32m━━━━━━━━━━━━━━━━━━━━\u001b[0m\u001b[37m\u001b[0m \u001b[1m324s\u001b[0m 414ms/step - accuracy: 0.2084 - loss: 2.0191 - mean_average_precision: 0.1632 - top_3_accuracy: 0.5350 - val_accuracy: 0.3315 - val_loss: 1.9469 - val_mean_average_precision: 0.2400 - val_top_3_accuracy: 0.6646 - learning_rate: 0.0010\n",
            "Epoch 3/20\n",
            "\u001b[1m782/782\u001b[0m \u001b[32m━━━━━━━━━━━━━━━━━━━━\u001b[0m\u001b[37m\u001b[0m \u001b[1m0s\u001b[0m 386ms/step - accuracy: 0.2398 - loss: 1.9547 - mean_average_precision: 0.1801 - top_3_accuracy: 0.5807\n",
            "Epoch 3: val_accuracy improved from 0.33148 to 0.33634, saving model to /content/drive/My Drive/AnimalSubspeciesDataset/model_checkpoints/MobileNetV3_best.h5\n"
          ]
        },
        {
          "output_type": "stream",
          "name": "stderr",
          "text": [
            "WARNING:absl:You are saving your model as an HDF5 file via `model.save()` or `keras.saving.save_model(model)`. This file format is considered legacy. We recommend using instead the native Keras format, e.g. `model.save('my_model.keras')` or `keras.saving.save_model(model, 'my_model.keras')`. \n"
          ]
        },
        {
          "output_type": "stream",
          "name": "stdout",
          "text": [
            "\b\b\b\b\b\b\b\b\b\b\b\b\b\b\b\b\b\b\b\b\b\b\b\b\b\b\b\b\b\b\b\b\b\b\b\b\b\b\b\b\b\b\b\b\b\b\b\b\b\b\b\b\b\b\b\b\b\b\b\b\b\b\b\b\b\b\b\b\b\b\b\b\b\b\b\b\b\b\b\b\b\b\b\b\b\b\b\b\b\b\b\b\b\b\b\b\b\b\b\b\b\b\b\b\b\b\b\b\b\b\b\b\b\b\b\b\b\b\b\b\b\b\b\b\b\b\b\b\b\b\b\b\b\b\r\u001b[1m782/782\u001b[0m \u001b[32m━━━━━━━━━━━━━━━━━━━━\u001b[0m\u001b[37m\u001b[0m \u001b[1m323s\u001b[0m 412ms/step - accuracy: 0.2399 - loss: 1.9547 - mean_average_precision: 0.1801 - top_3_accuracy: 0.5807 - val_accuracy: 0.3363 - val_loss: 1.8917 - val_mean_average_precision: 0.2594 - val_top_3_accuracy: 0.6707 - learning_rate: 0.0010\n",
            "Epoch 4/20\n",
            "\u001b[1m782/782\u001b[0m \u001b[32m━━━━━━━━━━━━━━━━━━━━\u001b[0m\u001b[37m\u001b[0m \u001b[1m0s\u001b[0m 388ms/step - accuracy: 0.2535 - loss: 1.9293 - mean_average_precision: 0.1962 - top_3_accuracy: 0.5960\n",
            "Epoch 4: val_accuracy did not improve from 0.33634\n",
            "\u001b[1m782/782\u001b[0m \u001b[32m━━━━━━━━━━━━━━━━━━━━\u001b[0m\u001b[37m\u001b[0m \u001b[1m322s\u001b[0m 412ms/step - accuracy: 0.2535 - loss: 1.9293 - mean_average_precision: 0.1963 - top_3_accuracy: 0.5960 - val_accuracy: 0.3201 - val_loss: 1.8788 - val_mean_average_precision: 0.2610 - val_top_3_accuracy: 0.6746 - learning_rate: 0.0010\n",
            "Epoch 5/20\n",
            "\u001b[1m782/782\u001b[0m \u001b[32m━━━━━━━━━━━━━━━━━━━━\u001b[0m\u001b[37m\u001b[0m \u001b[1m0s\u001b[0m 387ms/step - accuracy: 0.2549 - loss: 1.9206 - mean_average_precision: 0.1977 - top_3_accuracy: 0.5976\n",
            "Epoch 5: val_accuracy improved from 0.33634 to 0.36455, saving model to /content/drive/My Drive/AnimalSubspeciesDataset/model_checkpoints/MobileNetV3_best.h5\n"
          ]
        },
        {
          "output_type": "stream",
          "name": "stderr",
          "text": [
            "WARNING:absl:You are saving your model as an HDF5 file via `model.save()` or `keras.saving.save_model(model)`. This file format is considered legacy. We recommend using instead the native Keras format, e.g. `model.save('my_model.keras')` or `keras.saving.save_model(model, 'my_model.keras')`. \n"
          ]
        },
        {
          "output_type": "stream",
          "name": "stdout",
          "text": [
            "\b\b\b\b\b\b\b\b\b\b\b\b\b\b\b\b\b\b\b\b\b\b\b\b\b\b\b\b\b\b\b\b\b\b\b\b\b\b\b\b\b\b\b\b\b\b\b\b\b\b\b\b\b\b\b\b\b\b\b\b\b\b\b\b\b\b\b\b\b\b\b\b\b\b\b\b\b\b\b\b\b\b\b\b\b\b\b\b\b\b\b\b\b\b\b\b\b\b\b\b\b\b\b\b\b\b\b\b\b\b\b\b\b\b\b\b\b\b\b\b\b\b\b\b\b\b\b\b\b\b\b\b\b\b\r\u001b[1m782/782\u001b[0m \u001b[32m━━━━━━━━━━━━━━━━━━━━\u001b[0m\u001b[37m\u001b[0m \u001b[1m322s\u001b[0m 412ms/step - accuracy: 0.2549 - loss: 1.9206 - mean_average_precision: 0.1977 - top_3_accuracy: 0.5976 - val_accuracy: 0.3645 - val_loss: 1.8341 - val_mean_average_precision: 0.2950 - val_top_3_accuracy: 0.6738 - learning_rate: 0.0010\n",
            "Epoch 6/20\n",
            "\u001b[1m782/782\u001b[0m \u001b[32m━━━━━━━━━━━━━━━━━━━━\u001b[0m\u001b[37m\u001b[0m \u001b[1m0s\u001b[0m 389ms/step - accuracy: 0.2704 - loss: 1.8961 - mean_average_precision: 0.2198 - top_3_accuracy: 0.6168\n",
            "Epoch 6: val_accuracy did not improve from 0.36455\n",
            "\u001b[1m782/782\u001b[0m \u001b[32m━━━━━━━━━━━━━━━━━━━━\u001b[0m\u001b[37m\u001b[0m \u001b[1m323s\u001b[0m 413ms/step - accuracy: 0.2704 - loss: 1.8961 - mean_average_precision: 0.2198 - top_3_accuracy: 0.6168 - val_accuracy: 0.3541 - val_loss: 1.7859 - val_mean_average_precision: 0.3030 - val_top_3_accuracy: 0.6916 - learning_rate: 0.0010\n",
            "Epoch 7/20\n",
            "\u001b[1m782/782\u001b[0m \u001b[32m━━━━━━━━━━━━━━━━━━━━\u001b[0m\u001b[37m\u001b[0m \u001b[1m0s\u001b[0m 388ms/step - accuracy: 0.2675 - loss: 1.8949 - mean_average_precision: 0.2222 - top_3_accuracy: 0.6160\n",
            "Epoch 7: val_accuracy did not improve from 0.36455\n",
            "\u001b[1m782/782\u001b[0m \u001b[32m━━━━━━━━━━━━━━━━━━━━\u001b[0m\u001b[37m\u001b[0m \u001b[1m322s\u001b[0m 412ms/step - accuracy: 0.2675 - loss: 1.8949 - mean_average_precision: 0.2222 - top_3_accuracy: 0.6160 - val_accuracy: 0.3258 - val_loss: 1.7928 - val_mean_average_precision: 0.2452 - val_top_3_accuracy: 0.6782 - learning_rate: 0.0010\n",
            "Epoch 8/20\n",
            "\u001b[1m782/782\u001b[0m \u001b[32m━━━━━━━━━━━━━━━━━━━━\u001b[0m\u001b[37m\u001b[0m \u001b[1m0s\u001b[0m 389ms/step - accuracy: 0.2702 - loss: 1.8916 - mean_average_precision: 0.2232 - top_3_accuracy: 0.6178\n",
            "Epoch 8: val_accuracy did not improve from 0.36455\n",
            "\u001b[1m782/782\u001b[0m \u001b[32m━━━━━━━━━━━━━━━━━━━━\u001b[0m\u001b[37m\u001b[0m \u001b[1m323s\u001b[0m 413ms/step - accuracy: 0.2702 - loss: 1.8916 - mean_average_precision: 0.2232 - top_3_accuracy: 0.6178 - val_accuracy: 0.3426 - val_loss: 1.7911 - val_mean_average_precision: 0.2959 - val_top_3_accuracy: 0.6909 - learning_rate: 0.0010\n",
            "Epoch 9/20\n",
            "\u001b[1m782/782\u001b[0m \u001b[32m━━━━━━━━━━━━━━━━━━━━\u001b[0m\u001b[37m\u001b[0m \u001b[1m0s\u001b[0m 387ms/step - accuracy: 0.2774 - loss: 1.8843 - mean_average_precision: 0.2300 - top_3_accuracy: 0.6275\n",
            "Epoch 9: val_accuracy improved from 0.36455 to 0.36982, saving model to /content/drive/My Drive/AnimalSubspeciesDataset/model_checkpoints/MobileNetV3_best.h5\n"
          ]
        },
        {
          "output_type": "stream",
          "name": "stderr",
          "text": [
            "WARNING:absl:You are saving your model as an HDF5 file via `model.save()` or `keras.saving.save_model(model)`. This file format is considered legacy. We recommend using instead the native Keras format, e.g. `model.save('my_model.keras')` or `keras.saving.save_model(model, 'my_model.keras')`. \n"
          ]
        },
        {
          "output_type": "stream",
          "name": "stdout",
          "text": [
            "\b\b\b\b\b\b\b\b\b\b\b\b\b\b\b\b\b\b\b\b\b\b\b\b\b\b\b\b\b\b\b\b\b\b\b\b\b\b\b\b\b\b\b\b\b\b\b\b\b\b\b\b\b\b\b\b\b\b\b\b\b\b\b\b\b\b\b\b\b\b\b\b\b\b\b\b\b\b\b\b\b\b\b\b\b\b\b\b\b\b\b\b\b\b\b\b\b\b\b\b\b\b\b\b\b\b\b\b\b\b\b\b\b\b\b\b\b\b\b\b\b\b\b\b\b\b\b\b\b\b\b\b\b\b\r\u001b[1m782/782\u001b[0m \u001b[32m━━━━━━━━━━━━━━━━━━━━\u001b[0m\u001b[37m\u001b[0m \u001b[1m323s\u001b[0m 413ms/step - accuracy: 0.2774 - loss: 1.8843 - mean_average_precision: 0.2300 - top_3_accuracy: 0.6275 - val_accuracy: 0.3698 - val_loss: 1.7506 - val_mean_average_precision: 0.3129 - val_top_3_accuracy: 0.6959 - learning_rate: 0.0010\n",
            "Epoch 10/20\n",
            "\u001b[1m782/782\u001b[0m \u001b[32m━━━━━━━━━━━━━━━━━━━━\u001b[0m\u001b[37m\u001b[0m \u001b[1m0s\u001b[0m 388ms/step - accuracy: 0.2783 - loss: 1.8789 - mean_average_precision: 0.2301 - top_3_accuracy: 0.6271\n",
            "Epoch 10: val_accuracy improved from 0.36982 to 0.38802, saving model to /content/drive/My Drive/AnimalSubspeciesDataset/model_checkpoints/MobileNetV3_best.h5\n"
          ]
        },
        {
          "output_type": "stream",
          "name": "stderr",
          "text": [
            "WARNING:absl:You are saving your model as an HDF5 file via `model.save()` or `keras.saving.save_model(model)`. This file format is considered legacy. We recommend using instead the native Keras format, e.g. `model.save('my_model.keras')` or `keras.saving.save_model(model, 'my_model.keras')`. \n"
          ]
        },
        {
          "output_type": "stream",
          "name": "stdout",
          "text": [
            "\b\b\b\b\b\b\b\b\b\b\b\b\b\b\b\b\b\b\b\b\b\b\b\b\b\b\b\b\b\b\b\b\b\b\b\b\b\b\b\b\b\b\b\b\b\b\b\b\b\b\b\b\b\b\b\b\b\b\b\b\b\b\b\b\b\b\b\b\b\b\b\b\b\b\b\b\b\b\b\b\b\b\b\b\b\b\b\b\b\b\b\b\b\b\b\b\b\b\b\b\b\b\b\b\b\b\b\b\b\b\b\b\b\b\b\b\b\b\b\b\b\b\b\b\b\b\b\b\b\b\b\b\b\b\r\u001b[1m782/782\u001b[0m \u001b[32m━━━━━━━━━━━━━━━━━━━━\u001b[0m\u001b[37m\u001b[0m \u001b[1m323s\u001b[0m 413ms/step - accuracy: 0.2783 - loss: 1.8789 - mean_average_precision: 0.2301 - top_3_accuracy: 0.6271 - val_accuracy: 0.3880 - val_loss: 1.7325 - val_mean_average_precision: 0.3431 - val_top_3_accuracy: 0.6966 - learning_rate: 0.0010\n",
            "Epoch 11/20\n",
            "\u001b[1m782/782\u001b[0m \u001b[32m━━━━━━━━━━━━━━━━━━━━\u001b[0m\u001b[37m\u001b[0m \u001b[1m0s\u001b[0m 385ms/step - accuracy: 0.2772 - loss: 1.8782 - mean_average_precision: 0.2341 - top_3_accuracy: 0.6236\n",
            "Epoch 11: val_accuracy did not improve from 0.38802\n",
            "\u001b[1m782/782\u001b[0m \u001b[32m━━━━━━━━━━━━━━━━━━━━\u001b[0m\u001b[37m\u001b[0m \u001b[1m321s\u001b[0m 411ms/step - accuracy: 0.2772 - loss: 1.8782 - mean_average_precision: 0.2341 - top_3_accuracy: 0.6236 - val_accuracy: 0.3739 - val_loss: 1.7454 - val_mean_average_precision: 0.3364 - val_top_3_accuracy: 0.7091 - learning_rate: 0.0010\n",
            "Epoch 12/20\n",
            "\u001b[1m782/782\u001b[0m \u001b[32m━━━━━━━━━━━━━━━━━━━━\u001b[0m\u001b[37m\u001b[0m \u001b[1m0s\u001b[0m 386ms/step - accuracy: 0.2815 - loss: 1.8754 - mean_average_precision: 0.2374 - top_3_accuracy: 0.6272\n",
            "Epoch 12: val_accuracy did not improve from 0.38802\n",
            "\u001b[1m782/782\u001b[0m \u001b[32m━━━━━━━━━━━━━━━━━━━━\u001b[0m\u001b[37m\u001b[0m \u001b[1m321s\u001b[0m 410ms/step - accuracy: 0.2815 - loss: 1.8754 - mean_average_precision: 0.2374 - top_3_accuracy: 0.6272 - val_accuracy: 0.3819 - val_loss: 1.7380 - val_mean_average_precision: 0.3498 - val_top_3_accuracy: 0.7137 - learning_rate: 0.0010\n",
            "Epoch 13/20\n",
            "\u001b[1m782/782\u001b[0m \u001b[32m━━━━━━━━━━━━━━━━━━━━\u001b[0m\u001b[37m\u001b[0m \u001b[1m0s\u001b[0m 385ms/step - accuracy: 0.2897 - loss: 1.8617 - mean_average_precision: 0.2429 - top_3_accuracy: 0.6321\n",
            "Epoch 13: val_accuracy improved from 0.38802 to 0.38914, saving model to /content/drive/My Drive/AnimalSubspeciesDataset/model_checkpoints/MobileNetV3_best.h5\n"
          ]
        },
        {
          "output_type": "stream",
          "name": "stderr",
          "text": [
            "WARNING:absl:You are saving your model as an HDF5 file via `model.save()` or `keras.saving.save_model(model)`. This file format is considered legacy. We recommend using instead the native Keras format, e.g. `model.save('my_model.keras')` or `keras.saving.save_model(model, 'my_model.keras')`. \n"
          ]
        },
        {
          "output_type": "stream",
          "name": "stdout",
          "text": [
            "\b\b\b\b\b\b\b\b\b\b\b\b\b\b\b\b\b\b\b\b\b\b\b\b\b\b\b\b\b\b\b\b\b\b\b\b\b\b\b\b\b\b\b\b\b\b\b\b\b\b\b\b\b\b\b\b\b\b\b\b\b\b\b\b\b\b\b\b\b\b\b\b\b\b\b\b\b\b\b\b\b\b\b\b\b\b\b\b\b\b\b\b\b\b\b\b\b\b\b\b\b\b\b\b\b\b\b\b\b\b\b\b\b\b\b\b\b\b\b\b\b\b\b\b\b\b\b\b\b\b\b\b\b\b\r\u001b[1m782/782\u001b[0m \u001b[32m━━━━━━━━━━━━━━━━━━━━\u001b[0m\u001b[37m\u001b[0m \u001b[1m321s\u001b[0m 411ms/step - accuracy: 0.2897 - loss: 1.8617 - mean_average_precision: 0.2429 - top_3_accuracy: 0.6321 - val_accuracy: 0.3891 - val_loss: 1.7029 - val_mean_average_precision: 0.3544 - val_top_3_accuracy: 0.7210 - learning_rate: 0.0010\n",
            "Epoch 14/20\n",
            "\u001b[1m782/782\u001b[0m \u001b[32m━━━━━━━━━━━━━━━━━━━━\u001b[0m\u001b[37m\u001b[0m \u001b[1m0s\u001b[0m 389ms/step - accuracy: 0.2935 - loss: 1.8615 - mean_average_precision: 0.2542 - top_3_accuracy: 0.6366\n",
            "Epoch 14: val_accuracy improved from 0.38914 to 0.39622, saving model to /content/drive/My Drive/AnimalSubspeciesDataset/model_checkpoints/MobileNetV3_best.h5\n"
          ]
        },
        {
          "output_type": "stream",
          "name": "stderr",
          "text": [
            "WARNING:absl:You are saving your model as an HDF5 file via `model.save()` or `keras.saving.save_model(model)`. This file format is considered legacy. We recommend using instead the native Keras format, e.g. `model.save('my_model.keras')` or `keras.saving.save_model(model, 'my_model.keras')`. \n"
          ]
        },
        {
          "output_type": "stream",
          "name": "stdout",
          "text": [
            "\b\b\b\b\b\b\b\b\b\b\b\b\b\b\b\b\b\b\b\b\b\b\b\b\b\b\b\b\b\b\b\b\b\b\b\b\b\b\b\b\b\b\b\b\b\b\b\b\b\b\b\b\b\b\b\b\b\b\b\b\b\b\b\b\b\b\b\b\b\b\b\b\b\b\b\b\b\b\b\b\b\b\b\b\b\b\b\b\b\b\b\b\b\b\b\b\b\b\b\b\b\b\b\b\b\b\b\b\b\b\b\b\b\b\b\b\b\b\b\b\b\b\b\b\b\b\b\b\b\b\b\b\b\b\r\u001b[1m782/782\u001b[0m \u001b[32m━━━━━━━━━━━━━━━━━━━━\u001b[0m\u001b[37m\u001b[0m \u001b[1m324s\u001b[0m 414ms/step - accuracy: 0.2935 - loss: 1.8615 - mean_average_precision: 0.2541 - top_3_accuracy: 0.6366 - val_accuracy: 0.3962 - val_loss: 1.7050 - val_mean_average_precision: 0.3569 - val_top_3_accuracy: 0.7152 - learning_rate: 0.0010\n",
            "Epoch 15/20\n",
            "\u001b[1m782/782\u001b[0m \u001b[32m━━━━━━━━━━━━━━━━━━━━\u001b[0m\u001b[37m\u001b[0m \u001b[1m0s\u001b[0m 387ms/step - accuracy: 0.2947 - loss: 1.8586 - mean_average_precision: 0.2429 - top_3_accuracy: 0.6324\n",
            "Epoch 15: val_accuracy did not improve from 0.39622\n",
            "\u001b[1m782/782\u001b[0m \u001b[32m━━━━━━━━━━━━━━━━━━━━\u001b[0m\u001b[37m\u001b[0m \u001b[1m322s\u001b[0m 411ms/step - accuracy: 0.2947 - loss: 1.8586 - mean_average_precision: 0.2429 - top_3_accuracy: 0.6324 - val_accuracy: 0.3833 - val_loss: 1.6888 - val_mean_average_precision: 0.3402 - val_top_3_accuracy: 0.7162 - learning_rate: 0.0010\n",
            "Epoch 16/20\n",
            "\u001b[1m782/782\u001b[0m \u001b[32m━━━━━━━━━━━━━━━━━━━━\u001b[0m\u001b[37m\u001b[0m \u001b[1m0s\u001b[0m 385ms/step - accuracy: 0.2901 - loss: 1.8576 - mean_average_precision: 0.2448 - top_3_accuracy: 0.6383\n",
            "Epoch 16: val_accuracy did not improve from 0.39622\n",
            "\u001b[1m782/782\u001b[0m \u001b[32m━━━━━━━━━━━━━━━━━━━━\u001b[0m\u001b[37m\u001b[0m \u001b[1m319s\u001b[0m 408ms/step - accuracy: 0.2901 - loss: 1.8576 - mean_average_precision: 0.2448 - top_3_accuracy: 0.6383 - val_accuracy: 0.3952 - val_loss: 1.7174 - val_mean_average_precision: 0.3546 - val_top_3_accuracy: 0.7213 - learning_rate: 0.0010\n",
            "Epoch 17/20\n",
            "\u001b[1m782/782\u001b[0m \u001b[32m━━━━━━━━━━━━━━━━━━━━\u001b[0m\u001b[37m\u001b[0m \u001b[1m0s\u001b[0m 384ms/step - accuracy: 0.2911 - loss: 1.8571 - mean_average_precision: 0.2430 - top_3_accuracy: 0.6320\n",
            "Epoch 17: val_accuracy did not improve from 0.39622\n",
            "\u001b[1m782/782\u001b[0m \u001b[32m━━━━━━━━━━━━━━━━━━━━\u001b[0m\u001b[37m\u001b[0m \u001b[1m319s\u001b[0m 408ms/step - accuracy: 0.2911 - loss: 1.8571 - mean_average_precision: 0.2430 - top_3_accuracy: 0.6320 - val_accuracy: 0.3816 - val_loss: 1.6874 - val_mean_average_precision: 0.3478 - val_top_3_accuracy: 0.7248 - learning_rate: 0.0010\n",
            "Epoch 18/20\n",
            "\u001b[1m782/782\u001b[0m \u001b[32m━━━━━━━━━━━━━━━━━━━━\u001b[0m\u001b[37m\u001b[0m \u001b[1m0s\u001b[0m 387ms/step - accuracy: 0.2911 - loss: 1.8541 - mean_average_precision: 0.2464 - top_3_accuracy: 0.6357\n",
            "Epoch 18: val_accuracy improved from 0.39622 to 0.39956, saving model to /content/drive/My Drive/AnimalSubspeciesDataset/model_checkpoints/MobileNetV3_best.h5\n"
          ]
        },
        {
          "output_type": "stream",
          "name": "stderr",
          "text": [
            "WARNING:absl:You are saving your model as an HDF5 file via `model.save()` or `keras.saving.save_model(model)`. This file format is considered legacy. We recommend using instead the native Keras format, e.g. `model.save('my_model.keras')` or `keras.saving.save_model(model, 'my_model.keras')`. \n"
          ]
        },
        {
          "output_type": "stream",
          "name": "stdout",
          "text": [
            "\b\b\b\b\b\b\b\b\b\b\b\b\b\b\b\b\b\b\b\b\b\b\b\b\b\b\b\b\b\b\b\b\b\b\b\b\b\b\b\b\b\b\b\b\b\b\b\b\b\b\b\b\b\b\b\b\b\b\b\b\b\b\b\b\b\b\b\b\b\b\b\b\b\b\b\b\b\b\b\b\b\b\b\b\b\b\b\b\b\b\b\b\b\b\b\b\b\b\b\b\b\b\b\b\b\b\b\b\b\b\b\b\b\b\b\b\b\b\b\b\b\b\b\b\b\b\b\b\b\b\b\b\b\b\r\u001b[1m782/782\u001b[0m \u001b[32m━━━━━━━━━━━━━━━━━━━━\u001b[0m\u001b[37m\u001b[0m \u001b[1m322s\u001b[0m 412ms/step - accuracy: 0.2911 - loss: 1.8541 - mean_average_precision: 0.2464 - top_3_accuracy: 0.6357 - val_accuracy: 0.3996 - val_loss: 1.6981 - val_mean_average_precision: 0.3477 - val_top_3_accuracy: 0.7120 - learning_rate: 0.0010\n",
            "Epoch 19/20\n",
            "\u001b[1m782/782\u001b[0m \u001b[32m━━━━━━━━━━━━━━━━━━━━\u001b[0m\u001b[37m\u001b[0m \u001b[1m0s\u001b[0m 388ms/step - accuracy: 0.2938 - loss: 1.8476 - mean_average_precision: 0.2567 - top_3_accuracy: 0.6403\n",
            "Epoch 19: val_accuracy improved from 0.39956 to 0.41150, saving model to /content/drive/My Drive/AnimalSubspeciesDataset/model_checkpoints/MobileNetV3_best.h5\n"
          ]
        },
        {
          "output_type": "stream",
          "name": "stderr",
          "text": [
            "WARNING:absl:You are saving your model as an HDF5 file via `model.save()` or `keras.saving.save_model(model)`. This file format is considered legacy. We recommend using instead the native Keras format, e.g. `model.save('my_model.keras')` or `keras.saving.save_model(model, 'my_model.keras')`. \n"
          ]
        },
        {
          "output_type": "stream",
          "name": "stdout",
          "text": [
            "\b\b\b\b\b\b\b\b\b\b\b\b\b\b\b\b\b\b\b\b\b\b\b\b\b\b\b\b\b\b\b\b\b\b\b\b\b\b\b\b\b\b\b\b\b\b\b\b\b\b\b\b\b\b\b\b\b\b\b\b\b\b\b\b\b\b\b\b\b\b\b\b\b\b\b\b\b\b\b\b\b\b\b\b\b\b\b\b\b\b\b\b\b\b\b\b\b\b\b\b\b\b\b\b\b\b\b\b\b\b\b\b\b\b\b\b\b\b\b\b\b\b\b\b\b\b\b\b\b\b\b\b\b\b\r\u001b[1m782/782\u001b[0m \u001b[32m━━━━━━━━━━━━━━━━━━━━\u001b[0m\u001b[37m\u001b[0m \u001b[1m323s\u001b[0m 412ms/step - accuracy: 0.2938 - loss: 1.8476 - mean_average_precision: 0.2567 - top_3_accuracy: 0.6403 - val_accuracy: 0.4115 - val_loss: 1.6933 - val_mean_average_precision: 0.3792 - val_top_3_accuracy: 0.7223 - learning_rate: 0.0010\n",
            "Epoch 20/20\n",
            "\u001b[1m782/782\u001b[0m \u001b[32m━━━━━━━━━━━━━━━━━━━━\u001b[0m\u001b[37m\u001b[0m \u001b[1m0s\u001b[0m 385ms/step - accuracy: 0.3029 - loss: 1.8439 - mean_average_precision: 0.2599 - top_3_accuracy: 0.6407\n",
            "Epoch 20: val_accuracy did not improve from 0.41150\n",
            "\u001b[1m782/782\u001b[0m \u001b[32m━━━━━━━━━━━━━━━━━━━━\u001b[0m\u001b[37m\u001b[0m \u001b[1m320s\u001b[0m 409ms/step - accuracy: 0.3029 - loss: 1.8439 - mean_average_precision: 0.2599 - top_3_accuracy: 0.6407 - val_accuracy: 0.3932 - val_loss: 1.6796 - val_mean_average_precision: 0.3409 - val_top_3_accuracy: 0.7149 - learning_rate: 0.0010\n",
            "Restoring model weights from the end of the best epoch: 20.\n",
            "\n",
            "--- Phase 2: Fine-tuning with unfrozen base model ---\n",
            "Epoch 21/30\n",
            "\u001b[1m782/782\u001b[0m \u001b[32m━━━━━━━━━━━━━━━━━━━━\u001b[0m\u001b[37m\u001b[0m \u001b[1m0s\u001b[0m 388ms/step - accuracy: 0.5112 - loss: 1.4652 - mean_average_precision: 0.4802 - top_3_accuracy: 0.7661\n",
            "Epoch 21: val_accuracy did not improve from 0.41150\n",
            "\u001b[1m782/782\u001b[0m \u001b[32m━━━━━━━━━━━━━━━━━━━━\u001b[0m\u001b[37m\u001b[0m \u001b[1m391s\u001b[0m 423ms/step - accuracy: 0.5114 - loss: 1.4645 - mean_average_precision: 0.4805 - top_3_accuracy: 0.7663 - val_accuracy: 0.1031 - val_loss: 5.6691 - val_mean_average_precision: 0.0422 - val_top_3_accuracy: 0.3786 - learning_rate: 1.0000e-04\n",
            "Epoch 22/30\n",
            "\u001b[1m782/782\u001b[0m \u001b[32m━━━━━━━━━━━━━━━━━━━━\u001b[0m\u001b[37m\u001b[0m \u001b[1m0s\u001b[0m 384ms/step - accuracy: 0.9113 - loss: 0.3028 - mean_average_precision: 0.9075 - top_3_accuracy: 0.9758\n",
            "Epoch 22: val_accuracy did not improve from 0.41150\n",
            "\u001b[1m782/782\u001b[0m \u001b[32m━━━━━━━━━━━━━━━━━━━━\u001b[0m\u001b[37m\u001b[0m \u001b[1m320s\u001b[0m 409ms/step - accuracy: 0.9114 - loss: 0.3028 - mean_average_precision: 0.9075 - top_3_accuracy: 0.9758 - val_accuracy: 0.0986 - val_loss: 5.9380 - val_mean_average_precision: 0.0297 - val_top_3_accuracy: 0.3862 - learning_rate: 1.0000e-04\n",
            "Epoch 23/30\n",
            "\u001b[1m782/782\u001b[0m \u001b[32m━━━━━━━━━━━━━━━━━━━━\u001b[0m\u001b[37m\u001b[0m \u001b[1m0s\u001b[0m 391ms/step - accuracy: 0.9538 - loss: 0.1568 - mean_average_precision: 0.9527 - top_3_accuracy: 0.9902\n",
            "Epoch 23: val_accuracy did not improve from 0.41150\n",
            "\u001b[1m782/782\u001b[0m \u001b[32m━━━━━━━━━━━━━━━━━━━━\u001b[0m\u001b[37m\u001b[0m \u001b[1m325s\u001b[0m 416ms/step - accuracy: 0.9538 - loss: 0.1568 - mean_average_precision: 0.9527 - top_3_accuracy: 0.9902 - val_accuracy: 0.1214 - val_loss: 5.5150 - val_mean_average_precision: 0.0667 - val_top_3_accuracy: 0.4251 - learning_rate: 1.0000e-04\n",
            "Epoch 24/30\n",
            "\u001b[1m782/782\u001b[0m \u001b[32m━━━━━━━━━━━━━━━━━━━━\u001b[0m\u001b[37m\u001b[0m \u001b[1m0s\u001b[0m 390ms/step - accuracy: 0.9688 - loss: 0.1058 - mean_average_precision: 0.9689 - top_3_accuracy: 0.9950\n",
            "Epoch 24: val_accuracy did not improve from 0.41150\n",
            "\u001b[1m782/782\u001b[0m \u001b[32m━━━━━━━━━━━━━━━━━━━━\u001b[0m\u001b[37m\u001b[0m \u001b[1m323s\u001b[0m 414ms/step - accuracy: 0.9688 - loss: 0.1058 - mean_average_precision: 0.9689 - top_3_accuracy: 0.9950 - val_accuracy: 0.2744 - val_loss: 3.8739 - val_mean_average_precision: 0.2568 - val_top_3_accuracy: 0.6356 - learning_rate: 1.0000e-04\n",
            "Epoch 25/30\n",
            "\u001b[1m782/782\u001b[0m \u001b[32m━━━━━━━━━━━━━━━━━━━━\u001b[0m\u001b[37m\u001b[0m \u001b[1m0s\u001b[0m 386ms/step - accuracy: 0.9784 - loss: 0.0712 - mean_average_precision: 0.9786 - top_3_accuracy: 0.9971\n",
            "Epoch 25: val_accuracy did not improve from 0.41150\n",
            "\u001b[1m782/782\u001b[0m \u001b[32m━━━━━━━━━━━━━━━━━━━━\u001b[0m\u001b[37m\u001b[0m \u001b[1m321s\u001b[0m 410ms/step - accuracy: 0.9784 - loss: 0.0712 - mean_average_precision: 0.9786 - top_3_accuracy: 0.9971 - val_accuracy: 0.2146 - val_loss: 4.4931 - val_mean_average_precision: 0.1974 - val_top_3_accuracy: 0.5624 - learning_rate: 1.0000e-04\n",
            "Epoch 26/30\n",
            "\u001b[1m782/782\u001b[0m \u001b[32m━━━━━━━━━━━━━━━━━━━━\u001b[0m\u001b[37m\u001b[0m \u001b[1m0s\u001b[0m 389ms/step - accuracy: 0.9811 - loss: 0.0621 - mean_average_precision: 0.9817 - top_3_accuracy: 0.9986\n",
            "Epoch 26: val_accuracy did not improve from 0.41150\n",
            "\u001b[1m782/782\u001b[0m \u001b[32m━━━━━━━━━━━━━━━━━━━━\u001b[0m\u001b[37m\u001b[0m \u001b[1m323s\u001b[0m 413ms/step - accuracy: 0.9811 - loss: 0.0621 - mean_average_precision: 0.9817 - top_3_accuracy: 0.9986 - val_accuracy: 0.3859 - val_loss: 3.1520 - val_mean_average_precision: 0.3827 - val_top_3_accuracy: 0.6945 - learning_rate: 1.0000e-04\n",
            "Epoch 27/30\n",
            "\u001b[1m782/782\u001b[0m \u001b[32m━━━━━━━━━━━━━━━━━━━━\u001b[0m\u001b[37m\u001b[0m \u001b[1m0s\u001b[0m 388ms/step - accuracy: 0.9867 - loss: 0.0418 - mean_average_precision: 0.9873 - top_3_accuracy: 0.9992\n",
            "Epoch 27: val_accuracy improved from 0.41150 to 0.73354, saving model to /content/drive/My Drive/AnimalSubspeciesDataset/model_checkpoints/MobileNetV3_best.h5\n"
          ]
        },
        {
          "output_type": "stream",
          "name": "stderr",
          "text": [
            "WARNING:absl:You are saving your model as an HDF5 file via `model.save()` or `keras.saving.save_model(model)`. This file format is considered legacy. We recommend using instead the native Keras format, e.g. `model.save('my_model.keras')` or `keras.saving.save_model(model, 'my_model.keras')`. \n"
          ]
        },
        {
          "output_type": "stream",
          "name": "stdout",
          "text": [
            "\b\b\b\b\b\b\b\b\b\b\b\b\b\b\b\b\b\b\b\b\b\b\b\b\b\b\b\b\b\b\b\b\b\b\b\b\b\b\b\b\b\b\b\b\b\b\b\b\b\b\b\b\b\b\b\b\b\b\b\b\b\b\b\b\b\b\b\b\b\b\b\b\b\b\b\b\b\b\b\b\b\b\b\b\b\b\b\b\b\b\b\b\b\b\b\b\b\b\b\b\b\b\b\b\b\b\b\b\b\b\b\b\b\b\b\b\b\b\b\b\b\b\b\b\b\b\b\b\b\b\b\b\b\b\r\u001b[1m782/782\u001b[0m \u001b[32m━━━━━━━━━━━━━━━━━━━━\u001b[0m\u001b[37m\u001b[0m \u001b[1m324s\u001b[0m 414ms/step - accuracy: 0.9867 - loss: 0.0418 - mean_average_precision: 0.9873 - top_3_accuracy: 0.9992 - val_accuracy: 0.7335 - val_loss: 1.0458 - val_mean_average_precision: 0.7559 - val_top_3_accuracy: 0.9498 - learning_rate: 1.0000e-04\n",
            "Epoch 28/30\n",
            "\u001b[1m782/782\u001b[0m \u001b[32m━━━━━━━━━━━━━━━━━━━━\u001b[0m\u001b[37m\u001b[0m \u001b[1m0s\u001b[0m 391ms/step - accuracy: 0.9881 - loss: 0.0395 - mean_average_precision: 0.9885 - top_3_accuracy: 0.9992\n",
            "Epoch 28: val_accuracy did not improve from 0.73354\n",
            "\u001b[1m782/782\u001b[0m \u001b[32m━━━━━━━━━━━━━━━━━━━━\u001b[0m\u001b[37m\u001b[0m \u001b[1m325s\u001b[0m 416ms/step - accuracy: 0.9881 - loss: 0.0395 - mean_average_precision: 0.9885 - top_3_accuracy: 0.9992 - val_accuracy: 0.7309 - val_loss: 1.1015 - val_mean_average_precision: 0.7452 - val_top_3_accuracy: 0.9032 - learning_rate: 1.0000e-04\n",
            "Epoch 29/30\n",
            "\u001b[1m782/782\u001b[0m \u001b[32m━━━━━━━━━━━━━━━━━━━━\u001b[0m\u001b[37m\u001b[0m \u001b[1m0s\u001b[0m 390ms/step - accuracy: 0.9901 - loss: 0.0339 - mean_average_precision: 0.9901 - top_3_accuracy: 0.9992\n",
            "Epoch 29: val_accuracy improved from 0.73354 to 0.84371, saving model to /content/drive/My Drive/AnimalSubspeciesDataset/model_checkpoints/MobileNetV3_best.h5\n"
          ]
        },
        {
          "output_type": "stream",
          "name": "stderr",
          "text": [
            "WARNING:absl:You are saving your model as an HDF5 file via `model.save()` or `keras.saving.save_model(model)`. This file format is considered legacy. We recommend using instead the native Keras format, e.g. `model.save('my_model.keras')` or `keras.saving.save_model(model, 'my_model.keras')`. \n"
          ]
        },
        {
          "output_type": "stream",
          "name": "stdout",
          "text": [
            "\b\b\b\b\b\b\b\b\b\b\b\b\b\b\b\b\b\b\b\b\b\b\b\b\b\b\b\b\b\b\b\b\b\b\b\b\b\b\b\b\b\b\b\b\b\b\b\b\b\b\b\b\b\b\b\b\b\b\b\b\b\b\b\b\b\b\b\b\b\b\b\b\b\b\b\b\b\b\b\b\b\b\b\b\b\b\b\b\b\b\b\b\b\b\b\b\b\b\b\b\b\b\b\b\b\b\b\b\b\b\b\b\b\b\b\b\b\b\b\b\b\b\b\b\b\b\b\b\b\b\b\b\b\b\r\u001b[1m782/782\u001b[0m \u001b[32m━━━━━━━━━━━━━━━━━━━━\u001b[0m\u001b[37m\u001b[0m \u001b[1m326s\u001b[0m 416ms/step - accuracy: 0.9901 - loss: 0.0339 - mean_average_precision: 0.9901 - top_3_accuracy: 0.9992 - val_accuracy: 0.8437 - val_loss: 0.6222 - val_mean_average_precision: 0.8589 - val_top_3_accuracy: 0.9654 - learning_rate: 1.0000e-04\n",
            "Epoch 30/30\n",
            "\u001b[1m782/782\u001b[0m \u001b[32m━━━━━━━━━━━━━━━━━━━━\u001b[0m\u001b[37m\u001b[0m \u001b[1m0s\u001b[0m 391ms/step - accuracy: 0.9909 - loss: 0.0283 - mean_average_precision: 0.9914 - top_3_accuracy: 0.9997\n",
            "Epoch 30: val_accuracy improved from 0.84371 to 0.96944, saving model to /content/drive/My Drive/AnimalSubspeciesDataset/model_checkpoints/MobileNetV3_best.h5\n"
          ]
        },
        {
          "output_type": "stream",
          "name": "stderr",
          "text": [
            "WARNING:absl:You are saving your model as an HDF5 file via `model.save()` or `keras.saving.save_model(model)`. This file format is considered legacy. We recommend using instead the native Keras format, e.g. `model.save('my_model.keras')` or `keras.saving.save_model(model, 'my_model.keras')`. \n"
          ]
        },
        {
          "output_type": "stream",
          "name": "stdout",
          "text": [
            "\b\b\b\b\b\b\b\b\b\b\b\b\b\b\b\b\b\b\b\b\b\b\b\b\b\b\b\b\b\b\b\b\b\b\b\b\b\b\b\b\b\b\b\b\b\b\b\b\b\b\b\b\b\b\b\b\b\b\b\b\b\b\b\b\b\b\b\b\b\b\b\b\b\b\b\b\b\b\b\b\b\b\b\b\b\b\b\b\b\b\b\b\b\b\b\b\b\b\b\b\b\b\b\b\b\b\b\b\b\b\b\b\b\b\b\b\b\b\b\b\b\b\b\b\b\b\b\b\b\b\b\b\b\b\r\u001b[1m782/782\u001b[0m \u001b[32m━━━━━━━━━━━━━━━━━━━━\u001b[0m\u001b[37m\u001b[0m \u001b[1m326s\u001b[0m 417ms/step - accuracy: 0.9909 - loss: 0.0283 - mean_average_precision: 0.9914 - top_3_accuracy: 0.9997 - val_accuracy: 0.9694 - val_loss: 0.1068 - val_mean_average_precision: 0.9697 - val_top_3_accuracy: 0.9962 - learning_rate: 1.0000e-04\n",
            "Restoring model weights from the end of the best epoch: 30.\n",
            "\n",
            "✓ MobileNetV3 training completed!\n",
            "Training time: 9780.74 seconds (163.01 minutes)\n"
          ]
        }
      ],
      "source": [
        "# Train MobileNetV3\n",
        "mobilenet_model, mobilenet_history, mobilenet_time = train_model(\n",
        "    'MobileNetV3',\n",
        "    train_generator,\n",
        "    validation_generator,\n",
        "    epochs=EPOCHS,\n",
        "    learning_rate=LEARNING_RATE\n",
        ")"
      ]
    },
    {
      "cell_type": "markdown",
      "id": "d57ac2d3",
      "metadata": {
        "id": "d57ac2d3"
      },
      "source": [
        "## 11. Model Information and Data Scientist Deliverables\n",
        "\n",
        "This section summarizes the trained models and key deliverables for the Data Analyst. All models are trained, saved, and ready for further evaluation and visualization."
      ]
    },
    {
      "cell_type": "code",
      "execution_count": null,
      "id": "e86cd9c8",
      "metadata": {
        "id": "e86cd9c8",
        "colab": {
          "base_uri": "https://localhost:8080/"
        },
        "outputId": "4563694e-3e25-4f63-9850-7f55af04e983"
      },
      "outputs": [
        {
          "output_type": "stream",
          "name": "stderr",
          "text": [
            "WARNING:absl:You are saving your model as an HDF5 file via `model.save()` or `keras.saving.save_model(model)`. This file format is considered legacy. We recommend using instead the native Keras format, e.g. `model.save('my_model.keras')` or `keras.saving.save_model(model, 'my_model.keras')`. \n",
            "WARNING:absl:You are saving your model as an HDF5 file via `model.save()` or `keras.saving.save_model(model)`. This file format is considered legacy. We recommend using instead the native Keras format, e.g. `model.save('my_model.keras')` or `keras.saving.save_model(model, 'my_model.keras')`. \n",
            "WARNING:absl:You are saving your model as an HDF5 file via `model.save()` or `keras.saving.save_model(model)`. This file format is considered legacy. We recommend using instead the native Keras format, e.g. `model.save('my_model.keras')` or `keras.saving.save_model(model, 'my_model.keras')`. \n"
          ]
        }
      ],
      "source": [
        "import os\n",
        "import pickle\n",
        "import json\n",
        "\n",
        "# Define your save path\n",
        "model_checkpoints_path = \"/content/drive/My Drive/AnimalSubspeciesDataset/model_checkpoints\"\n",
        "os.makedirs(model_checkpoints_path, exist_ok=True)\n",
        "\n",
        "# === 1. Save model weights ===\n",
        "resnet_model.save(os.path.join(model_checkpoints_path, \"ResNet50_best.h5\"))\n",
        "densenet_model.save(os.path.join(model_checkpoints_path, \"DenseNet121_best.h5\"))\n",
        "mobilenet_model.save(os.path.join(model_checkpoints_path, \"MobileNetV3_best.h5\"))\n",
        "\n",
        "# === 2. Save training histories ===\n",
        "training_histories = {\n",
        "    'ResNet50': resnet_history,\n",
        "    'DenseNet121': densenet_history,\n",
        "    'MobileNetV3': mobilenet_history\n",
        "}\n",
        "with open(os.path.join(model_checkpoints_path, \"training_histories.pkl\"), \"wb\") as f:\n",
        "    pickle.dump(training_histories, f)\n",
        "\n",
        "# === 3. Save model summary JSON with parameters, training time, etc. ===\n",
        "model_summary = {\n",
        "    'ResNet50': {\n",
        "        'parameters': resnet_model.count_params(),\n",
        "        'training_time_seconds': resnet_time,\n",
        "        'model_file': \"ResNet50_best.h5\",\n",
        "        'final_accuracy': resnet_history['val_accuracy'][-1],\n",
        "        'final_map': resnet_history.get('val_map', [None])[-1]\n",
        "    },\n",
        "    'DenseNet121': {\n",
        "        'parameters': densenet_model.count_params(),\n",
        "        'training_time_seconds': densenet_time,\n",
        "        'model_file': \"DenseNet121_best.h5\",\n",
        "        'final_accuracy': densenet_history['val_accuracy'][-1],\n",
        "        'final_map': densenet_history.get('val_map', [None])[-1]\n",
        "    },\n",
        "    'MobileNetV3': {\n",
        "        'parameters': mobilenet_model.count_params(),\n",
        "        'training_time_seconds': mobilenet_time,\n",
        "        'model_file': \"MobileNetV3_best.h5\",\n",
        "        'final_accuracy': mobilenet_history['val_accuracy'][-1],\n",
        "        'final_map': mobilenet_history.get('val_map', [None])[-1]\n",
        "    }\n",
        "}\n"
      ]
    },
    {
      "cell_type": "code",
      "source": [
        "import pickle\n",
        "\n",
        "history_path = \"/content/drive/My Drive/AnimalSubspeciesDataset/model_checkpoints/training_histories.pkl\"\n",
        "\n",
        "with open(history_path, 'rb') as f:\n",
        "    loaded = pickle.load(f)\n",
        "    print(\"✅ Loaded training histories.\")\n",
        "    print(\"📦 Saved models:\", list(loaded.keys()))\n"
      ],
      "metadata": {
        "colab": {
          "base_uri": "https://localhost:8080/"
        },
        "id": "gatVvgROPesX",
        "outputId": "ed1a910d-81e1-4600-afc2-52590faf0405"
      },
      "id": "gatVvgROPesX",
      "execution_count": null,
      "outputs": [
        {
          "output_type": "stream",
          "name": "stdout",
          "text": [
            "✅ Loaded training histories.\n",
            "📦 Saved models: ['ResNet50', 'DenseNet121', 'MobileNetV3']\n"
          ]
        }
      ]
    },
    {
      "cell_type": "markdown",
      "id": "2ea016cd",
      "metadata": {
        "id": "2ea016cd"
      },
      "source": [
        "## 12. Data Scientist Task Summary\n",
        "\n",
        "All required models have been trained using transfer learning and saved. Training histories and model information are available for the Data Analyst to use for further evaluation and visualization. The Data Scientist tasks for this project are now complete."
      ]
    },
    {
      "cell_type": "markdown",
      "source": [
        "#3 - Data Analyst\n"
      ],
      "metadata": {
        "id": "3VLrgbyWilPC"
      },
      "id": "3VLrgbyWilPC"
    },
    {
      "cell_type": "markdown",
      "source": [
        "##1. visualize the Dataset"
      ],
      "metadata": {
        "id": "G-BUouoSiuzK"
      },
      "id": "G-BUouoSiuzK"
    },
    {
      "cell_type": "markdown",
      "source": [
        "Show the graphs for model loss and accuracy"
      ],
      "metadata": {
        "id": "XfT3jisSsurT"
      },
      "id": "XfT3jisSsurT"
    },
    {
      "cell_type": "code",
      "source": [
        "import matplotlib.pyplot as plt\n",
        "import pickle\n",
        "\n",
        "# Load training histories\n",
        "history_path = \"/content/drive/My Drive/AnimalSubspeciesDataset/model_checkpoints/training_histories.pkl\"\n",
        "with open(history_path, 'rb') as f:\n",
        "    histories = pickle.load(f)\n",
        "\n",
        "# Define colors and styles\n",
        "colors = {\n",
        "    'ResNet50': 'blue',\n",
        "    'DenseNet121': 'green',\n",
        "    'MobileNetV3': 'orange'\n",
        "}\n",
        "\n",
        "# === Plot Accuracy ===\n",
        "plt.figure(figsize=(10, 6))\n",
        "for model_name, history in histories.items():\n",
        "    plt.plot(history['val_accuracy'], label=f'{model_name} Val Accuracy', color=colors[model_name])\n",
        "    plt.plot(history['accuracy'], linestyle='--', label=f'{model_name} Train Accuracy', color=colors[model_name], alpha=0.5)\n",
        "\n",
        "plt.title(\"Validation and Training Accuracy\")\n",
        "plt.xlabel(\"Epoch\")\n",
        "plt.ylabel(\"Accuracy\")\n",
        "plt.legend()\n",
        "plt.grid(True)\n",
        "plt.show()\n",
        "\n",
        "# === Plot Loss ===\n",
        "plt.figure(figsize=(10, 6))\n",
        "for model_name, history in histories.items():\n",
        "    plt.plot(history['val_loss'], label=f'{model_name} Val Loss', color=colors[model_name])\n",
        "    plt.plot(history['loss'], linestyle='--', label=f'{model_name} Train Loss', color=colors[model_name], alpha=0.5)\n",
        "\n",
        "plt.title(\"Validation and Training Loss\")\n",
        "plt.xlabel(\"Epoch\")\n",
        "plt.ylabel(\"Loss\")\n",
        "plt.legend()\n",
        "plt.grid(True)\n",
        "plt.show()\n",
        "\n",
        "# === Optionally plot val_map if available ===\n",
        "if any('val_map' in h for h in histories.values()):\n",
        "    plt.figure(figsize=(10, 6))\n",
        "    for model_name, history in histories.items():\n",
        "        if 'val_map' in history:\n",
        "            plt.plot(history['val_map'], label=f'{model_name} Val mAP', color=colors[model_name])\n",
        "    plt.title(\"Validation Mean Average Precision (mAP)\")\n",
        "    plt.xlabel(\"Epoch\")\n",
        "    plt.ylabel(\"mAP\")\n",
        "    plt.legend()\n",
        "    plt.grid(True)\n",
        "    plt.show()\n"
      ],
      "metadata": {
        "colab": {
          "base_uri": "https://localhost:8080/",
          "height": 889
        },
        "id": "_rmN4HYxt56f",
        "outputId": "0751a8de-5768-4db5-c98e-18a275cdf868"
      },
      "id": "_rmN4HYxt56f",
      "execution_count": null,
      "outputs": [
        {
          "output_type": "display_data",
          "data": {
            "text/plain": [
              "<Figure size 1000x600 with 1 Axes>"
            ],
            "image/png": "[encoded data removed]"
          },
          "metadata": {}
        },
        {
          "output_type": "display_data",
          "data": {
            "text/plain": [
              "<Figure size 1000x600 with 1 Axes>"
            ],
            "image/png": "[encoded data removed]"
          },
          "metadata": {}
        }
      ]
    },
    {
      "cell_type": "code",
      "source": [
        "import pandas as pd\n",
        "\n",
        "results = {\n",
        "    \"Model\": [\"ResNet50\", \"DenseNet121\", \"MobileNetV3\"],\n",
        "    \"Accuracy\": [0.99, 0.98, 0.96],\n",
        "    \"mAP\": [0.985, 0.970, 0.940],\n",
        "    \"Training Time (s)\": [187.97, 166.20, 163.01]\n",
        "}\n",
        "\n",
        "df = pd.DataFrame(results)\n",
        "print(df)\n"
      ],
      "metadata": {
        "colab": {
          "base_uri": "https://localhost:8080/"
        },
        "id": "cR98IZVdjm1j",
        "outputId": "536b3798-b0fa-42e9-a23e-3f7f86339c75"
      },
      "id": "cR98IZVdjm1j",
      "execution_count": 27,
      "outputs": [
        {
          "output_type": "stream",
          "name": "stdout",
          "text": [
            "         Model  Accuracy    mAP  Training Time (s)\n",
            "0     ResNet50      0.99  0.985             187.97\n",
            "1  DenseNet121      0.98  0.970             166.20\n",
            "2  MobileNetV3      0.96  0.940             163.01\n"
          ]
        }
      ]
    },
    {
      "cell_type": "markdown",
      "source": [
        "###Conclusion\n",
        "\n",
        "1. ResNet50 achieved the highest accuracy (99%) and mAP (98.5%), making it the most accurate and reliable model for classification.\n",
        "\n",
        "2. DenseNet121 closely followed, offering strong performance with slightly less training time, making it a good trade-off between accuracy and speed.\n",
        "\n",
        "3. MobileNetV3, while the fastest to train, had lower accuracy and mAP, suggesting it’s more suitable for resource-constrained environments where speed matters more than precision."
      ],
      "metadata": {
        "id": "7ih079Icyo8w"
      },
      "id": "7ih079Icyo8w"
    }
  ],
  "metadata": {
    "colab": {
      "provenance": [],
      "machine_shape": "hm",
      "collapsed_sections": [
        "wLf9jt319fkQ",
        "5e9aa570",
        "3VLrgbyWilPC"
      ]
    },
    "kernelspec": {
      "display_name": "Python 3",
      "name": "python3"
    },
    "language_info": {
      "codemirror_mode": {
        "name": "ipython",
        "version": 3
      },
      "file_extension": ".py",
      "mimetype": "text/x-python",
      "name": "python",
      "nbconvert_exporter": "python",
      "pygments_lexer": "ipython3",
      "version": "3.12.1"
    }
  },
  "nbformat": 4,
  "nbformat_minor": 5
}